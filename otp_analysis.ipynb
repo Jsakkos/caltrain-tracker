{
 "cells": [
  {
   "cell_type": "code",
   "execution_count": 86,
   "metadata": {},
   "outputs": [],
   "source": [
    "import sqlite3\n",
    "import pandas as pd\n",
    "import seaborn as sns\n",
    "import math\n",
    "from datetime import datetime\n",
    "import plotly.express as px"
   ]
  },
  {
   "cell_type": "code",
   "execution_count": 87,
   "metadata": {},
   "outputs": [],
   "source": [
    "\n",
    "\n",
    "# Connect to the SQLite database\n",
    "conn = sqlite3.connect(r'data/caltrain_lat_long.db')\n",
    "\n",
    "# Query the database and load the results into a pandas DataFrame\n",
    "query = \"\"\"\n",
    "SELECT *\n",
    "FROM train_locations\n",
    "\"\"\"\n",
    "df = pd.read_sql_query(query, conn)\n",
    "\n",
    "# Close the connection\n",
    "conn.close()"
   ]
  },
  {
   "cell_type": "code",
   "execution_count": 88,
   "metadata": {},
   "outputs": [],
   "source": [
    "df['stop_id'] = df['stop_id'].astype(int)\n",
    "\n",
    "df['trip_id'] = df['trip_id'].astype(int)"
   ]
  },
  {
   "cell_type": "code",
   "execution_count": 89,
   "metadata": {},
   "outputs": [],
   "source": [
    "def load_stops_data():\n",
    "    stops_df = pd.read_csv('gtfs_data/stops.txt')\n",
    "    stops_df = stops_df[stops_df['stop_id'].str.isnumeric()]\n",
    "    return stops_df\n",
    "def load_stop_times_data():\n",
    "    stop_times_df = pd.read_csv('gtfs_data/stop_times.txt')\n",
    "    return stop_times_df\n",
    "def haversine(lat1, lon1, lat2, lon2):\n",
    "    lat1, lon1, lat2, lon2 = map(math.radians, [lat1, lon1, lat2, lon2])\n",
    "    dlat = lat2 - lat1\n",
    "    dlon = lon2 - lon1\n",
    "    a = math.sin(dlat / 2)**2 + math.cos(lat1) * math.cos(lat2) * math.sin(dlon / 2)**2\n",
    "    c = 2 * math.atan2(math.sqrt(a), math.sqrt(1 - a))\n",
    "    r = 6371000  # Radius of Earth in meters\n",
    "    return r * c\n",
    "\n",
    "def has_train_arrived(train_lat, train_lon, stop_lat, stop_lon, threshold=100):\n",
    "    distance = haversine(train_lat, train_lon, stop_lat, stop_lon)\n",
    "    return distance <= threshold"
   ]
  },
  {
   "cell_type": "code",
   "execution_count": 90,
   "metadata": {},
   "outputs": [],
   "source": [
    "stops_df = load_stops_data()\n",
    "stop_times_df = load_stop_times_data()\n",
    "stops_df['stop_id'] = stops_df['stop_id'].astype(int)"
   ]
  },
  {
   "cell_type": "code",
   "execution_count": 91,
   "metadata": {},
   "outputs": [
    {
     "data": {
      "text/html": [
       "<div>\n",
       "<style scoped>\n",
       "    .dataframe tbody tr th:only-of-type {\n",
       "        vertical-align: middle;\n",
       "    }\n",
       "\n",
       "    .dataframe tbody tr th {\n",
       "        vertical-align: top;\n",
       "    }\n",
       "\n",
       "    .dataframe thead th {\n",
       "        text-align: right;\n",
       "    }\n",
       "</style>\n",
       "<table border=\"1\" class=\"dataframe\">\n",
       "  <thead>\n",
       "    <tr style=\"text-align: right;\">\n",
       "      <th></th>\n",
       "      <th>stop_id</th>\n",
       "      <th>stop_code</th>\n",
       "      <th>stop_name</th>\n",
       "      <th>stop_lat</th>\n",
       "      <th>stop_lon</th>\n",
       "      <th>zone_id</th>\n",
       "      <th>stop_desc</th>\n",
       "      <th>stop_url</th>\n",
       "      <th>location_type</th>\n",
       "      <th>parent_station</th>\n",
       "      <th>stop_timezone</th>\n",
       "      <th>wheelchair_boarding</th>\n",
       "      <th>platform_code</th>\n",
       "    </tr>\n",
       "  </thead>\n",
       "  <tbody>\n",
       "    <tr>\n",
       "      <th>78</th>\n",
       "      <td>70011</td>\n",
       "      <td>70011</td>\n",
       "      <td>San Francisco Caltrain Station Northbound</td>\n",
       "      <td>37.776390</td>\n",
       "      <td>-122.394992</td>\n",
       "      <td>74634</td>\n",
       "      <td>NaN</td>\n",
       "      <td>NaN</td>\n",
       "      <td>0</td>\n",
       "      <td>san_francisco</td>\n",
       "      <td>NaN</td>\n",
       "      <td>1</td>\n",
       "      <td>NaN</td>\n",
       "    </tr>\n",
       "    <tr>\n",
       "      <th>79</th>\n",
       "      <td>70012</td>\n",
       "      <td>70012</td>\n",
       "      <td>San Francisco Caltrain Station Southbound</td>\n",
       "      <td>37.776348</td>\n",
       "      <td>-122.394935</td>\n",
       "      <td>74634</td>\n",
       "      <td>NaN</td>\n",
       "      <td>NaN</td>\n",
       "      <td>0</td>\n",
       "      <td>san_francisco</td>\n",
       "      <td>NaN</td>\n",
       "      <td>1</td>\n",
       "      <td>NaN</td>\n",
       "    </tr>\n",
       "    <tr>\n",
       "      <th>1</th>\n",
       "      <td>70021</td>\n",
       "      <td>70021</td>\n",
       "      <td>22nd Street Caltrain Station Northbound</td>\n",
       "      <td>37.757599</td>\n",
       "      <td>-122.391880</td>\n",
       "      <td>74634</td>\n",
       "      <td>NaN</td>\n",
       "      <td>NaN</td>\n",
       "      <td>0</td>\n",
       "      <td>22nd_street</td>\n",
       "      <td>NaN</td>\n",
       "      <td>2</td>\n",
       "      <td>NaN</td>\n",
       "    </tr>\n",
       "    <tr>\n",
       "      <th>2</th>\n",
       "      <td>70022</td>\n",
       "      <td>70022</td>\n",
       "      <td>22nd Street Caltrain Station Southbound</td>\n",
       "      <td>37.757583</td>\n",
       "      <td>-122.392404</td>\n",
       "      <td>74634</td>\n",
       "      <td>NaN</td>\n",
       "      <td>NaN</td>\n",
       "      <td>0</td>\n",
       "      <td>22nd_street</td>\n",
       "      <td>NaN</td>\n",
       "      <td>2</td>\n",
       "      <td>NaN</td>\n",
       "    </tr>\n",
       "    <tr>\n",
       "      <th>4</th>\n",
       "      <td>70031</td>\n",
       "      <td>70031</td>\n",
       "      <td>Bayshore Caltrain Station Northbound</td>\n",
       "      <td>37.709537</td>\n",
       "      <td>-122.401586</td>\n",
       "      <td>74634</td>\n",
       "      <td>NaN</td>\n",
       "      <td>NaN</td>\n",
       "      <td>0</td>\n",
       "      <td>bayshore</td>\n",
       "      <td>NaN</td>\n",
       "      <td>1</td>\n",
       "      <td>NaN</td>\n",
       "    </tr>\n",
       "  </tbody>\n",
       "</table>\n",
       "</div>"
      ],
      "text/plain": [
       "    stop_id stop_code                                  stop_name   stop_lat  \\\n",
       "78    70011     70011  San Francisco Caltrain Station Northbound  37.776390   \n",
       "79    70012     70012  San Francisco Caltrain Station Southbound  37.776348   \n",
       "1     70021     70021    22nd Street Caltrain Station Northbound  37.757599   \n",
       "2     70022     70022    22nd Street Caltrain Station Southbound  37.757583   \n",
       "4     70031     70031       Bayshore Caltrain Station Northbound  37.709537   \n",
       "\n",
       "      stop_lon  zone_id  stop_desc stop_url  location_type parent_station  \\\n",
       "78 -122.394992    74634        NaN      NaN              0  san_francisco   \n",
       "79 -122.394935    74634        NaN      NaN              0  san_francisco   \n",
       "1  -122.391880    74634        NaN      NaN              0    22nd_street   \n",
       "2  -122.392404    74634        NaN      NaN              0    22nd_street   \n",
       "4  -122.401586    74634        NaN      NaN              0       bayshore   \n",
       "\n",
       "   stop_timezone  wheelchair_boarding  platform_code  \n",
       "78           NaN                    1            NaN  \n",
       "79           NaN                    1            NaN  \n",
       "1            NaN                    2            NaN  \n",
       "2            NaN                    2            NaN  \n",
       "4            NaN                    1            NaN  "
      ]
     },
     "execution_count": 91,
     "metadata": {},
     "output_type": "execute_result"
    }
   ],
   "source": [
    "stops_df=stops_df.sort_values(by='stop_id')\n",
    "stops_df.head()"
   ]
  },
  {
   "cell_type": "code",
   "execution_count": 92,
   "metadata": {},
   "outputs": [],
   "source": [
    "df2 = pd.merge(df,stop_times_df[['trip_id','stop_id','arrival_time']],on=['trip_id','stop_id'])\n",
    "df2 = pd.merge(df2,stops_df[['stop_id','stop_name','parent_station','stop_lat','stop_lon']],on=['stop_id'])"
   ]
  },
  {
   "cell_type": "code",
   "execution_count": 93,
   "metadata": {},
   "outputs": [],
   "source": [
    "# Apply the Haversine function to calculate distance for each row\n",
    "df2['distance'] = df2.apply(lambda row: haversine(row['vehicle_lat'], row['vehicle_lon'], row['stop_lat'], row['stop_lon']), axis=1)\n"
   ]
  },
  {
   "cell_type": "code",
   "execution_count": 94,
   "metadata": {},
   "outputs": [],
   "source": [
    "df2['timestamp']=pd.to_datetime(df2['timestamp'])\n",
    "df2['date'] = df2['timestamp'].dt.date"
   ]
  },
  {
   "cell_type": "code",
   "execution_count": 95,
   "metadata": {},
   "outputs": [],
   "source": [
    "def normalize_time(t):\n",
    "    if int(t.split(\":\")[0]) >= 24:\n",
    "        return \"00\" + t[2:]\n",
    "    return t\n",
    "# Normalize the arrival times\n"
   ]
  },
  {
   "cell_type": "code",
   "execution_count": 96,
   "metadata": {},
   "outputs": [
    {
     "name": "stdout",
     "output_type": "stream",
     "text": [
      "Total unique trips: 5688\n",
      "On-time trips: 5331\n",
      "On-time performance: 93.72%\n"
     ]
    }
   ],
   "source": [
    "import pandas as pd\n",
    "from datetime import datetime, time, timedelta\n",
    "\n",
    "\n",
    "# Normalize the arrival times\n",
    "def normalize_time(t):\n",
    "    if int(t.split(\":\")[0]) >= 24:\n",
    "        return \"00\" + t[2:]\n",
    "    return t\n",
    "\n",
    "df2['arrival_time'] = df2['arrival_time'].apply(normalize_time)\n",
    "\n",
    "# Convert 'timestamp' to datetime\n",
    "df2['timestamp'] = pd.to_datetime(df2['timestamp'])\n",
    "df2['arrival_time'] = pd.to_datetime(df2['arrival_time'], format='%H:%M:%S').dt.time\n",
    "\n",
    "# Function to calculate time difference in minutes\n",
    "def calculate_time_difference(time1, time2):\n",
    "    datetime1 = datetime.combine(datetime.today(), time1)\n",
    "    datetime2 = datetime.combine(datetime.today(), time2)\n",
    "    time_diff = datetime2 - datetime1\n",
    "    return time_diff.total_seconds() / 60  # Return the difference in minutes\n",
    "\n",
    "# Find the minimum distance for each combination of trip_id, stop_id, and date\n",
    "min_distances = df2.groupby(['trip_id', 'stop_id', 'date'])['distance'].min().reset_index()\n",
    "\n",
    "# Merge the minimum distances back to the original dataframe\n",
    "merged_df = pd.merge(df2, min_distances, on=['trip_id', 'stop_id', 'date', 'distance'])\n",
    "\n",
    "arrival_times = merged_df.groupby(['trip_id', 'stop_id', 'date']).first().reset_index()\n",
    "arrival_times = arrival_times[['trip_id', 'stop_id', 'date', 'timestamp']]\n",
    "arrival_times.rename(columns={'timestamp': 'actual_arrival_time'}, inplace=True)\n",
    "\n",
    "# Merge with the original dataframe to get the scheduled arrival time\n",
    "comparison_df = pd.merge(arrival_times, df2[['trip_id', 'stop_id', 'stop_name','parent_station','date', 'arrival_time']], on=['trip_id', 'stop_id', 'date'])\n",
    "\n",
    "# Calculate the delay in minutes\n",
    "comparison_df['delay_minutes'] = comparison_df.apply(\n",
    "    lambda row: calculate_time_difference(row['actual_arrival_time'].time(), row['arrival_time']), axis=1\n",
    ")\n",
    "comparison_df.loc[comparison_df.delay_minutes > 500,'delay_minutes'] = 0.0\n",
    "comparison_df.loc[comparison_df.delay_minutes < -100,'delay_minutes'] = 0.0\n",
    "# Determine if the train is delayed\n",
    "comparison_df['is_delayed'] = comparison_df['delay_minutes'] > 4\n",
    "\n",
    "# Calculate the overall on-time performance based on unique trip counts\n",
    "unique_trips = comparison_df.drop_duplicates(subset=['trip_id', 'stop_id', 'date'])\n",
    "total_trips = len(unique_trips)\n",
    "on_time_trips = len(unique_trips[unique_trips['is_delayed'] == False])\n",
    "on_time_performance = (on_time_trips / total_trips) * 100\n",
    "\n",
    "# print(comparison_df)\n",
    "print(f\"Total unique trips: {total_trips}\")\n",
    "print(f\"On-time trips: {on_time_trips}\")\n",
    "print(f\"On-time performance: {on_time_performance:.2f}%\")\n"
   ]
  },
  {
   "cell_type": "code",
   "execution_count": 97,
   "metadata": {},
   "outputs": [
    {
     "data": {
      "text/plain": [
       "0        15:52:00\n",
       "1        15:50:00\n",
       "2        16:03:00\n",
       "3        17:05:00\n",
       "4        15:52:00\n",
       "           ...   \n",
       "43946    13:32:00\n",
       "43947    13:34:00\n",
       "43948    13:34:00\n",
       "43949    13:34:00\n",
       "43950    13:58:00\n",
       "Name: arrival_time, Length: 43951, dtype: object"
      ]
     },
     "execution_count": 97,
     "metadata": {},
     "output_type": "execute_result"
    }
   ],
   "source": [
    "df2['arrival_time']"
   ]
  },
  {
   "cell_type": "code",
   "execution_count": 98,
   "metadata": {},
   "outputs": [
    {
     "data": {
      "text/plain": [
       "0       2024-07-07 15:48:54\n",
       "1       2024-07-07 15:48:54\n",
       "2       2024-07-07 15:48:54\n",
       "3       2024-07-07 15:48:54\n",
       "4       2024-07-07 15:49:54\n",
       "                ...        \n",
       "43946   2024-07-14 13:33:34\n",
       "43947   2024-07-14 13:33:34\n",
       "43948   2024-07-14 13:33:34\n",
       "43949   2024-07-14 13:33:34\n",
       "43950   2024-07-14 13:33:34\n",
       "Name: timestamp, Length: 43951, dtype: datetime64[ns]"
      ]
     },
     "execution_count": 98,
     "metadata": {},
     "output_type": "execute_result"
    }
   ],
   "source": [
    "df2.timestamp"
   ]
  },
  {
   "cell_type": "code",
   "execution_count": 99,
   "metadata": {},
   "outputs": [
    {
     "data": {
      "text/plain": [
       "<Axes: xlabel='delay_minutes', ylabel='Count'>"
      ]
     },
     "execution_count": 99,
     "metadata": {},
     "output_type": "execute_result"
    },
    {
     "data": {
      "image/png": "[encoded data removed]",
      "text/plain": [
       "<Figure size 640x480 with 1 Axes>"
      ]
     },
     "metadata": {},
     "output_type": "display_data"
    }
   ],
   "source": [
    "sns.histplot(data=unique_trips.loc[unique_trips.delay_minutes >=0],x='delay_minutes')"
   ]
  },
  {
   "cell_type": "code",
   "execution_count": 100,
   "metadata": {},
   "outputs": [
    {
     "name": "stderr",
     "output_type": "stream",
     "text": [
      "C:\\Users\\Jonathan\\AppData\\Local\\Temp\\ipykernel_16932\\3806708418.py:1: SettingWithCopyWarning:\n",
      "\n",
      "\n",
      "A value is trying to be set on a copy of a slice from a DataFrame.\n",
      "Try using .loc[row_indexer,col_indexer] = value instead\n",
      "\n",
      "See the caveats in the documentation: https://pandas.pydata.org/pandas-docs/stable/user_guide/indexing.html#returning-a-view-versus-a-copy\n",
      "\n"
     ]
    }
   ],
   "source": [
    "unique_trips.loc[(unique_trips.delay_minutes >4) & (unique_trips.delay_minutes <=15),'delay_severity'] = 'Minor'\n",
    "unique_trips.loc[(unique_trips.delay_minutes >15),'delay_severity'] = 'Major'"
   ]
  },
  {
   "cell_type": "code",
   "execution_count": 101,
   "metadata": {},
   "outputs": [
    {
     "data": {
      "text/plain": [
       "array([nan, 'Major', 'Minor'], dtype=object)"
      ]
     },
     "execution_count": 101,
     "metadata": {},
     "output_type": "execute_result"
    }
   ],
   "source": [
    "unique_trips['delay_severity'].unique()"
   ]
  },
  {
   "cell_type": "code",
   "execution_count": 102,
   "metadata": {},
   "outputs": [
    {
     "data": {
      "text/plain": [
       "<Axes: xlabel='delay_severity'>"
      ]
     },
     "execution_count": 102,
     "metadata": {},
     "output_type": "execute_result"
    },
    {
     "data": {
      "image/png": "[encoded data removed]",
      "text/plain": [
       "<Figure size 640x480 with 1 Axes>"
      ]
     },
     "metadata": {},
     "output_type": "display_data"
    }
   ],
   "source": [
    "res = unique_trips.groupby('delay_severity').size() / total_trips\n",
    "sns.barplot(res)"
   ]
  },
  {
   "cell_type": "code",
   "execution_count": 103,
   "metadata": {},
   "outputs": [
    {
     "name": "stderr",
     "output_type": "stream",
     "text": [
      "C:\\Users\\Jonathan\\AppData\\Local\\Temp\\ipykernel_16932\\2686362821.py:1: FutureWarning:\n",
      "\n",
      "A value is trying to be set on a copy of a DataFrame or Series through chained assignment using an inplace method.\n",
      "The behavior will change in pandas 3.0. This inplace method will never work because the intermediate object on which we are setting values always behaves as a copy.\n",
      "\n",
      "For example, when doing 'df[col].method(value, inplace=True)', try using 'df.method({col: value}, inplace=True)' or df[col] = df[col].method(value) instead, to perform the operation inplace on the original object.\n",
      "\n",
      "\n",
      "\n",
      "C:\\Users\\Jonathan\\AppData\\Local\\Temp\\ipykernel_16932\\2686362821.py:1: SettingWithCopyWarning:\n",
      "\n",
      "\n",
      "A value is trying to be set on a copy of a slice from a DataFrame\n",
      "\n",
      "See the caveats in the documentation: https://pandas.pydata.org/pandas-docs/stable/user_guide/indexing.html#returning-a-view-versus-a-copy\n",
      "\n"
     ]
    }
   ],
   "source": [
    "unique_trips['delay_severity'].fillna('On Time', inplace=True)\n",
    "\n",
    "# Calculate percentage of delays by severity\n",
    "delay_severity_counts = unique_trips['delay_severity'].value_counts(normalize=True) * 100\n",
    "delay_severity_counts = delay_severity_counts.reset_index()\n",
    "delay_severity_counts.columns = ['delay_severity', 'percentage']"
   ]
  },
  {
   "cell_type": "code",
   "execution_count": 104,
   "metadata": {},
   "outputs": [
    {
     "data": {
      "application/vnd.plotly.v1+json": {
       "config": {
        "plotlyServerURL": "https://plot.ly"
       },
       "data": [
        {
         "alignmentgroup": "True",
         "hovertemplate": "Delay Severity=%{x}<br>Percentage=%{y}<extra></extra>",
         "legendgroup": "",
         "marker": {
          "color": "#636efa",
          "pattern": {
           "shape": ""
          }
         },
         "name": "",
         "offsetgroup": "",
         "orientation": "v",
         "showlegend": false,
         "textposition": "auto",
         "type": "bar",
         "x": [
          "On Time",
          "Major",
          "Minor"
         ],
         "xaxis": "x",
         "y": [
          93.72362869198312,
          5.063291139240507,
          1.2130801687763713
         ],
         "yaxis": "y"
        }
       ],
       "layout": {
        "barmode": "relative",
        "legend": {
         "tracegroupgap": 0
        },
        "template": {
         "data": {
          "bar": [
           {
            "error_x": {
             "color": "#2a3f5f"
            },
            "error_y": {
             "color": "#2a3f5f"
            },
            "marker": {
             "line": {
              "color": "#E5ECF6",
              "width": 0.5
             },
             "pattern": {
              "fillmode": "overlay",
              "size": 10,
              "solidity": 0.2
             }
            },
            "type": "bar"
           }
          ],
          "barpolar": [
           {
            "marker": {
             "line": {
              "color": "#E5ECF6",
              "width": 0.5
             },
             "pattern": {
              "fillmode": "overlay",
              "size": 10,
              "solidity": 0.2
             }
            },
            "type": "barpolar"
           }
          ],
          "carpet": [
           {
            "aaxis": {
             "endlinecolor": "#2a3f5f",
             "gridcolor": "white",
             "linecolor": "white",
             "minorgridcolor": "white",
             "startlinecolor": "#2a3f5f"
            },
            "baxis": {
             "endlinecolor": "#2a3f5f",
             "gridcolor": "white",
             "linecolor": "white",
             "minorgridcolor": "white",
             "startlinecolor": "#2a3f5f"
            },
            "type": "carpet"
           }
          ],
          "choropleth": [
           {
            "colorbar": {
             "outlinewidth": 0,
             "ticks": ""
            },
            "type": "choropleth"
           }
          ],
          "contour": [
           {
            "colorbar": {
             "outlinewidth": 0,
             "ticks": ""
            },
            "colorscale": [
             [
              0,
              "#0d0887"
             ],
             [
              0.1111111111111111,
              "#46039f"
             ],
             [
              0.2222222222222222,
              "#7201a8"
             ],
             [
              0.3333333333333333,
              "#9c179e"
             ],
             [
              0.4444444444444444,
              "#bd3786"
             ],
             [
              0.5555555555555556,
              "#d8576b"
             ],
             [
              0.6666666666666666,
              "#ed7953"
             ],
             [
              0.7777777777777778,
              "#fb9f3a"
             ],
             [
              0.8888888888888888,
              "#fdca26"
             ],
             [
              1,
              "#f0f921"
             ]
            ],
            "type": "contour"
           }
          ],
          "contourcarpet": [
           {
            "colorbar": {
             "outlinewidth": 0,
             "ticks": ""
            },
            "type": "contourcarpet"
           }
          ],
          "heatmap": [
           {
            "colorbar": {
             "outlinewidth": 0,
             "ticks": ""
            },
            "colorscale": [
             [
              0,
              "#0d0887"
             ],
             [
              0.1111111111111111,
              "#46039f"
             ],
             [
              0.2222222222222222,
              "#7201a8"
             ],
             [
              0.3333333333333333,
              "#9c179e"
             ],
             [
              0.4444444444444444,
              "#bd3786"
             ],
             [
              0.5555555555555556,
              "#d8576b"
             ],
             [
              0.6666666666666666,
              "#ed7953"
             ],
             [
              0.7777777777777778,
              "#fb9f3a"
             ],
             [
              0.8888888888888888,
              "#fdca26"
             ],
             [
              1,
              "#f0f921"
             ]
            ],
            "type": "heatmap"
           }
          ],
          "heatmapgl": [
           {
            "colorbar": {
             "outlinewidth": 0,
             "ticks": ""
            },
            "colorscale": [
             [
              0,
              "#0d0887"
             ],
             [
              0.1111111111111111,
              "#46039f"
             ],
             [
              0.2222222222222222,
              "#7201a8"
             ],
             [
              0.3333333333333333,
              "#9c179e"
             ],
             [
              0.4444444444444444,
              "#bd3786"
             ],
             [
              0.5555555555555556,
              "#d8576b"
             ],
             [
              0.6666666666666666,
              "#ed7953"
             ],
             [
              0.7777777777777778,
              "#fb9f3a"
             ],
             [
              0.8888888888888888,
              "#fdca26"
             ],
             [
              1,
              "#f0f921"
             ]
            ],
            "type": "heatmapgl"
           }
          ],
          "histogram": [
           {
            "marker": {
             "pattern": {
              "fillmode": "overlay",
              "size": 10,
              "solidity": 0.2
             }
            },
            "type": "histogram"
           }
          ],
          "histogram2d": [
           {
            "colorbar": {
             "outlinewidth": 0,
             "ticks": ""
            },
            "colorscale": [
             [
              0,
              "#0d0887"
             ],
             [
              0.1111111111111111,
              "#46039f"
             ],
             [
              0.2222222222222222,
              "#7201a8"
             ],
             [
              0.3333333333333333,
              "#9c179e"
             ],
             [
              0.4444444444444444,
              "#bd3786"
             ],
             [
              0.5555555555555556,
              "#d8576b"
             ],
             [
              0.6666666666666666,
              "#ed7953"
             ],
             [
              0.7777777777777778,
              "#fb9f3a"
             ],
             [
              0.8888888888888888,
              "#fdca26"
             ],
             [
              1,
              "#f0f921"
             ]
            ],
            "type": "histogram2d"
           }
          ],
          "histogram2dcontour": [
           {
            "colorbar": {
             "outlinewidth": 0,
             "ticks": ""
            },
            "colorscale": [
             [
              0,
              "#0d0887"
             ],
             [
              0.1111111111111111,
              "#46039f"
             ],
             [
              0.2222222222222222,
              "#7201a8"
             ],
             [
              0.3333333333333333,
              "#9c179e"
             ],
             [
              0.4444444444444444,
              "#bd3786"
             ],
             [
              0.5555555555555556,
              "#d8576b"
             ],
             [
              0.6666666666666666,
              "#ed7953"
             ],
             [
              0.7777777777777778,
              "#fb9f3a"
             ],
             [
              0.8888888888888888,
              "#fdca26"
             ],
             [
              1,
              "#f0f921"
             ]
            ],
            "type": "histogram2dcontour"
           }
          ],
          "mesh3d": [
           {
            "colorbar": {
             "outlinewidth": 0,
             "ticks": ""
            },
            "type": "mesh3d"
           }
          ],
          "parcoords": [
           {
            "line": {
             "colorbar": {
              "outlinewidth": 0,
              "ticks": ""
             }
            },
            "type": "parcoords"
           }
          ],
          "pie": [
           {
            "automargin": true,
            "type": "pie"
           }
          ],
          "scatter": [
           {
            "fillpattern": {
             "fillmode": "overlay",
             "size": 10,
             "solidity": 0.2
            },
            "type": "scatter"
           }
          ],
          "scatter3d": [
           {
            "line": {
             "colorbar": {
              "outlinewidth": 0,
              "ticks": ""
             }
            },
            "marker": {
             "colorbar": {
              "outlinewidth": 0,
              "ticks": ""
             }
            },
            "type": "scatter3d"
           }
          ],
          "scattercarpet": [
           {
            "marker": {
             "colorbar": {
              "outlinewidth": 0,
              "ticks": ""
             }
            },
            "type": "scattercarpet"
           }
          ],
          "scattergeo": [
           {
            "marker": {
             "colorbar": {
              "outlinewidth": 0,
              "ticks": ""
             }
            },
            "type": "scattergeo"
           }
          ],
          "scattergl": [
           {
            "marker": {
             "colorbar": {
              "outlinewidth": 0,
              "ticks": ""
             }
            },
            "type": "scattergl"
           }
          ],
          "scattermapbox": [
           {
            "marker": {
             "colorbar": {
              "outlinewidth": 0,
              "ticks": ""
             }
            },
            "type": "scattermapbox"
           }
          ],
          "scatterpolar": [
           {
            "marker": {
             "colorbar": {
              "outlinewidth": 0,
              "ticks": ""
             }
            },
            "type": "scatterpolar"
           }
          ],
          "scatterpolargl": [
           {
            "marker": {
             "colorbar": {
              "outlinewidth": 0,
              "ticks": ""
             }
            },
            "type": "scatterpolargl"
           }
          ],
          "scatterternary": [
           {
            "marker": {
             "colorbar": {
              "outlinewidth": 0,
              "ticks": ""
             }
            },
            "type": "scatterternary"
           }
          ],
          "surface": [
           {
            "colorbar": {
             "outlinewidth": 0,
             "ticks": ""
            },
            "colorscale": [
             [
              0,
              "#0d0887"
             ],
             [
              0.1111111111111111,
              "#46039f"
             ],
             [
              0.2222222222222222,
              "#7201a8"
             ],
             [
              0.3333333333333333,
              "#9c179e"
             ],
             [
              0.4444444444444444,
              "#bd3786"
             ],
             [
              0.5555555555555556,
              "#d8576b"
             ],
             [
              0.6666666666666666,
              "#ed7953"
             ],
             [
              0.7777777777777778,
              "#fb9f3a"
             ],
             [
              0.8888888888888888,
              "#fdca26"
             ],
             [
              1,
              "#f0f921"
             ]
            ],
            "type": "surface"
           }
          ],
          "table": [
           {
            "cells": {
             "fill": {
              "color": "#EBF0F8"
             },
             "line": {
              "color": "white"
             }
            },
            "header": {
             "fill": {
              "color": "#C8D4E3"
             },
             "line": {
              "color": "white"
             }
            },
            "type": "table"
           }
          ]
         },
         "layout": {
          "annotationdefaults": {
           "arrowcolor": "#2a3f5f",
           "arrowhead": 0,
           "arrowwidth": 1
          },
          "autotypenumbers": "strict",
          "coloraxis": {
           "colorbar": {
            "outlinewidth": 0,
            "ticks": ""
           }
          },
          "colorscale": {
           "diverging": [
            [
             0,
             "#8e0152"
            ],
            [
             0.1,
             "#c51b7d"
            ],
            [
             0.2,
             "#de77ae"
            ],
            [
             0.3,
             "#f1b6da"
            ],
            [
             0.4,
             "#fde0ef"
            ],
            [
             0.5,
             "#f7f7f7"
            ],
            [
             0.6,
             "#e6f5d0"
            ],
            [
             0.7,
             "#b8e186"
            ],
            [
             0.8,
             "#7fbc41"
            ],
            [
             0.9,
             "#4d9221"
            ],
            [
             1,
             "#276419"
            ]
           ],
           "sequential": [
            [
             0,
             "#0d0887"
            ],
            [
             0.1111111111111111,
             "#46039f"
            ],
            [
             0.2222222222222222,
             "#7201a8"
            ],
            [
             0.3333333333333333,
             "#9c179e"
            ],
            [
             0.4444444444444444,
             "#bd3786"
            ],
            [
             0.5555555555555556,
             "#d8576b"
            ],
            [
             0.6666666666666666,
             "#ed7953"
            ],
            [
             0.7777777777777778,
             "#fb9f3a"
            ],
            [
             0.8888888888888888,
             "#fdca26"
            ],
            [
             1,
             "#f0f921"
            ]
           ],
           "sequentialminus": [
            [
             0,
             "#0d0887"
            ],
            [
             0.1111111111111111,
             "#46039f"
            ],
            [
             0.2222222222222222,
             "#7201a8"
            ],
            [
             0.3333333333333333,
             "#9c179e"
            ],
            [
             0.4444444444444444,
             "#bd3786"
            ],
            [
             0.5555555555555556,
             "#d8576b"
            ],
            [
             0.6666666666666666,
             "#ed7953"
            ],
            [
             0.7777777777777778,
             "#fb9f3a"
            ],
            [
             0.8888888888888888,
             "#fdca26"
            ],
            [
             1,
             "#f0f921"
            ]
           ]
          },
          "colorway": [
           "#636efa",
           "#EF553B",
           "#00cc96",
           "#ab63fa",
           "#FFA15A",
           "#19d3f3",
           "#FF6692",
           "#B6E880",
           "#FF97FF",
           "#FECB52"
          ],
          "font": {
           "color": "#2a3f5f"
          },
          "geo": {
           "bgcolor": "white",
           "lakecolor": "white",
           "landcolor": "#E5ECF6",
           "showlakes": true,
           "showland": true,
           "subunitcolor": "white"
          },
          "hoverlabel": {
           "align": "left"
          },
          "hovermode": "closest",
          "mapbox": {
           "style": "light"
          },
          "paper_bgcolor": "white",
          "plot_bgcolor": "#E5ECF6",
          "polar": {
           "angularaxis": {
            "gridcolor": "white",
            "linecolor": "white",
            "ticks": ""
           },
           "bgcolor": "#E5ECF6",
           "radialaxis": {
            "gridcolor": "white",
            "linecolor": "white",
            "ticks": ""
           }
          },
          "scene": {
           "xaxis": {
            "backgroundcolor": "#E5ECF6",
            "gridcolor": "white",
            "gridwidth": 2,
            "linecolor": "white",
            "showbackground": true,
            "ticks": "",
            "zerolinecolor": "white"
           },
           "yaxis": {
            "backgroundcolor": "#E5ECF6",
            "gridcolor": "white",
            "gridwidth": 2,
            "linecolor": "white",
            "showbackground": true,
            "ticks": "",
            "zerolinecolor": "white"
           },
           "zaxis": {
            "backgroundcolor": "#E5ECF6",
            "gridcolor": "white",
            "gridwidth": 2,
            "linecolor": "white",
            "showbackground": true,
            "ticks": "",
            "zerolinecolor": "white"
           }
          },
          "shapedefaults": {
           "line": {
            "color": "#2a3f5f"
           }
          },
          "ternary": {
           "aaxis": {
            "gridcolor": "white",
            "linecolor": "white",
            "ticks": ""
           },
           "baxis": {
            "gridcolor": "white",
            "linecolor": "white",
            "ticks": ""
           },
           "bgcolor": "#E5ECF6",
           "caxis": {
            "gridcolor": "white",
            "linecolor": "white",
            "ticks": ""
           }
          },
          "title": {
           "x": 0.05
          },
          "xaxis": {
           "automargin": true,
           "gridcolor": "white",
           "linecolor": "white",
           "ticks": "",
           "title": {
            "standoff": 15
           },
           "zerolinecolor": "white",
           "zerolinewidth": 2
          },
          "yaxis": {
           "automargin": true,
           "gridcolor": "white",
           "linecolor": "white",
           "ticks": "",
           "title": {
            "standoff": 15
           },
           "zerolinecolor": "white",
           "zerolinewidth": 2
          }
         }
        },
        "title": {
         "text": "Percentage of Delayed Commutes by Severity"
        },
        "xaxis": {
         "anchor": "y",
         "domain": [
          0,
          1
         ],
         "title": {
          "text": "Delay Severity"
         }
        },
        "yaxis": {
         "anchor": "x",
         "domain": [
          0,
          1
         ],
         "title": {
          "text": "Percentage"
         }
        }
       }
      }
     },
     "metadata": {},
     "output_type": "display_data"
    }
   ],
   "source": [
    "# Create the bar plot using Plotly Express\n",
    "fig = px.bar(delay_severity_counts, x='delay_severity', y='percentage', title=\"Percentage of Delayed Commutes by Severity\",\n",
    "             labels={'delay_severity': 'Delay Severity', 'percentage': 'Percentage'})\n",
    "fig.show()"
   ]
  },
  {
   "cell_type": "code",
   "execution_count": 105,
   "metadata": {},
   "outputs": [],
   "source": [
    "df3=unique_trips.copy()\n",
    "df3.loc[df3.delay_minutes < 0,'delay_minutes'] =0"
   ]
  },
  {
   "cell_type": "code",
   "execution_count": 106,
   "metadata": {},
   "outputs": [],
   "source": [
    "# day of week"
   ]
  },
  {
   "cell_type": "code",
   "execution_count": 107,
   "metadata": {},
   "outputs": [],
   "source": [
    "# weekday vs weekend"
   ]
  },
  {
   "cell_type": "code",
   "execution_count": 108,
   "metadata": {},
   "outputs": [
    {
     "name": "stderr",
     "output_type": "stream",
     "text": [
      "C:\\Users\\Jonathan\\AppData\\Local\\Temp\\ipykernel_16932\\3155030901.py:19: SettingWithCopyWarning:\n",
      "\n",
      "\n",
      "A value is trying to be set on a copy of a slice from a DataFrame.\n",
      "Try using .loc[row_indexer,col_indexer] = value instead\n",
      "\n",
      "See the caveats in the documentation: https://pandas.pydata.org/pandas-docs/stable/user_guide/indexing.html#returning-a-view-versus-a-copy\n",
      "\n"
     ]
    }
   ],
   "source": [
    "def categorize_commute_time(timestamp):\n",
    "    # Check if the day is a weekday (Monday=0, Sunday=6)\n",
    "    if timestamp.weekday() >= 5:  # Saturday (5) and Sunday (6)\n",
    "        return 'Weekend'\n",
    "    \n",
    "    morning_start = time(6, 0)\n",
    "    morning_end = time(9, 0)\n",
    "    evening_start = time(15, 30)\n",
    "    evening_end = time(19, 30)\n",
    "    \n",
    "    commute_time = timestamp.time()\n",
    "    \n",
    "    if morning_start <= commute_time <= morning_end:\n",
    "        return 'Morning'\n",
    "    elif evening_start <= commute_time <= evening_end:\n",
    "        return 'Evening'\n",
    "    else:\n",
    "        return 'Other'\n",
    "unique_trips['commute_period'] =unique_trips['actual_arrival_time'].apply(categorize_commute_time)\n",
    "\n",
    "# Filter for Morning and Evening commutes\n",
    "filtered_trips = unique_trips[unique_trips['commute_period'].isin(['Morning', 'Evening'])]\n",
    "\n",
    "# Calculate total trips for each commute period\n",
    "total_commute_period_trips = filtered_trips.groupby('commute_period').size().reset_index(name='total_counts')\n",
    "\n",
    "# Calculate counts of delays by commute period and severity\n",
    "commute_delay_counts = filtered_trips.groupby(['commute_period', 'delay_severity']).size().reset_index(name='counts')\n",
    "\n",
    "# Merge to get total counts for each commute period\n",
    "commute_delay_counts = pd.merge(commute_delay_counts, total_commute_period_trips, on='commute_period')\n",
    "\n",
    "# Calculate percentage of delays by commute period and severity\n",
    "commute_delay_counts['percentage'] = (commute_delay_counts['counts'] / commute_delay_counts['total_counts']) * 100\n"
   ]
  },
  {
   "cell_type": "code",
   "execution_count": 109,
   "metadata": {},
   "outputs": [
    {
     "data": {
      "text/html": [
       "<div>\n",
       "<style scoped>\n",
       "    .dataframe tbody tr th:only-of-type {\n",
       "        vertical-align: middle;\n",
       "    }\n",
       "\n",
       "    .dataframe tbody tr th {\n",
       "        vertical-align: top;\n",
       "    }\n",
       "\n",
       "    .dataframe thead th {\n",
       "        text-align: right;\n",
       "    }\n",
       "</style>\n",
       "<table border=\"1\" class=\"dataframe\">\n",
       "  <thead>\n",
       "    <tr style=\"text-align: right;\">\n",
       "      <th></th>\n",
       "      <th>commute_period</th>\n",
       "      <th>delay_severity</th>\n",
       "      <th>counts</th>\n",
       "    </tr>\n",
       "  </thead>\n",
       "  <tbody>\n",
       "    <tr>\n",
       "      <th>0</th>\n",
       "      <td>Evening</td>\n",
       "      <td>Major</td>\n",
       "      <td>69</td>\n",
       "    </tr>\n",
       "    <tr>\n",
       "      <th>1</th>\n",
       "      <td>Evening</td>\n",
       "      <td>Minor</td>\n",
       "      <td>21</td>\n",
       "    </tr>\n",
       "    <tr>\n",
       "      <th>2</th>\n",
       "      <td>Evening</td>\n",
       "      <td>On Time</td>\n",
       "      <td>1214</td>\n",
       "    </tr>\n",
       "    <tr>\n",
       "      <th>3</th>\n",
       "      <td>Morning</td>\n",
       "      <td>Major</td>\n",
       "      <td>40</td>\n",
       "    </tr>\n",
       "    <tr>\n",
       "      <th>4</th>\n",
       "      <td>Morning</td>\n",
       "      <td>Minor</td>\n",
       "      <td>9</td>\n",
       "    </tr>\n",
       "    <tr>\n",
       "      <th>5</th>\n",
       "      <td>Morning</td>\n",
       "      <td>On Time</td>\n",
       "      <td>764</td>\n",
       "    </tr>\n",
       "  </tbody>\n",
       "</table>\n",
       "</div>"
      ],
      "text/plain": [
       "  commute_period delay_severity  counts\n",
       "0        Evening          Major      69\n",
       "1        Evening          Minor      21\n",
       "2        Evening        On Time    1214\n",
       "3        Morning          Major      40\n",
       "4        Morning          Minor       9\n",
       "5        Morning        On Time     764"
      ]
     },
     "execution_count": 109,
     "metadata": {},
     "output_type": "execute_result"
    }
   ],
   "source": [
    "filtered_trips.groupby(['commute_period', 'delay_severity']).size().reset_index(name='counts')"
   ]
  },
  {
   "cell_type": "code",
   "execution_count": 110,
   "metadata": {},
   "outputs": [
    {
     "data": {
      "text/html": [
       "<div>\n",
       "<style scoped>\n",
       "    .dataframe tbody tr th:only-of-type {\n",
       "        vertical-align: middle;\n",
       "    }\n",
       "\n",
       "    .dataframe tbody tr th {\n",
       "        vertical-align: top;\n",
       "    }\n",
       "\n",
       "    .dataframe thead th {\n",
       "        text-align: right;\n",
       "    }\n",
       "</style>\n",
       "<table border=\"1\" class=\"dataframe\">\n",
       "  <thead>\n",
       "    <tr style=\"text-align: right;\">\n",
       "      <th></th>\n",
       "      <th>commute_period</th>\n",
       "      <th>delay_severity</th>\n",
       "      <th>counts</th>\n",
       "      <th>total_counts</th>\n",
       "      <th>percentage</th>\n",
       "    </tr>\n",
       "  </thead>\n",
       "  <tbody>\n",
       "    <tr>\n",
       "      <th>0</th>\n",
       "      <td>Evening</td>\n",
       "      <td>Major</td>\n",
       "      <td>69</td>\n",
       "      <td>1304</td>\n",
       "      <td>5.291411</td>\n",
       "    </tr>\n",
       "    <tr>\n",
       "      <th>1</th>\n",
       "      <td>Evening</td>\n",
       "      <td>Minor</td>\n",
       "      <td>21</td>\n",
       "      <td>1304</td>\n",
       "      <td>1.610429</td>\n",
       "    </tr>\n",
       "    <tr>\n",
       "      <th>2</th>\n",
       "      <td>Evening</td>\n",
       "      <td>On Time</td>\n",
       "      <td>1214</td>\n",
       "      <td>1304</td>\n",
       "      <td>93.098160</td>\n",
       "    </tr>\n",
       "    <tr>\n",
       "      <th>3</th>\n",
       "      <td>Morning</td>\n",
       "      <td>Major</td>\n",
       "      <td>40</td>\n",
       "      <td>813</td>\n",
       "      <td>4.920049</td>\n",
       "    </tr>\n",
       "    <tr>\n",
       "      <th>4</th>\n",
       "      <td>Morning</td>\n",
       "      <td>Minor</td>\n",
       "      <td>9</td>\n",
       "      <td>813</td>\n",
       "      <td>1.107011</td>\n",
       "    </tr>\n",
       "    <tr>\n",
       "      <th>5</th>\n",
       "      <td>Morning</td>\n",
       "      <td>On Time</td>\n",
       "      <td>764</td>\n",
       "      <td>813</td>\n",
       "      <td>93.972940</td>\n",
       "    </tr>\n",
       "  </tbody>\n",
       "</table>\n",
       "</div>"
      ],
      "text/plain": [
       "  commute_period delay_severity  counts  total_counts  percentage\n",
       "0        Evening          Major      69          1304    5.291411\n",
       "1        Evening          Minor      21          1304    1.610429\n",
       "2        Evening        On Time    1214          1304   93.098160\n",
       "3        Morning          Major      40           813    4.920049\n",
       "4        Morning          Minor       9           813    1.107011\n",
       "5        Morning        On Time     764           813   93.972940"
      ]
     },
     "execution_count": 110,
     "metadata": {},
     "output_type": "execute_result"
    }
   ],
   "source": [
    "commute_delay_counts"
   ]
  },
  {
   "cell_type": "code",
   "execution_count": 111,
   "metadata": {},
   "outputs": [
    {
     "data": {
      "text/html": [
       "<div>\n",
       "<style scoped>\n",
       "    .dataframe tbody tr th:only-of-type {\n",
       "        vertical-align: middle;\n",
       "    }\n",
       "\n",
       "    .dataframe tbody tr th {\n",
       "        vertical-align: top;\n",
       "    }\n",
       "\n",
       "    .dataframe thead th {\n",
       "        text-align: right;\n",
       "    }\n",
       "</style>\n",
       "<table border=\"1\" class=\"dataframe\">\n",
       "  <thead>\n",
       "    <tr style=\"text-align: right;\">\n",
       "      <th></th>\n",
       "      <th>trip_id</th>\n",
       "      <th>stop_id</th>\n",
       "      <th>date</th>\n",
       "      <th>actual_arrival_time</th>\n",
       "      <th>stop_name</th>\n",
       "      <th>parent_station</th>\n",
       "      <th>arrival_time</th>\n",
       "      <th>delay_minutes</th>\n",
       "      <th>is_delayed</th>\n",
       "      <th>delay_severity</th>\n",
       "      <th>commute_period</th>\n",
       "    </tr>\n",
       "  </thead>\n",
       "  <tbody>\n",
       "    <tr>\n",
       "      <th>20952</th>\n",
       "      <td>233</td>\n",
       "      <td>70051</td>\n",
       "      <td>2024-07-14</td>\n",
       "      <td>2024-07-14 12:35:58</td>\n",
       "      <td>San Bruno Caltrain Station Northbound</td>\n",
       "      <td>san_bruno</td>\n",
       "      <td>12:30:00</td>\n",
       "      <td>-5.966667</td>\n",
       "      <td>False</td>\n",
       "      <td>On Time</td>\n",
       "      <td>Weekend</td>\n",
       "    </tr>\n",
       "    <tr>\n",
       "      <th>21501</th>\n",
       "      <td>236</td>\n",
       "      <td>70082</td>\n",
       "      <td>2024-07-14</td>\n",
       "      <td>2024-07-14 12:36:58</td>\n",
       "      <td>Burlingame Caltrain Station Southbound</td>\n",
       "      <td>burlingame</td>\n",
       "      <td>12:31:00</td>\n",
       "      <td>-5.966667</td>\n",
       "      <td>False</td>\n",
       "      <td>On Time</td>\n",
       "      <td>Weekend</td>\n",
       "    </tr>\n",
       "    <tr>\n",
       "      <th>21760</th>\n",
       "      <td>237</td>\n",
       "      <td>70211</td>\n",
       "      <td>2024-07-14</td>\n",
       "      <td>2024-07-14 12:38:58</td>\n",
       "      <td>Mountain View Caltrain Station Northbound</td>\n",
       "      <td>mountain_view</td>\n",
       "      <td>12:34:00</td>\n",
       "      <td>-4.966667</td>\n",
       "      <td>False</td>\n",
       "      <td>On Time</td>\n",
       "      <td>Weekend</td>\n",
       "    </tr>\n",
       "    <tr>\n",
       "      <th>20943</th>\n",
       "      <td>233</td>\n",
       "      <td>70041</td>\n",
       "      <td>2024-07-14</td>\n",
       "      <td>2024-07-14 12:40:58</td>\n",
       "      <td>South San Francisco Caltrain Station Northbound</td>\n",
       "      <td>south_sf</td>\n",
       "      <td>12:34:00</td>\n",
       "      <td>-6.966667</td>\n",
       "      <td>False</td>\n",
       "      <td>On Time</td>\n",
       "      <td>Weekend</td>\n",
       "    </tr>\n",
       "    <tr>\n",
       "      <th>21508</th>\n",
       "      <td>236</td>\n",
       "      <td>70092</td>\n",
       "      <td>2024-07-14</td>\n",
       "      <td>2024-07-14 12:40:58</td>\n",
       "      <td>San Mateo Caltrain Station Southbound</td>\n",
       "      <td>san_mateo</td>\n",
       "      <td>12:34:00</td>\n",
       "      <td>-6.966667</td>\n",
       "      <td>False</td>\n",
       "      <td>On Time</td>\n",
       "      <td>Weekend</td>\n",
       "    </tr>\n",
       "    <tr>\n",
       "      <th>21751</th>\n",
       "      <td>237</td>\n",
       "      <td>70201</td>\n",
       "      <td>2024-07-14</td>\n",
       "      <td>2024-07-14 12:42:58</td>\n",
       "      <td>San Antonio Caltrain Station Northbound</td>\n",
       "      <td>san_antonio</td>\n",
       "      <td>12:37:00</td>\n",
       "      <td>-5.966667</td>\n",
       "      <td>False</td>\n",
       "      <td>On Time</td>\n",
       "      <td>Weekend</td>\n",
       "    </tr>\n",
       "    <tr>\n",
       "      <th>21515</th>\n",
       "      <td>236</td>\n",
       "      <td>70102</td>\n",
       "      <td>2024-07-14</td>\n",
       "      <td>2024-07-14 12:44:58</td>\n",
       "      <td>Hayward Park Caltrain Station Southbound</td>\n",
       "      <td>hayward_park</td>\n",
       "      <td>12:37:00</td>\n",
       "      <td>-7.966667</td>\n",
       "      <td>False</td>\n",
       "      <td>On Time</td>\n",
       "      <td>Weekend</td>\n",
       "    </tr>\n",
       "    <tr>\n",
       "      <th>20934</th>\n",
       "      <td>233</td>\n",
       "      <td>70031</td>\n",
       "      <td>2024-07-14</td>\n",
       "      <td>2024-07-14 12:45:58</td>\n",
       "      <td>Bayshore Caltrain Station Northbound</td>\n",
       "      <td>bayshore</td>\n",
       "      <td>12:41:00</td>\n",
       "      <td>-4.966667</td>\n",
       "      <td>False</td>\n",
       "      <td>On Time</td>\n",
       "      <td>Weekend</td>\n",
       "    </tr>\n",
       "    <tr>\n",
       "      <th>21522</th>\n",
       "      <td>236</td>\n",
       "      <td>70112</td>\n",
       "      <td>2024-07-14</td>\n",
       "      <td>2024-07-14 12:46:59</td>\n",
       "      <td>Hillsdale Caltrain Station Southbound</td>\n",
       "      <td>hillsdale</td>\n",
       "      <td>12:41:00</td>\n",
       "      <td>-5.983333</td>\n",
       "      <td>False</td>\n",
       "      <td>On Time</td>\n",
       "      <td>Weekend</td>\n",
       "    </tr>\n",
       "    <tr>\n",
       "      <th>22391</th>\n",
       "      <td>241</td>\n",
       "      <td>70271</td>\n",
       "      <td>2024-07-14</td>\n",
       "      <td>2024-07-14 12:46:59</td>\n",
       "      <td>Tamien Caltrain Station Northbound</td>\n",
       "      <td>tamien</td>\n",
       "      <td>13:05:00</td>\n",
       "      <td>18.016667</td>\n",
       "      <td>True</td>\n",
       "      <td>Major</td>\n",
       "      <td>Weekend</td>\n",
       "    </tr>\n",
       "    <tr>\n",
       "      <th>21740</th>\n",
       "      <td>237</td>\n",
       "      <td>70191</td>\n",
       "      <td>2024-07-14</td>\n",
       "      <td>2024-07-14 12:47:59</td>\n",
       "      <td>California Avenue Caltrain Station Northbound</td>\n",
       "      <td>california_ave</td>\n",
       "      <td>12:42:00</td>\n",
       "      <td>-5.983333</td>\n",
       "      <td>False</td>\n",
       "      <td>On Time</td>\n",
       "      <td>Weekend</td>\n",
       "    </tr>\n",
       "    <tr>\n",
       "      <th>21732</th>\n",
       "      <td>237</td>\n",
       "      <td>70171</td>\n",
       "      <td>2024-07-14</td>\n",
       "      <td>2024-07-14 12:49:59</td>\n",
       "      <td>Palo Alto Caltrain Station Northbound</td>\n",
       "      <td>palo_alto</td>\n",
       "      <td>12:46:00</td>\n",
       "      <td>-3.983333</td>\n",
       "      <td>False</td>\n",
       "      <td>On Time</td>\n",
       "      <td>Weekend</td>\n",
       "    </tr>\n",
       "    <tr>\n",
       "      <th>21528</th>\n",
       "      <td>236</td>\n",
       "      <td>70122</td>\n",
       "      <td>2024-07-14</td>\n",
       "      <td>2024-07-14 12:50:59</td>\n",
       "      <td>Belmont Caltrain Station Southbound</td>\n",
       "      <td>belmont</td>\n",
       "      <td>12:44:00</td>\n",
       "      <td>-6.983333</td>\n",
       "      <td>False</td>\n",
       "      <td>On Time</td>\n",
       "      <td>Weekend</td>\n",
       "    </tr>\n",
       "    <tr>\n",
       "      <th>20923</th>\n",
       "      <td>233</td>\n",
       "      <td>70021</td>\n",
       "      <td>2024-07-14</td>\n",
       "      <td>2024-07-14 12:50:59</td>\n",
       "      <td>22nd Street Caltrain Station Northbound</td>\n",
       "      <td>22nd_street</td>\n",
       "      <td>12:46:00</td>\n",
       "      <td>-4.983333</td>\n",
       "      <td>False</td>\n",
       "      <td>On Time</td>\n",
       "      <td>Weekend</td>\n",
       "    </tr>\n",
       "    <tr>\n",
       "      <th>21727</th>\n",
       "      <td>237</td>\n",
       "      <td>70161</td>\n",
       "      <td>2024-07-14</td>\n",
       "      <td>2024-07-14 12:53:00</td>\n",
       "      <td>Menlo Park Caltrain Station Northbound</td>\n",
       "      <td>menlo_park</td>\n",
       "      <td>12:50:00</td>\n",
       "      <td>-3.000000</td>\n",
       "      <td>False</td>\n",
       "      <td>On Time</td>\n",
       "      <td>Weekend</td>\n",
       "    </tr>\n",
       "    <tr>\n",
       "      <th>21536</th>\n",
       "      <td>236</td>\n",
       "      <td>70132</td>\n",
       "      <td>2024-07-14</td>\n",
       "      <td>2024-07-14 12:55:00</td>\n",
       "      <td>San Carlos Caltrain Station Southbound</td>\n",
       "      <td>san_carlos</td>\n",
       "      <td>12:48:00</td>\n",
       "      <td>-7.000000</td>\n",
       "      <td>False</td>\n",
       "      <td>On Time</td>\n",
       "      <td>Weekend</td>\n",
       "    </tr>\n",
       "    <tr>\n",
       "      <th>21718</th>\n",
       "      <td>237</td>\n",
       "      <td>70141</td>\n",
       "      <td>2024-07-14</td>\n",
       "      <td>2024-07-14 12:58:00</td>\n",
       "      <td>Redwood City Caltrain Station Northbound</td>\n",
       "      <td>redwood_city</td>\n",
       "      <td>12:56:00</td>\n",
       "      <td>-2.000000</td>\n",
       "      <td>False</td>\n",
       "      <td>On Time</td>\n",
       "      <td>Weekend</td>\n",
       "    </tr>\n",
       "    <tr>\n",
       "      <th>21546</th>\n",
       "      <td>236</td>\n",
       "      <td>70142</td>\n",
       "      <td>2024-07-14</td>\n",
       "      <td>2024-07-14 12:58:00</td>\n",
       "      <td>Redwood City Caltrain Station Southbound</td>\n",
       "      <td>redwood_city</td>\n",
       "      <td>12:52:00</td>\n",
       "      <td>-6.000000</td>\n",
       "      <td>False</td>\n",
       "      <td>On Time</td>\n",
       "      <td>Weekend</td>\n",
       "    </tr>\n",
       "    <tr>\n",
       "      <th>22441</th>\n",
       "      <td>244</td>\n",
       "      <td>70012</td>\n",
       "      <td>2024-07-14</td>\n",
       "      <td>2024-07-14 12:59:15</td>\n",
       "      <td>San Francisco Caltrain Station Southbound</td>\n",
       "      <td>san_francisco</td>\n",
       "      <td>13:58:00</td>\n",
       "      <td>58.750000</td>\n",
       "      <td>True</td>\n",
       "      <td>Major</td>\n",
       "      <td>Weekend</td>\n",
       "    </tr>\n",
       "    <tr>\n",
       "      <th>22493</th>\n",
       "      <td>244</td>\n",
       "      <td>70022</td>\n",
       "      <td>2024-07-14</td>\n",
       "      <td>2024-07-14 13:00:15</td>\n",
       "      <td>22nd Street Caltrain Station Southbound</td>\n",
       "      <td>22nd_street</td>\n",
       "      <td>14:03:00</td>\n",
       "      <td>62.750000</td>\n",
       "      <td>True</td>\n",
       "      <td>Major</td>\n",
       "      <td>Weekend</td>\n",
       "    </tr>\n",
       "    <tr>\n",
       "      <th>21553</th>\n",
       "      <td>236</td>\n",
       "      <td>70162</td>\n",
       "      <td>2024-07-14</td>\n",
       "      <td>2024-07-14 13:03:16</td>\n",
       "      <td>Menlo Park Caltrain Station Southbound</td>\n",
       "      <td>menlo_park</td>\n",
       "      <td>12:58:00</td>\n",
       "      <td>-5.266667</td>\n",
       "      <td>False</td>\n",
       "      <td>On Time</td>\n",
       "      <td>Weekend</td>\n",
       "    </tr>\n",
       "    <tr>\n",
       "      <th>21708</th>\n",
       "      <td>237</td>\n",
       "      <td>70131</td>\n",
       "      <td>2024-07-14</td>\n",
       "      <td>2024-07-14 13:03:16</td>\n",
       "      <td>San Carlos Caltrain Station Northbound</td>\n",
       "      <td>san_carlos</td>\n",
       "      <td>13:01:00</td>\n",
       "      <td>-2.266667</td>\n",
       "      <td>False</td>\n",
       "      <td>On Time</td>\n",
       "      <td>Weekend</td>\n",
       "    </tr>\n",
       "    <tr>\n",
       "      <th>22114</th>\n",
       "      <td>240</td>\n",
       "      <td>70032</td>\n",
       "      <td>2024-07-14</td>\n",
       "      <td>2024-07-14 13:04:16</td>\n",
       "      <td>Bayshore Caltrain Station Southbound</td>\n",
       "      <td>bayshore</td>\n",
       "      <td>13:08:00</td>\n",
       "      <td>3.733333</td>\n",
       "      <td>False</td>\n",
       "      <td>On Time</td>\n",
       "      <td>Weekend</td>\n",
       "    </tr>\n",
       "    <tr>\n",
       "      <th>21700</th>\n",
       "      <td>237</td>\n",
       "      <td>70121</td>\n",
       "      <td>2024-07-14</td>\n",
       "      <td>2024-07-14 13:06:16</td>\n",
       "      <td>Belmont Caltrain Station Northbound</td>\n",
       "      <td>belmont</td>\n",
       "      <td>13:04:00</td>\n",
       "      <td>-2.266667</td>\n",
       "      <td>False</td>\n",
       "      <td>On Time</td>\n",
       "      <td>Weekend</td>\n",
       "    </tr>\n",
       "    <tr>\n",
       "      <th>21562</th>\n",
       "      <td>236</td>\n",
       "      <td>70172</td>\n",
       "      <td>2024-07-14</td>\n",
       "      <td>2024-07-14 13:07:16</td>\n",
       "      <td>Palo Alto Caltrain Station Southbound</td>\n",
       "      <td>palo_alto</td>\n",
       "      <td>13:02:00</td>\n",
       "      <td>-5.266667</td>\n",
       "      <td>False</td>\n",
       "      <td>On Time</td>\n",
       "      <td>Weekend</td>\n",
       "    </tr>\n",
       "    <tr>\n",
       "      <th>22126</th>\n",
       "      <td>240</td>\n",
       "      <td>70042</td>\n",
       "      <td>2024-07-14</td>\n",
       "      <td>2024-07-14 13:09:17</td>\n",
       "      <td>South San Francisco Caltrain Station Southbound</td>\n",
       "      <td>south_sf</td>\n",
       "      <td>13:15:00</td>\n",
       "      <td>5.716667</td>\n",
       "      <td>True</td>\n",
       "      <td>Minor</td>\n",
       "      <td>Weekend</td>\n",
       "    </tr>\n",
       "    <tr>\n",
       "      <th>22373</th>\n",
       "      <td>241</td>\n",
       "      <td>70261</td>\n",
       "      <td>2024-07-14</td>\n",
       "      <td>2024-07-14 13:10:16</td>\n",
       "      <td>San Jose Diridon Caltrain Station Northbound</td>\n",
       "      <td>sj_diridon</td>\n",
       "      <td>13:12:00</td>\n",
       "      <td>1.733333</td>\n",
       "      <td>False</td>\n",
       "      <td>On Time</td>\n",
       "      <td>Weekend</td>\n",
       "    </tr>\n",
       "    <tr>\n",
       "      <th>21693</th>\n",
       "      <td>237</td>\n",
       "      <td>70111</td>\n",
       "      <td>2024-07-14</td>\n",
       "      <td>2024-07-14 13:10:16</td>\n",
       "      <td>Hillsdale Caltrain Station Northbound</td>\n",
       "      <td>hillsdale</td>\n",
       "      <td>13:08:00</td>\n",
       "      <td>-2.266667</td>\n",
       "      <td>False</td>\n",
       "      <td>On Time</td>\n",
       "      <td>Weekend</td>\n",
       "    </tr>\n",
       "    <tr>\n",
       "      <th>21570</th>\n",
       "      <td>236</td>\n",
       "      <td>70192</td>\n",
       "      <td>2024-07-14</td>\n",
       "      <td>2024-07-14 13:10:16</td>\n",
       "      <td>California Avenue Caltrain Station Southbound</td>\n",
       "      <td>california_ave</td>\n",
       "      <td>13:06:00</td>\n",
       "      <td>-4.266667</td>\n",
       "      <td>False</td>\n",
       "      <td>On Time</td>\n",
       "      <td>Weekend</td>\n",
       "    </tr>\n",
       "    <tr>\n",
       "      <th>21686</th>\n",
       "      <td>237</td>\n",
       "      <td>70101</td>\n",
       "      <td>2024-07-14</td>\n",
       "      <td>2024-07-14 13:13:17</td>\n",
       "      <td>Hayward Park Caltrain Station Northbound</td>\n",
       "      <td>hayward_park</td>\n",
       "      <td>13:11:00</td>\n",
       "      <td>-2.283333</td>\n",
       "      <td>False</td>\n",
       "      <td>On Time</td>\n",
       "      <td>Weekend</td>\n",
       "    </tr>\n",
       "    <tr>\n",
       "      <th>21578</th>\n",
       "      <td>236</td>\n",
       "      <td>70202</td>\n",
       "      <td>2024-07-14</td>\n",
       "      <td>2024-07-14 13:14:17</td>\n",
       "      <td>San Antonio Caltrain Station Southbound</td>\n",
       "      <td>san_antonio</td>\n",
       "      <td>13:11:00</td>\n",
       "      <td>-3.283333</td>\n",
       "      <td>False</td>\n",
       "      <td>On Time</td>\n",
       "      <td>Weekend</td>\n",
       "    </tr>\n",
       "    <tr>\n",
       "      <th>21680</th>\n",
       "      <td>237</td>\n",
       "      <td>70091</td>\n",
       "      <td>2024-07-14</td>\n",
       "      <td>2024-07-14 13:16:17</td>\n",
       "      <td>San Mateo Caltrain Station Northbound</td>\n",
       "      <td>san_mateo</td>\n",
       "      <td>13:15:00</td>\n",
       "      <td>-1.283333</td>\n",
       "      <td>False</td>\n",
       "      <td>On Time</td>\n",
       "      <td>Weekend</td>\n",
       "    </tr>\n",
       "    <tr>\n",
       "      <th>22136</th>\n",
       "      <td>240</td>\n",
       "      <td>70052</td>\n",
       "      <td>2024-07-14</td>\n",
       "      <td>2024-07-14 13:16:17</td>\n",
       "      <td>San Bruno Caltrain Station Southbound</td>\n",
       "      <td>san_bruno</td>\n",
       "      <td>13:19:00</td>\n",
       "      <td>2.716667</td>\n",
       "      <td>False</td>\n",
       "      <td>On Time</td>\n",
       "      <td>Weekend</td>\n",
       "    </tr>\n",
       "    <tr>\n",
       "      <th>21587</th>\n",
       "      <td>236</td>\n",
       "      <td>70212</td>\n",
       "      <td>2024-07-14</td>\n",
       "      <td>2024-07-14 13:18:18</td>\n",
       "      <td>Mountain View Caltrain Station Southbound</td>\n",
       "      <td>mountain_view</td>\n",
       "      <td>13:16:00</td>\n",
       "      <td>-2.300000</td>\n",
       "      <td>False</td>\n",
       "      <td>On Time</td>\n",
       "      <td>Weekend</td>\n",
       "    </tr>\n",
       "    <tr>\n",
       "      <th>22358</th>\n",
       "      <td>241</td>\n",
       "      <td>70241</td>\n",
       "      <td>2024-07-14</td>\n",
       "      <td>2024-07-14 13:18:18</td>\n",
       "      <td>Santa Clara Caltrain Station Northbound</td>\n",
       "      <td>santa_clara</td>\n",
       "      <td>13:18:00</td>\n",
       "      <td>-0.300000</td>\n",
       "      <td>False</td>\n",
       "      <td>On Time</td>\n",
       "      <td>Weekend</td>\n",
       "    </tr>\n",
       "    <tr>\n",
       "      <th>21672</th>\n",
       "      <td>237</td>\n",
       "      <td>70081</td>\n",
       "      <td>2024-07-14</td>\n",
       "      <td>2024-07-14 13:20:18</td>\n",
       "      <td>Burlingame Caltrain Station Northbound</td>\n",
       "      <td>burlingame</td>\n",
       "      <td>13:19:00</td>\n",
       "      <td>-1.300000</td>\n",
       "      <td>False</td>\n",
       "      <td>On Time</td>\n",
       "      <td>Weekend</td>\n",
       "    </tr>\n",
       "    <tr>\n",
       "      <th>22146</th>\n",
       "      <td>240</td>\n",
       "      <td>70062</td>\n",
       "      <td>2024-07-14</td>\n",
       "      <td>2024-07-14 13:21:18</td>\n",
       "      <td>Millbrae Caltrain Station Southbound</td>\n",
       "      <td>place_MLBR</td>\n",
       "      <td>13:24:00</td>\n",
       "      <td>2.700000</td>\n",
       "      <td>False</td>\n",
       "      <td>On Time</td>\n",
       "      <td>Weekend</td>\n",
       "    </tr>\n",
       "    <tr>\n",
       "      <th>21665</th>\n",
       "      <td>237</td>\n",
       "      <td>70071</td>\n",
       "      <td>2024-07-14</td>\n",
       "      <td>2024-07-14 13:23:18</td>\n",
       "      <td>Broadway Caltrain Station Northbound</td>\n",
       "      <td>broadway</td>\n",
       "      <td>13:22:00</td>\n",
       "      <td>-1.300000</td>\n",
       "      <td>False</td>\n",
       "      <td>On Time</td>\n",
       "      <td>Weekend</td>\n",
       "    </tr>\n",
       "    <tr>\n",
       "      <th>22342</th>\n",
       "      <td>241</td>\n",
       "      <td>70231</td>\n",
       "      <td>2024-07-14</td>\n",
       "      <td>2024-07-14 13:24:33</td>\n",
       "      <td>Lawrence Caltrain Station Northbound</td>\n",
       "      <td>lawrence</td>\n",
       "      <td>13:24:00</td>\n",
       "      <td>-0.550000</td>\n",
       "      <td>False</td>\n",
       "      <td>On Time</td>\n",
       "      <td>Weekend</td>\n",
       "    </tr>\n",
       "    <tr>\n",
       "      <th>21596</th>\n",
       "      <td>236</td>\n",
       "      <td>70222</td>\n",
       "      <td>2024-07-14</td>\n",
       "      <td>2024-07-14 13:24:33</td>\n",
       "      <td>Sunnyvale Caltrain Station Southbound</td>\n",
       "      <td>sunnyvale</td>\n",
       "      <td>13:21:00</td>\n",
       "      <td>-3.550000</td>\n",
       "      <td>False</td>\n",
       "      <td>On Time</td>\n",
       "      <td>Weekend</td>\n",
       "    </tr>\n",
       "    <tr>\n",
       "      <th>22152</th>\n",
       "      <td>240</td>\n",
       "      <td>70072</td>\n",
       "      <td>2024-07-14</td>\n",
       "      <td>2024-07-14 13:25:34</td>\n",
       "      <td>Broadway Caltrain Station Southbound</td>\n",
       "      <td>broadway</td>\n",
       "      <td>13:27:00</td>\n",
       "      <td>1.433333</td>\n",
       "      <td>False</td>\n",
       "      <td>On Time</td>\n",
       "      <td>Weekend</td>\n",
       "    </tr>\n",
       "    <tr>\n",
       "      <th>21659</th>\n",
       "      <td>237</td>\n",
       "      <td>70061</td>\n",
       "      <td>2024-07-14</td>\n",
       "      <td>2024-07-14 13:26:33</td>\n",
       "      <td>Millbrae Caltrain Station Northbound</td>\n",
       "      <td>place_MLBR</td>\n",
       "      <td>13:26:00</td>\n",
       "      <td>-0.550000</td>\n",
       "      <td>False</td>\n",
       "      <td>On Time</td>\n",
       "      <td>Weekend</td>\n",
       "    </tr>\n",
       "    <tr>\n",
       "      <th>22330</th>\n",
       "      <td>241</td>\n",
       "      <td>70221</td>\n",
       "      <td>2024-07-14</td>\n",
       "      <td>2024-07-14 13:28:34</td>\n",
       "      <td>Sunnyvale Caltrain Station Northbound</td>\n",
       "      <td>sunnyvale</td>\n",
       "      <td>13:28:00</td>\n",
       "      <td>-0.566667</td>\n",
       "      <td>False</td>\n",
       "      <td>On Time</td>\n",
       "      <td>Weekend</td>\n",
       "    </tr>\n",
       "    <tr>\n",
       "      <th>21606</th>\n",
       "      <td>236</td>\n",
       "      <td>70232</td>\n",
       "      <td>2024-07-14</td>\n",
       "      <td>2024-07-14 13:28:34</td>\n",
       "      <td>Lawrence Caltrain Station Southbound</td>\n",
       "      <td>lawrence</td>\n",
       "      <td>13:26:00</td>\n",
       "      <td>-2.566667</td>\n",
       "      <td>False</td>\n",
       "      <td>On Time</td>\n",
       "      <td>Weekend</td>\n",
       "    </tr>\n",
       "    <tr>\n",
       "      <th>22159</th>\n",
       "      <td>240</td>\n",
       "      <td>70082</td>\n",
       "      <td>2024-07-14</td>\n",
       "      <td>2024-07-14 13:28:34</td>\n",
       "      <td>Burlingame Caltrain Station Southbound</td>\n",
       "      <td>burlingame</td>\n",
       "      <td>13:31:00</td>\n",
       "      <td>2.433333</td>\n",
       "      <td>False</td>\n",
       "      <td>On Time</td>\n",
       "      <td>Weekend</td>\n",
       "    </tr>\n",
       "    <tr>\n",
       "      <th>22166</th>\n",
       "      <td>240</td>\n",
       "      <td>70092</td>\n",
       "      <td>2024-07-14</td>\n",
       "      <td>2024-07-14 13:31:19</td>\n",
       "      <td>San Mateo Caltrain Station Southbound</td>\n",
       "      <td>san_mateo</td>\n",
       "      <td>13:34:00</td>\n",
       "      <td>2.683333</td>\n",
       "      <td>False</td>\n",
       "      <td>On Time</td>\n",
       "      <td>Weekend</td>\n",
       "    </tr>\n",
       "    <tr>\n",
       "      <th>21650</th>\n",
       "      <td>237</td>\n",
       "      <td>70051</td>\n",
       "      <td>2024-07-14</td>\n",
       "      <td>2024-07-14 13:31:19</td>\n",
       "      <td>San Bruno Caltrain Station Northbound</td>\n",
       "      <td>san_bruno</td>\n",
       "      <td>13:30:00</td>\n",
       "      <td>-1.316667</td>\n",
       "      <td>False</td>\n",
       "      <td>On Time</td>\n",
       "      <td>Weekend</td>\n",
       "    </tr>\n",
       "    <tr>\n",
       "      <th>21642</th>\n",
       "      <td>237</td>\n",
       "      <td>70041</td>\n",
       "      <td>2024-07-14</td>\n",
       "      <td>2024-07-14 13:32:19</td>\n",
       "      <td>South San Francisco Caltrain Station Northbound</td>\n",
       "      <td>south_sf</td>\n",
       "      <td>13:34:00</td>\n",
       "      <td>1.683333</td>\n",
       "      <td>False</td>\n",
       "      <td>On Time</td>\n",
       "      <td>Weekend</td>\n",
       "    </tr>\n",
       "    <tr>\n",
       "      <th>21616</th>\n",
       "      <td>236</td>\n",
       "      <td>70242</td>\n",
       "      <td>2024-07-14</td>\n",
       "      <td>2024-07-14 13:33:19</td>\n",
       "      <td>Santa Clara Caltrain Station Southbound</td>\n",
       "      <td>santa_clara</td>\n",
       "      <td>13:32:00</td>\n",
       "      <td>-1.316667</td>\n",
       "      <td>False</td>\n",
       "      <td>On Time</td>\n",
       "      <td>Weekend</td>\n",
       "    </tr>\n",
       "    <tr>\n",
       "      <th>22319</th>\n",
       "      <td>241</td>\n",
       "      <td>70211</td>\n",
       "      <td>2024-07-14</td>\n",
       "      <td>2024-07-14 13:33:19</td>\n",
       "      <td>Mountain View Caltrain Station Northbound</td>\n",
       "      <td>mountain_view</td>\n",
       "      <td>13:34:00</td>\n",
       "      <td>0.683333</td>\n",
       "      <td>False</td>\n",
       "      <td>On Time</td>\n",
       "      <td>Weekend</td>\n",
       "    </tr>\n",
       "  </tbody>\n",
       "</table>\n",
       "</div>"
      ],
      "text/plain": [
       "       trip_id  stop_id        date actual_arrival_time  \\\n",
       "20952      233    70051  2024-07-14 2024-07-14 12:35:58   \n",
       "21501      236    70082  2024-07-14 2024-07-14 12:36:58   \n",
       "21760      237    70211  2024-07-14 2024-07-14 12:38:58   \n",
       "20943      233    70041  2024-07-14 2024-07-14 12:40:58   \n",
       "21508      236    70092  2024-07-14 2024-07-14 12:40:58   \n",
       "21751      237    70201  2024-07-14 2024-07-14 12:42:58   \n",
       "21515      236    70102  2024-07-14 2024-07-14 12:44:58   \n",
       "20934      233    70031  2024-07-14 2024-07-14 12:45:58   \n",
       "21522      236    70112  2024-07-14 2024-07-14 12:46:59   \n",
       "22391      241    70271  2024-07-14 2024-07-14 12:46:59   \n",
       "21740      237    70191  2024-07-14 2024-07-14 12:47:59   \n",
       "21732      237    70171  2024-07-14 2024-07-14 12:49:59   \n",
       "21528      236    70122  2024-07-14 2024-07-14 12:50:59   \n",
       "20923      233    70021  2024-07-14 2024-07-14 12:50:59   \n",
       "21727      237    70161  2024-07-14 2024-07-14 12:53:00   \n",
       "21536      236    70132  2024-07-14 2024-07-14 12:55:00   \n",
       "21718      237    70141  2024-07-14 2024-07-14 12:58:00   \n",
       "21546      236    70142  2024-07-14 2024-07-14 12:58:00   \n",
       "22441      244    70012  2024-07-14 2024-07-14 12:59:15   \n",
       "22493      244    70022  2024-07-14 2024-07-14 13:00:15   \n",
       "21553      236    70162  2024-07-14 2024-07-14 13:03:16   \n",
       "21708      237    70131  2024-07-14 2024-07-14 13:03:16   \n",
       "22114      240    70032  2024-07-14 2024-07-14 13:04:16   \n",
       "21700      237    70121  2024-07-14 2024-07-14 13:06:16   \n",
       "21562      236    70172  2024-07-14 2024-07-14 13:07:16   \n",
       "22126      240    70042  2024-07-14 2024-07-14 13:09:17   \n",
       "22373      241    70261  2024-07-14 2024-07-14 13:10:16   \n",
       "21693      237    70111  2024-07-14 2024-07-14 13:10:16   \n",
       "21570      236    70192  2024-07-14 2024-07-14 13:10:16   \n",
       "21686      237    70101  2024-07-14 2024-07-14 13:13:17   \n",
       "21578      236    70202  2024-07-14 2024-07-14 13:14:17   \n",
       "21680      237    70091  2024-07-14 2024-07-14 13:16:17   \n",
       "22136      240    70052  2024-07-14 2024-07-14 13:16:17   \n",
       "21587      236    70212  2024-07-14 2024-07-14 13:18:18   \n",
       "22358      241    70241  2024-07-14 2024-07-14 13:18:18   \n",
       "21672      237    70081  2024-07-14 2024-07-14 13:20:18   \n",
       "22146      240    70062  2024-07-14 2024-07-14 13:21:18   \n",
       "21665      237    70071  2024-07-14 2024-07-14 13:23:18   \n",
       "22342      241    70231  2024-07-14 2024-07-14 13:24:33   \n",
       "21596      236    70222  2024-07-14 2024-07-14 13:24:33   \n",
       "22152      240    70072  2024-07-14 2024-07-14 13:25:34   \n",
       "21659      237    70061  2024-07-14 2024-07-14 13:26:33   \n",
       "22330      241    70221  2024-07-14 2024-07-14 13:28:34   \n",
       "21606      236    70232  2024-07-14 2024-07-14 13:28:34   \n",
       "22159      240    70082  2024-07-14 2024-07-14 13:28:34   \n",
       "22166      240    70092  2024-07-14 2024-07-14 13:31:19   \n",
       "21650      237    70051  2024-07-14 2024-07-14 13:31:19   \n",
       "21642      237    70041  2024-07-14 2024-07-14 13:32:19   \n",
       "21616      236    70242  2024-07-14 2024-07-14 13:33:19   \n",
       "22319      241    70211  2024-07-14 2024-07-14 13:33:19   \n",
       "\n",
       "                                             stop_name  parent_station  \\\n",
       "20952            San Bruno Caltrain Station Northbound       san_bruno   \n",
       "21501           Burlingame Caltrain Station Southbound      burlingame   \n",
       "21760        Mountain View Caltrain Station Northbound   mountain_view   \n",
       "20943  South San Francisco Caltrain Station Northbound        south_sf   \n",
       "21508            San Mateo Caltrain Station Southbound       san_mateo   \n",
       "21751          San Antonio Caltrain Station Northbound     san_antonio   \n",
       "21515         Hayward Park Caltrain Station Southbound    hayward_park   \n",
       "20934             Bayshore Caltrain Station Northbound        bayshore   \n",
       "21522            Hillsdale Caltrain Station Southbound       hillsdale   \n",
       "22391               Tamien Caltrain Station Northbound          tamien   \n",
       "21740    California Avenue Caltrain Station Northbound  california_ave   \n",
       "21732            Palo Alto Caltrain Station Northbound       palo_alto   \n",
       "21528              Belmont Caltrain Station Southbound         belmont   \n",
       "20923          22nd Street Caltrain Station Northbound     22nd_street   \n",
       "21727           Menlo Park Caltrain Station Northbound      menlo_park   \n",
       "21536           San Carlos Caltrain Station Southbound      san_carlos   \n",
       "21718         Redwood City Caltrain Station Northbound    redwood_city   \n",
       "21546         Redwood City Caltrain Station Southbound    redwood_city   \n",
       "22441        San Francisco Caltrain Station Southbound   san_francisco   \n",
       "22493          22nd Street Caltrain Station Southbound     22nd_street   \n",
       "21553           Menlo Park Caltrain Station Southbound      menlo_park   \n",
       "21708           San Carlos Caltrain Station Northbound      san_carlos   \n",
       "22114             Bayshore Caltrain Station Southbound        bayshore   \n",
       "21700              Belmont Caltrain Station Northbound         belmont   \n",
       "21562            Palo Alto Caltrain Station Southbound       palo_alto   \n",
       "22126  South San Francisco Caltrain Station Southbound        south_sf   \n",
       "22373     San Jose Diridon Caltrain Station Northbound      sj_diridon   \n",
       "21693            Hillsdale Caltrain Station Northbound       hillsdale   \n",
       "21570    California Avenue Caltrain Station Southbound  california_ave   \n",
       "21686         Hayward Park Caltrain Station Northbound    hayward_park   \n",
       "21578          San Antonio Caltrain Station Southbound     san_antonio   \n",
       "21680            San Mateo Caltrain Station Northbound       san_mateo   \n",
       "22136            San Bruno Caltrain Station Southbound       san_bruno   \n",
       "21587        Mountain View Caltrain Station Southbound   mountain_view   \n",
       "22358          Santa Clara Caltrain Station Northbound     santa_clara   \n",
       "21672           Burlingame Caltrain Station Northbound      burlingame   \n",
       "22146             Millbrae Caltrain Station Southbound      place_MLBR   \n",
       "21665             Broadway Caltrain Station Northbound        broadway   \n",
       "22342             Lawrence Caltrain Station Northbound        lawrence   \n",
       "21596            Sunnyvale Caltrain Station Southbound       sunnyvale   \n",
       "22152             Broadway Caltrain Station Southbound        broadway   \n",
       "21659             Millbrae Caltrain Station Northbound      place_MLBR   \n",
       "22330            Sunnyvale Caltrain Station Northbound       sunnyvale   \n",
       "21606             Lawrence Caltrain Station Southbound        lawrence   \n",
       "22159           Burlingame Caltrain Station Southbound      burlingame   \n",
       "22166            San Mateo Caltrain Station Southbound       san_mateo   \n",
       "21650            San Bruno Caltrain Station Northbound       san_bruno   \n",
       "21642  South San Francisco Caltrain Station Northbound        south_sf   \n",
       "21616          Santa Clara Caltrain Station Southbound     santa_clara   \n",
       "22319        Mountain View Caltrain Station Northbound   mountain_view   \n",
       "\n",
       "      arrival_time  delay_minutes  is_delayed delay_severity commute_period  \n",
       "20952     12:30:00      -5.966667       False        On Time        Weekend  \n",
       "21501     12:31:00      -5.966667       False        On Time        Weekend  \n",
       "21760     12:34:00      -4.966667       False        On Time        Weekend  \n",
       "20943     12:34:00      -6.966667       False        On Time        Weekend  \n",
       "21508     12:34:00      -6.966667       False        On Time        Weekend  \n",
       "21751     12:37:00      -5.966667       False        On Time        Weekend  \n",
       "21515     12:37:00      -7.966667       False        On Time        Weekend  \n",
       "20934     12:41:00      -4.966667       False        On Time        Weekend  \n",
       "21522     12:41:00      -5.983333       False        On Time        Weekend  \n",
       "22391     13:05:00      18.016667        True          Major        Weekend  \n",
       "21740     12:42:00      -5.983333       False        On Time        Weekend  \n",
       "21732     12:46:00      -3.983333       False        On Time        Weekend  \n",
       "21528     12:44:00      -6.983333       False        On Time        Weekend  \n",
       "20923     12:46:00      -4.983333       False        On Time        Weekend  \n",
       "21727     12:50:00      -3.000000       False        On Time        Weekend  \n",
       "21536     12:48:00      -7.000000       False        On Time        Weekend  \n",
       "21718     12:56:00      -2.000000       False        On Time        Weekend  \n",
       "21546     12:52:00      -6.000000       False        On Time        Weekend  \n",
       "22441     13:58:00      58.750000        True          Major        Weekend  \n",
       "22493     14:03:00      62.750000        True          Major        Weekend  \n",
       "21553     12:58:00      -5.266667       False        On Time        Weekend  \n",
       "21708     13:01:00      -2.266667       False        On Time        Weekend  \n",
       "22114     13:08:00       3.733333       False        On Time        Weekend  \n",
       "21700     13:04:00      -2.266667       False        On Time        Weekend  \n",
       "21562     13:02:00      -5.266667       False        On Time        Weekend  \n",
       "22126     13:15:00       5.716667        True          Minor        Weekend  \n",
       "22373     13:12:00       1.733333       False        On Time        Weekend  \n",
       "21693     13:08:00      -2.266667       False        On Time        Weekend  \n",
       "21570     13:06:00      -4.266667       False        On Time        Weekend  \n",
       "21686     13:11:00      -2.283333       False        On Time        Weekend  \n",
       "21578     13:11:00      -3.283333       False        On Time        Weekend  \n",
       "21680     13:15:00      -1.283333       False        On Time        Weekend  \n",
       "22136     13:19:00       2.716667       False        On Time        Weekend  \n",
       "21587     13:16:00      -2.300000       False        On Time        Weekend  \n",
       "22358     13:18:00      -0.300000       False        On Time        Weekend  \n",
       "21672     13:19:00      -1.300000       False        On Time        Weekend  \n",
       "22146     13:24:00       2.700000       False        On Time        Weekend  \n",
       "21665     13:22:00      -1.300000       False        On Time        Weekend  \n",
       "22342     13:24:00      -0.550000       False        On Time        Weekend  \n",
       "21596     13:21:00      -3.550000       False        On Time        Weekend  \n",
       "22152     13:27:00       1.433333       False        On Time        Weekend  \n",
       "21659     13:26:00      -0.550000       False        On Time        Weekend  \n",
       "22330     13:28:00      -0.566667       False        On Time        Weekend  \n",
       "21606     13:26:00      -2.566667       False        On Time        Weekend  \n",
       "22159     13:31:00       2.433333       False        On Time        Weekend  \n",
       "22166     13:34:00       2.683333       False        On Time        Weekend  \n",
       "21650     13:30:00      -1.316667       False        On Time        Weekend  \n",
       "21642     13:34:00       1.683333       False        On Time        Weekend  \n",
       "21616     13:32:00      -1.316667       False        On Time        Weekend  \n",
       "22319     13:34:00       0.683333       False        On Time        Weekend  "
      ]
     },
     "execution_count": 111,
     "metadata": {},
     "output_type": "execute_result"
    }
   ],
   "source": [
    "# morning, evening commutes 6-9a / 3:30-7:30p\n",
    "unique_trips.sort_values(by='actual_arrival_time').tail(50)"
   ]
  },
  {
   "cell_type": "code",
   "execution_count": 112,
   "metadata": {},
   "outputs": [
    {
     "data": {
      "application/vnd.plotly.v1+json": {
       "config": {
        "plotlyServerURL": "https://plot.ly"
       },
       "data": [
        {
         "alignmentgroup": "True",
         "bingroup": "x",
         "hovertemplate": "commute_period=Other<br>delay_minutes=%{x}<br>count=%{y}<extra></extra>",
         "legendgroup": "Other",
         "marker": {
          "color": "#636efa",
          "opacity": 0.5,
          "pattern": {
           "shape": ""
          }
         },
         "name": "Other",
         "offsetgroup": "Other",
         "orientation": "v",
         "showlegend": true,
         "type": "histogram",
         "x": [
          23.65,
          32.733333333333334,
          24.2,
          88.76666666666667,
          89.5,
          7.283333333333333,
          17.65,
          31.15,
          89.38333333333334,
          89.45,
          114.63333333333334,
          38.03333333333333,
          29.1,
          89.61666666666666,
          22.166666666666668,
          19.316666666666666,
          43.53333333333333,
          31.216666666666665,
          56.05,
          18.45,
          17.916666666666668,
          16.933333333333334,
          39.666666666666664,
          28.316666666666666,
          32.85,
          88.7,
          8.75,
          14.75,
          33.916666666666664,
          36.46666666666667,
          34.666666666666664,
          10.033333333333333,
          11.916666666666666,
          89.9,
          90.45,
          90.66666666666667,
          89.35,
          11.5,
          12.15,
          87.95,
          61.15,
          15.733333333333333,
          16.366666666666667,
          88.28333333333333,
          85.93333333333334,
          84.23333333333333,
          31.066666666666666,
          34.5,
          89.6,
          88.78333333333333,
          121.35,
          155.36666666666667,
          15.133333333333333,
          14.4,
          14.6,
          45.86666666666667,
          49.28333333333333,
          44.38333333333333,
          49.016666666666666,
          16.333333333333332,
          19.75,
          22.1,
          18.583333333333332,
          52.85,
          25.516666666666666,
          17.95,
          71.83333333333333,
          77.56666666666666,
          73.98333333333333,
          58.03333333333333,
          42.93333333333333,
          44.3,
          44.516666666666666,
          34.93333333333333,
          7.666666666666667,
          44.75,
          48.46666666666667,
          50.9,
          91.5,
          100.75,
          26.15,
          30.75,
          30.45,
          35.88333333333333,
          90.01666666666667,
          89.66666666666667,
          39.96666666666667,
          89.5,
          88.9,
          45.96666666666667,
          18.116666666666667,
          9.016666666666667,
          16.1,
          17.566666666666666,
          18.6,
          19.016666666666666,
          13.533333333333333,
          89.91666666666667,
          22.733333333333334,
          14.5,
          7.616666666666666,
          22.95,
          8.783333333333333,
          12.866666666666667,
          85.55,
          90.21666666666667,
          40.56666666666667,
          24.366666666666667,
          21.1,
          89.83333333333333,
          83.9,
          89.15,
          34.46666666666667,
          29.35,
          89.23333333333333,
          28.1,
          26.166666666666668,
          18.15,
          89.65,
          89.46666666666667,
          89.2,
          11.683333333333334,
          81.05,
          7.966666666666667,
          59.7,
          46.8,
          69.16666666666667,
          71.68333333333334,
          15.666666666666666,
          58.18333333333333,
          70.01666666666667,
          37.916666666666664,
          33.45,
          31.65,
          34.71666666666667,
          31.716666666666665,
          67.08333333333333,
          68.91666666666667,
          54.55,
          84.75,
          86.7,
          17.75,
          28.233333333333334,
          14.566666666666666,
          36.516666666666666,
          39.28333333333333,
          27.5,
          31.1,
          30.083333333333332,
          87.83333333333333,
          84.16666666666667,
          89.16666666666667,
          63.81666666666667,
          44.833333333333336
         ],
         "xaxis": "x",
         "yaxis": "y"
        },
        {
         "alignmentgroup": "True",
         "bingroup": "x",
         "hovertemplate": "commute_period=Morning<br>delay_minutes=%{x}<br>count=%{y}<extra></extra>",
         "legendgroup": "Morning",
         "marker": {
          "color": "#EF553B",
          "opacity": 0.5,
          "pattern": {
           "shape": ""
          }
         },
         "name": "Morning",
         "offsetgroup": "Morning",
         "orientation": "v",
         "showlegend": true,
         "type": "histogram",
         "x": [
          13.983333333333333,
          24.516666666666666,
          23.7,
          33.31666666666667,
          27.416666666666668,
          32.666666666666664,
          5.983333333333333,
          17.466666666666665,
          16.883333333333333,
          13.316666666666666,
          37.56666666666667,
          13.166666666666666,
          17.483333333333334,
          61.166666666666664,
          61.46666666666667,
          22.433333333333334,
          16.05,
          22.033333333333335,
          25.566666666666666,
          24.45,
          22.666666666666668,
          86.05,
          21.85,
          21.783333333333335,
          21.55,
          17.833333333333332,
          16.716666666666665,
          14.683333333333334,
          47.05,
          27.65,
          18.566666666666666,
          48.36666666666667,
          35.78333333333333,
          41.56666666666667,
          70.05,
          71.18333333333334,
          72.5,
          32.53333333333333,
          8.833333333333334,
          11.983333333333333,
          12.683333333333334,
          42.9,
          40.53333333333333,
          41.78333333333333,
          44.15,
          45.65,
          25.916666666666668,
          30.6
         ],
         "xaxis": "x",
         "yaxis": "y"
        },
        {
         "alignmentgroup": "True",
         "bingroup": "x",
         "hovertemplate": "commute_period=Evening<br>delay_minutes=%{x}<br>count=%{y}<extra></extra>",
         "legendgroup": "Evening",
         "marker": {
          "color": "#00cc96",
          "opacity": 0.5,
          "pattern": {
           "shape": ""
          }
         },
         "name": "Evening",
         "offsetgroup": "Evening",
         "orientation": "v",
         "showlegend": true,
         "type": "histogram",
         "x": [
          21.833333333333332,
          27.733333333333334,
          104.21666666666667,
          17.533333333333335,
          8.6,
          32.916666666666664,
          18.45,
          17.25,
          6.883333333333334,
          17.516666666666666,
          28.333333333333332,
          5.383333333333334,
          27.05,
          20.483333333333334,
          25.366666666666667,
          21.816666666666666,
          20.633333333333333,
          10.933333333333334,
          19.35,
          18.4,
          29.816666666666666,
          59.516666666666666,
          24.883333333333333,
          21.05,
          65.51666666666667,
          19.283333333333335,
          89.4,
          87.28333333333333,
          89.03333333333333,
          89.81666666666666,
          11.483333333333333,
          16.4,
          10.733333333333333,
          30.6,
          23.75,
          84.66666666666667,
          89.78333333333333,
          28.166666666666668,
          23.55,
          9.6,
          7.05,
          5.366666666666666,
          12.916666666666666,
          18.316666666666666,
          6.483333333333333,
          6.516666666666667,
          37.53333333333333,
          27.933333333333334,
          32.8,
          11.8,
          22.266666666666666,
          25.583333333333332,
          31.866666666666667,
          18.166666666666668,
          26.533333333333335,
          20.166666666666668,
          16.45,
          20.583333333333332,
          33.483333333333334,
          5.516666666666667,
          13.35,
          22.666666666666668,
          19.616666666666667,
          26.05,
          30.366666666666667,
          13.216666666666667,
          18.916666666666668,
          22.066666666666666,
          69.96666666666667,
          65.95,
          64.88333333333334,
          56.05,
          24.533333333333335,
          23.2,
          20.233333333333334,
          16,
          16.533333333333335,
          8.566666666666666,
          34.516666666666666,
          33.8,
          24.583333333333332,
          36.88333333333333,
          21.966666666666665,
          23.9,
          34.516666666666666,
          15.45
         ],
         "xaxis": "x",
         "yaxis": "y"
        },
        {
         "alignmentgroup": "True",
         "bingroup": "x",
         "hovertemplate": "commute_period=Weekend<br>delay_minutes=%{x}<br>count=%{y}<extra></extra>",
         "legendgroup": "Weekend",
         "marker": {
          "color": "#ab63fa",
          "opacity": 0.5,
          "pattern": {
           "shape": ""
          }
         },
         "name": "Weekend",
         "offsetgroup": "Weekend",
         "orientation": "v",
         "showlegend": true,
         "type": "histogram",
         "x": [
          5.416666666666667,
          17.633333333333333,
          11.516666666666667,
          68.6,
          41.43333333333333,
          24.216666666666665,
          28.35,
          60.18333333333333,
          59.3,
          63.3,
          46.25,
          28.133333333333333,
          23.25,
          43.06666666666667,
          9.916666666666666,
          57.93333333333333,
          62.916666666666664,
          32.86666666666667,
          5.066666666666666,
          64.83333333333333,
          57.333333333333336,
          63.333333333333336,
          5.716666666666667,
          12.75,
          18.016666666666666,
          62.733333333333334,
          58.75,
          62.75,
          63.61666666666667,
          12.533333333333333,
          8.1,
          61.53333333333333,
          32.21666666666667,
          76.1,
          26.1,
          63.25,
          63.1,
          12.366666666666667,
          23.016666666666666,
          60.016666666666666,
          13.733333333333333,
          12.666666666666666,
          22.166666666666668,
          61.666666666666664,
          85.16666666666667,
          89.61666666666666,
          91.16666666666667,
          5.2,
          5.683333333333334,
          169.88333333333333,
          44.6,
          52.55,
          63.05,
          63.5,
          50.45,
          71.2,
          66.41666666666667
         ],
         "xaxis": "x",
         "yaxis": "y"
        }
       ],
       "layout": {
        "barmode": "overlay",
        "legend": {
         "title": {
          "text": "commute_period"
         },
         "tracegroupgap": 0
        },
        "margin": {
         "t": 60
        },
        "template": {
         "data": {
          "bar": [
           {
            "error_x": {
             "color": "#2a3f5f"
            },
            "error_y": {
             "color": "#2a3f5f"
            },
            "marker": {
             "line": {
              "color": "#E5ECF6",
              "width": 0.5
             },
             "pattern": {
              "fillmode": "overlay",
              "size": 10,
              "solidity": 0.2
             }
            },
            "type": "bar"
           }
          ],
          "barpolar": [
           {
            "marker": {
             "line": {
              "color": "#E5ECF6",
              "width": 0.5
             },
             "pattern": {
              "fillmode": "overlay",
              "size": 10,
              "solidity": 0.2
             }
            },
            "type": "barpolar"
           }
          ],
          "carpet": [
           {
            "aaxis": {
             "endlinecolor": "#2a3f5f",
             "gridcolor": "white",
             "linecolor": "white",
             "minorgridcolor": "white",
             "startlinecolor": "#2a3f5f"
            },
            "baxis": {
             "endlinecolor": "#2a3f5f",
             "gridcolor": "white",
             "linecolor": "white",
             "minorgridcolor": "white",
             "startlinecolor": "#2a3f5f"
            },
            "type": "carpet"
           }
          ],
          "choropleth": [
           {
            "colorbar": {
             "outlinewidth": 0,
             "ticks": ""
            },
            "type": "choropleth"
           }
          ],
          "contour": [
           {
            "colorbar": {
             "outlinewidth": 0,
             "ticks": ""
            },
            "colorscale": [
             [
              0,
              "#0d0887"
             ],
             [
              0.1111111111111111,
              "#46039f"
             ],
             [
              0.2222222222222222,
              "#7201a8"
             ],
             [
              0.3333333333333333,
              "#9c179e"
             ],
             [
              0.4444444444444444,
              "#bd3786"
             ],
             [
              0.5555555555555556,
              "#d8576b"
             ],
             [
              0.6666666666666666,
              "#ed7953"
             ],
             [
              0.7777777777777778,
              "#fb9f3a"
             ],
             [
              0.8888888888888888,
              "#fdca26"
             ],
             [
              1,
              "#f0f921"
             ]
            ],
            "type": "contour"
           }
          ],
          "contourcarpet": [
           {
            "colorbar": {
             "outlinewidth": 0,
             "ticks": ""
            },
            "type": "contourcarpet"
           }
          ],
          "heatmap": [
           {
            "colorbar": {
             "outlinewidth": 0,
             "ticks": ""
            },
            "colorscale": [
             [
              0,
              "#0d0887"
             ],
             [
              0.1111111111111111,
              "#46039f"
             ],
             [
              0.2222222222222222,
              "#7201a8"
             ],
             [
              0.3333333333333333,
              "#9c179e"
             ],
             [
              0.4444444444444444,
              "#bd3786"
             ],
             [
              0.5555555555555556,
              "#d8576b"
             ],
             [
              0.6666666666666666,
              "#ed7953"
             ],
             [
              0.7777777777777778,
              "#fb9f3a"
             ],
             [
              0.8888888888888888,
              "#fdca26"
             ],
             [
              1,
              "#f0f921"
             ]
            ],
            "type": "heatmap"
           }
          ],
          "heatmapgl": [
           {
            "colorbar": {
             "outlinewidth": 0,
             "ticks": ""
            },
            "colorscale": [
             [
              0,
              "#0d0887"
             ],
             [
              0.1111111111111111,
              "#46039f"
             ],
             [
              0.2222222222222222,
              "#7201a8"
             ],
             [
              0.3333333333333333,
              "#9c179e"
             ],
             [
              0.4444444444444444,
              "#bd3786"
             ],
             [
              0.5555555555555556,
              "#d8576b"
             ],
             [
              0.6666666666666666,
              "#ed7953"
             ],
             [
              0.7777777777777778,
              "#fb9f3a"
             ],
             [
              0.8888888888888888,
              "#fdca26"
             ],
             [
              1,
              "#f0f921"
             ]
            ],
            "type": "heatmapgl"
           }
          ],
          "histogram": [
           {
            "marker": {
             "pattern": {
              "fillmode": "overlay",
              "size": 10,
              "solidity": 0.2
             }
            },
            "type": "histogram"
           }
          ],
          "histogram2d": [
           {
            "colorbar": {
             "outlinewidth": 0,
             "ticks": ""
            },
            "colorscale": [
             [
              0,
              "#0d0887"
             ],
             [
              0.1111111111111111,
              "#46039f"
             ],
             [
              0.2222222222222222,
              "#7201a8"
             ],
             [
              0.3333333333333333,
              "#9c179e"
             ],
             [
              0.4444444444444444,
              "#bd3786"
             ],
             [
              0.5555555555555556,
              "#d8576b"
             ],
             [
              0.6666666666666666,
              "#ed7953"
             ],
             [
              0.7777777777777778,
              "#fb9f3a"
             ],
             [
              0.8888888888888888,
              "#fdca26"
             ],
             [
              1,
              "#f0f921"
             ]
            ],
            "type": "histogram2d"
           }
          ],
          "histogram2dcontour": [
           {
            "colorbar": {
             "outlinewidth": 0,
             "ticks": ""
            },
            "colorscale": [
             [
              0,
              "#0d0887"
             ],
             [
              0.1111111111111111,
              "#46039f"
             ],
             [
              0.2222222222222222,
              "#7201a8"
             ],
             [
              0.3333333333333333,
              "#9c179e"
             ],
             [
              0.4444444444444444,
              "#bd3786"
             ],
             [
              0.5555555555555556,
              "#d8576b"
             ],
             [
              0.6666666666666666,
              "#ed7953"
             ],
             [
              0.7777777777777778,
              "#fb9f3a"
             ],
             [
              0.8888888888888888,
              "#fdca26"
             ],
             [
              1,
              "#f0f921"
             ]
            ],
            "type": "histogram2dcontour"
           }
          ],
          "mesh3d": [
           {
            "colorbar": {
             "outlinewidth": 0,
             "ticks": ""
            },
            "type": "mesh3d"
           }
          ],
          "parcoords": [
           {
            "line": {
             "colorbar": {
              "outlinewidth": 0,
              "ticks": ""
             }
            },
            "type": "parcoords"
           }
          ],
          "pie": [
           {
            "automargin": true,
            "type": "pie"
           }
          ],
          "scatter": [
           {
            "fillpattern": {
             "fillmode": "overlay",
             "size": 10,
             "solidity": 0.2
            },
            "type": "scatter"
           }
          ],
          "scatter3d": [
           {
            "line": {
             "colorbar": {
              "outlinewidth": 0,
              "ticks": ""
             }
            },
            "marker": {
             "colorbar": {
              "outlinewidth": 0,
              "ticks": ""
             }
            },
            "type": "scatter3d"
           }
          ],
          "scattercarpet": [
           {
            "marker": {
             "colorbar": {
              "outlinewidth": 0,
              "ticks": ""
             }
            },
            "type": "scattercarpet"
           }
          ],
          "scattergeo": [
           {
            "marker": {
             "colorbar": {
              "outlinewidth": 0,
              "ticks": ""
             }
            },
            "type": "scattergeo"
           }
          ],
          "scattergl": [
           {
            "marker": {
             "colorbar": {
              "outlinewidth": 0,
              "ticks": ""
             }
            },
            "type": "scattergl"
           }
          ],
          "scattermapbox": [
           {
            "marker": {
             "colorbar": {
              "outlinewidth": 0,
              "ticks": ""
             }
            },
            "type": "scattermapbox"
           }
          ],
          "scatterpolar": [
           {
            "marker": {
             "colorbar": {
              "outlinewidth": 0,
              "ticks": ""
             }
            },
            "type": "scatterpolar"
           }
          ],
          "scatterpolargl": [
           {
            "marker": {
             "colorbar": {
              "outlinewidth": 0,
              "ticks": ""
             }
            },
            "type": "scatterpolargl"
           }
          ],
          "scatterternary": [
           {
            "marker": {
             "colorbar": {
              "outlinewidth": 0,
              "ticks": ""
             }
            },
            "type": "scatterternary"
           }
          ],
          "surface": [
           {
            "colorbar": {
             "outlinewidth": 0,
             "ticks": ""
            },
            "colorscale": [
             [
              0,
              "#0d0887"
             ],
             [
              0.1111111111111111,
              "#46039f"
             ],
             [
              0.2222222222222222,
              "#7201a8"
             ],
             [
              0.3333333333333333,
              "#9c179e"
             ],
             [
              0.4444444444444444,
              "#bd3786"
             ],
             [
              0.5555555555555556,
              "#d8576b"
             ],
             [
              0.6666666666666666,
              "#ed7953"
             ],
             [
              0.7777777777777778,
              "#fb9f3a"
             ],
             [
              0.8888888888888888,
              "#fdca26"
             ],
             [
              1,
              "#f0f921"
             ]
            ],
            "type": "surface"
           }
          ],
          "table": [
           {
            "cells": {
             "fill": {
              "color": "#EBF0F8"
             },
             "line": {
              "color": "white"
             }
            },
            "header": {
             "fill": {
              "color": "#C8D4E3"
             },
             "line": {
              "color": "white"
             }
            },
            "type": "table"
           }
          ]
         },
         "layout": {
          "annotationdefaults": {
           "arrowcolor": "#2a3f5f",
           "arrowhead": 0,
           "arrowwidth": 1
          },
          "autotypenumbers": "strict",
          "coloraxis": {
           "colorbar": {
            "outlinewidth": 0,
            "ticks": ""
           }
          },
          "colorscale": {
           "diverging": [
            [
             0,
             "#8e0152"
            ],
            [
             0.1,
             "#c51b7d"
            ],
            [
             0.2,
             "#de77ae"
            ],
            [
             0.3,
             "#f1b6da"
            ],
            [
             0.4,
             "#fde0ef"
            ],
            [
             0.5,
             "#f7f7f7"
            ],
            [
             0.6,
             "#e6f5d0"
            ],
            [
             0.7,
             "#b8e186"
            ],
            [
             0.8,
             "#7fbc41"
            ],
            [
             0.9,
             "#4d9221"
            ],
            [
             1,
             "#276419"
            ]
           ],
           "sequential": [
            [
             0,
             "#0d0887"
            ],
            [
             0.1111111111111111,
             "#46039f"
            ],
            [
             0.2222222222222222,
             "#7201a8"
            ],
            [
             0.3333333333333333,
             "#9c179e"
            ],
            [
             0.4444444444444444,
             "#bd3786"
            ],
            [
             0.5555555555555556,
             "#d8576b"
            ],
            [
             0.6666666666666666,
             "#ed7953"
            ],
            [
             0.7777777777777778,
             "#fb9f3a"
            ],
            [
             0.8888888888888888,
             "#fdca26"
            ],
            [
             1,
             "#f0f921"
            ]
           ],
           "sequentialminus": [
            [
             0,
             "#0d0887"
            ],
            [
             0.1111111111111111,
             "#46039f"
            ],
            [
             0.2222222222222222,
             "#7201a8"
            ],
            [
             0.3333333333333333,
             "#9c179e"
            ],
            [
             0.4444444444444444,
             "#bd3786"
            ],
            [
             0.5555555555555556,
             "#d8576b"
            ],
            [
             0.6666666666666666,
             "#ed7953"
            ],
            [
             0.7777777777777778,
             "#fb9f3a"
            ],
            [
             0.8888888888888888,
             "#fdca26"
            ],
            [
             1,
             "#f0f921"
            ]
           ]
          },
          "colorway": [
           "#636efa",
           "#EF553B",
           "#00cc96",
           "#ab63fa",
           "#FFA15A",
           "#19d3f3",
           "#FF6692",
           "#B6E880",
           "#FF97FF",
           "#FECB52"
          ],
          "font": {
           "color": "#2a3f5f"
          },
          "geo": {
           "bgcolor": "white",
           "lakecolor": "white",
           "landcolor": "#E5ECF6",
           "showlakes": true,
           "showland": true,
           "subunitcolor": "white"
          },
          "hoverlabel": {
           "align": "left"
          },
          "hovermode": "closest",
          "mapbox": {
           "style": "light"
          },
          "paper_bgcolor": "white",
          "plot_bgcolor": "#E5ECF6",
          "polar": {
           "angularaxis": {
            "gridcolor": "white",
            "linecolor": "white",
            "ticks": ""
           },
           "bgcolor": "#E5ECF6",
           "radialaxis": {
            "gridcolor": "white",
            "linecolor": "white",
            "ticks": ""
           }
          },
          "scene": {
           "xaxis": {
            "backgroundcolor": "#E5ECF6",
            "gridcolor": "white",
            "gridwidth": 2,
            "linecolor": "white",
            "showbackground": true,
            "ticks": "",
            "zerolinecolor": "white"
           },
           "yaxis": {
            "backgroundcolor": "#E5ECF6",
            "gridcolor": "white",
            "gridwidth": 2,
            "linecolor": "white",
            "showbackground": true,
            "ticks": "",
            "zerolinecolor": "white"
           },
           "zaxis": {
            "backgroundcolor": "#E5ECF6",
            "gridcolor": "white",
            "gridwidth": 2,
            "linecolor": "white",
            "showbackground": true,
            "ticks": "",
            "zerolinecolor": "white"
           }
          },
          "shapedefaults": {
           "line": {
            "color": "#2a3f5f"
           }
          },
          "ternary": {
           "aaxis": {
            "gridcolor": "white",
            "linecolor": "white",
            "ticks": ""
           },
           "baxis": {
            "gridcolor": "white",
            "linecolor": "white",
            "ticks": ""
           },
           "bgcolor": "#E5ECF6",
           "caxis": {
            "gridcolor": "white",
            "linecolor": "white",
            "ticks": ""
           }
          },
          "title": {
           "x": 0.05
          },
          "xaxis": {
           "automargin": true,
           "gridcolor": "white",
           "linecolor": "white",
           "ticks": "",
           "title": {
            "standoff": 15
           },
           "zerolinecolor": "white",
           "zerolinewidth": 2
          },
          "yaxis": {
           "automargin": true,
           "gridcolor": "white",
           "linecolor": "white",
           "ticks": "",
           "title": {
            "standoff": 15
           },
           "zerolinecolor": "white",
           "zerolinewidth": 2
          }
         }
        },
        "xaxis": {
         "anchor": "y",
         "domain": [
          0,
          1
         ],
         "title": {
          "text": "delay_minutes"
         }
        },
        "yaxis": {
         "anchor": "x",
         "domain": [
          0,
          1
         ],
         "title": {
          "text": "count"
         }
        }
       }
      }
     },
     "metadata": {},
     "output_type": "display_data"
    }
   ],
   "source": [
    "fig = px.histogram(unique_trips.loc[unique_trips.delay_minutes >=5],x='delay_minutes', color=\"commute_period\",barmode='overlay')\n",
    "fig.show()"
   ]
  },
  {
   "cell_type": "code",
   "execution_count": 113,
   "metadata": {},
   "outputs": [
    {
     "data": {
      "text/plain": [
       "array([datetime.date(2024, 7, 8), datetime.date(2024, 7, 10),\n",
       "       datetime.date(2024, 7, 12), datetime.date(2024, 7, 9),\n",
       "       datetime.date(2024, 7, 11), datetime.date(2024, 7, 13),\n",
       "       datetime.date(2024, 7, 14), datetime.date(2024, 7, 7)],\n",
       "      dtype=object)"
      ]
     },
     "execution_count": 113,
     "metadata": {},
     "output_type": "execute_result"
    }
   ],
   "source": [
    "unique_trips.date.unique()"
   ]
  },
  {
   "cell_type": "code",
   "execution_count": 114,
   "metadata": {},
   "outputs": [
    {
     "data": {
      "text/plain": [
       "array(['22nd_street', 'bayshore', 'south_sf', 'san_bruno', 'place_MLBR',\n",
       "       'burlingame', 'san_mateo', 'hayward_park', 'hillsdale', 'belmont',\n",
       "       'san_carlos', 'redwood_city', 'menlo_park', 'palo_alto',\n",
       "       'california_ave', 'san_antonio', 'mountain_view', 'sunnyvale',\n",
       "       'lawrence', 'santa_clara', 'sj_diridon', 'tamien', 'san_francisco',\n",
       "       'college_park', 'broadway', 'capitol', 'blossom_hill',\n",
       "       'morgan_hill', 'san_martin', 'gilroy'], dtype=object)"
      ]
     },
     "execution_count": 114,
     "metadata": {},
     "output_type": "execute_result"
    }
   ],
   "source": [
    "unique_trips.parent_station.unique()"
   ]
  },
  {
   "cell_type": "code",
   "execution_count": 115,
   "metadata": {},
   "outputs": [
    {
     "name": "stderr",
     "output_type": "stream",
     "text": [
      "C:\\Users\\Jonathan\\AppData\\Local\\Temp\\ipykernel_16932\\832418268.py:7: SettingWithCopyWarning:\n",
      "\n",
      "\n",
      "A value is trying to be set on a copy of a slice from a DataFrame.\n",
      "Try using .loc[row_indexer,col_indexer] = value instead\n",
      "\n",
      "See the caveats in the documentation: https://pandas.pydata.org/pandas-docs/stable/user_guide/indexing.html#returning-a-view-versus-a-copy\n",
      "\n"
     ]
    }
   ],
   "source": [
    "def clean_station_name(name):\n",
    "    if name == 'place_MLBR':\n",
    "        return 'Millbrae'\n",
    "    name = name.replace('_', ' ')\n",
    "    return name.title()\n",
    "# Apply the cleaning function to parent_station names\n",
    "unique_trips['parent_station'] = unique_trips['parent_station'].apply(clean_station_name)\n"
   ]
  },
  {
   "cell_type": "code",
   "execution_count": 116,
   "metadata": {},
   "outputs": [
    {
     "data": {
      "text/plain": [
       "0        False\n",
       "1        False\n",
       "2        False\n",
       "3        False\n",
       "4        False\n",
       "         ...  \n",
       "43946    False\n",
       "43947    False\n",
       "43948    False\n",
       "43949    False\n",
       "43950    False\n",
       "Name: delay_minutes, Length: 43951, dtype: bool"
      ]
     },
     "execution_count": 116,
     "metadata": {},
     "output_type": "execute_result"
    }
   ],
   "source": [
    "(comparison_df['delay_minutes'] > 4) & (comparison_df['delay_minutes'] < 500)"
   ]
  },
  {
   "cell_type": "code",
   "execution_count": 130,
   "metadata": {},
   "outputs": [
    {
     "data": {
      "application/vnd.plotly.v1+json": {
       "config": {
        "plotlyServerURL": "https://plot.ly"
       },
       "data": [
        {
         "colorscale": [
          [
           0,
           "#440154"
          ],
          [
           0.1111111111111111,
           "#482878"
          ],
          [
           0.2222222222222222,
           "#3e4989"
          ],
          [
           0.3333333333333333,
           "#31688e"
          ],
          [
           0.4444444444444444,
           "#26828e"
          ],
          [
           0.5555555555555556,
           "#1f9e89"
          ],
          [
           0.6666666666666666,
           "#35b779"
          ],
          [
           0.7777777777777778,
           "#6ece58"
          ],
          [
           0.8888888888888888,
           "#b5de2b"
          ],
          [
           1,
           "#fde725"
          ]
         ],
         "type": "heatmap",
         "x": [
          "San Francisco",
          "22Nd Street",
          "22Nd Street",
          "Bayshore",
          "Bayshore",
          "South Sf",
          "South Sf",
          "San Bruno",
          "San Bruno",
          "Millbrae",
          "Millbrae",
          "Broadway",
          "Broadway",
          "Burlingame",
          "Burlingame",
          "San Mateo",
          "San Mateo",
          "Hayward Park",
          "Hayward Park",
          "Hillsdale",
          "Hillsdale",
          "Belmont",
          "Belmont",
          "San Carlos",
          "San Carlos",
          "Redwood City",
          "Redwood City",
          "Menlo Park",
          "Menlo Park",
          "Palo Alto",
          "Palo Alto",
          "California Ave",
          "California Ave",
          "San Antonio",
          "San Antonio",
          "Mountain View",
          "Mountain View",
          "Sunnyvale",
          "Sunnyvale",
          "Lawrence",
          "Lawrence",
          "Santa Clara",
          "Santa Clara",
          "College Park",
          "College Park",
          "Sj Diridon",
          "Sj Diridon",
          "Tamien",
          "Tamien",
          "Capitol",
          "Capitol",
          "Blossom Hill",
          "Blossom Hill",
          "Morgan Hill",
          "Morgan Hill",
          "San Martin",
          "San Martin",
          "Gilroy"
         ],
         "y": [
          "101",
          "102",
          "103",
          "104",
          "105",
          "106",
          "107",
          "108",
          "109",
          "110",
          "111",
          "112",
          "113",
          "114",
          "115",
          "116",
          "117",
          "118",
          "119",
          "120",
          "121",
          "122",
          "123",
          "124",
          "125",
          "126",
          "127",
          "128",
          "129",
          "130",
          "131",
          "132",
          "133",
          "134",
          "135",
          "136",
          "137",
          "138",
          "139",
          "140",
          "141",
          "142",
          "143",
          "144",
          "145",
          "146",
          "221",
          "224",
          "225",
          "228",
          "229",
          "233",
          "236",
          "237",
          "240",
          "241",
          "244",
          "248",
          "249",
          "252",
          "253",
          "257",
          "260",
          "261",
          "264",
          "265",
          "268",
          "272",
          "273",
          "276",
          "277",
          "281",
          "284",
          "301",
          "302",
          "303",
          "304",
          "305",
          "306",
          "307",
          "308",
          "309",
          "310",
          "311",
          "312",
          "313",
          "314",
          "401",
          "402",
          "403",
          "404",
          "405",
          "406",
          "407",
          "408",
          "409",
          "410",
          "411",
          "412",
          "413",
          "414",
          "415",
          "501",
          "502",
          "503",
          "504",
          "505",
          "506",
          "507",
          "508",
          "509",
          "510",
          "511",
          "512",
          "513",
          "514",
          "515",
          "516",
          "518",
          "701",
          "702",
          "703",
          "704",
          "705",
          "706",
          "707",
          "708",
          "709",
          "710",
          "711",
          "712"
         ],
         "z": [
          [
           null,
           0,
           null,
           0.31666666666666665,
           null,
           0.07222222222222223,
           null,
           0.07777777777777778,
           null,
           0.16666666666666666,
           null,
           null,
           null,
           0,
           null,
           0.2555555555555556,
           null,
           0,
           null,
           0,
           null,
           0,
           null,
           0.011111111111111112,
           null,
           0,
           null,
           0,
           null,
           0.09999999999999999,
           null,
           0,
           null,
           0,
           null,
           0.19444444444444445,
           null,
           0,
           null,
           0,
           null,
           0,
           null,
           null,
           null,
           0.03333333333333333,
           null,
           26.86111111111111,
           null,
           null,
           null,
           null,
           null,
           null,
           null,
           null,
           null,
           null
          ],
          [
           89.13333333333333,
           null,
           0,
           null,
           0,
           null,
           0,
           null,
           0,
           null,
           0,
           null,
           null,
           null,
           0.041666666666666664,
           null,
           0.041666666666666664,
           null,
           0.041666666666666664,
           null,
           0.45833333333333337,
           null,
           0,
           null,
           0,
           null,
           0,
           null,
           0,
           null,
           0.15833333333333333,
           null,
           0.15,
           null,
           0.175,
           null,
           0.5416666666666667,
           null,
           0.04166666666666667,
           null,
           0.016666666666666666,
           null,
           0,
           null,
           null,
           null,
           null,
           null,
           null,
           null,
           null,
           null,
           null,
           null,
           null,
           null,
           null,
           null
          ],
          [
           null,
           0.027777777777777776,
           null,
           0.11666666666666665,
           null,
           0.12222222222222222,
           null,
           0.2111111111111111,
           null,
           0,
           null,
           null,
           null,
           0,
           null,
           0,
           null,
           0,
           null,
           0.016666666666666666,
           null,
           0.36111111111111116,
           null,
           0.10555555555555556,
           null,
           0,
           null,
           0,
           null,
           0,
           null,
           0,
           null,
           0,
           null,
           0,
           null,
           0,
           null,
           0,
           null,
           0,
           null,
           null,
           null,
           18.694444444444443,
           null,
           null,
           null,
           null,
           null,
           null,
           null,
           null,
           null,
           null,
           null,
           null
          ],
          [
           89.41666666666667,
           null,
           0,
           null,
           0,
           null,
           0,
           null,
           0,
           null,
           0,
           null,
           null,
           null,
           0,
           null,
           0,
           null,
           0,
           null,
           0,
           null,
           0,
           null,
           0,
           null,
           0,
           null,
           0,
           null,
           0,
           null,
           0,
           null,
           0,
           null,
           0,
           null,
           0,
           null,
           1.375,
           null,
           0,
           null,
           null,
           null,
           0.075,
           null,
           null,
           null,
           null,
           null,
           null,
           null,
           null,
           null,
           null,
           null
          ],
          [
           null,
           0,
           null,
           0,
           null,
           0.016666666666666666,
           null,
           0.23333333333333334,
           null,
           0.20833333333333334,
           null,
           null,
           null,
           0.35,
           null,
           0,
           null,
           57.31666666666667,
           null,
           0,
           null,
           0.55,
           null,
           0.05,
           null,
           0.175,
           null,
           0,
           null,
           0,
           null,
           0,
           null,
           0,
           null,
           0,
           null,
           0,
           null,
           1.2416666666666667,
           null,
           0.15833333333333333,
           null,
           null,
           null,
           33.56666666666666,
           null,
           null,
           null,
           null,
           null,
           null,
           null,
           null,
           null,
           null,
           null,
           null
          ],
          [
           51.8,
           null,
           0,
           null,
           0,
           null,
           0,
           null,
           0,
           null,
           0,
           null,
           null,
           null,
           0,
           null,
           0,
           null,
           0,
           null,
           0,
           null,
           0,
           null,
           0,
           null,
           0,
           null,
           0,
           null,
           0,
           null,
           0,
           null,
           0,
           null,
           0,
           null,
           0,
           null,
           0.275,
           null,
           0,
           null,
           0,
           null,
           0,
           null,
           null,
           null,
           null,
           null,
           null,
           null,
           null,
           null,
           null,
           null
          ],
          [
           null,
           0.25,
           null,
           0.25833333333333336,
           null,
           0.26666666666666666,
           null,
           1.1583333333333334,
           null,
           0.275,
           null,
           null,
           null,
           0.525,
           null,
           0.03333333333333333,
           null,
           0.03333333333333333,
           null,
           0.2916666666666667,
           null,
           0,
           null,
           0,
           null,
           0.5916666666666667,
           null,
           0,
           null,
           0,
           null,
           0,
           null,
           0,
           null,
           0.325,
           null,
           0.825,
           null,
           1.5416666666666667,
           null,
           0,
           null,
           null,
           null,
           24.108333333333334,
           null,
           null,
           null,
           null,
           null,
           null,
           null,
           null,
           null,
           null,
           null,
           null
          ],
          [
           31.133333333333336,
           null,
           0,
           null,
           0.13333333333333333,
           null,
           0.14444444444444443,
           null,
           0.016666666666666666,
           null,
           0,
           null,
           null,
           null,
           0.2833333333333333,
           null,
           0,
           null,
           0.16666666666666666,
           null,
           0.16666666666666666,
           null,
           0.10555555555555556,
           null,
           0.10555555555555556,
           null,
           0.022222222222222223,
           null,
           0.6,
           null,
           0.2611111111111111,
           null,
           0.17777777777777778,
           null,
           0.47222222222222227,
           null,
           0.7555555555555555,
           null,
           0.75,
           null,
           3.1722222222222225,
           null,
           0.45555555555555555,
           null,
           null,
           null,
           null,
           null,
           null,
           null,
           null,
           null,
           null,
           null,
           null,
           null,
           null,
           null
          ],
          [
           null,
           0,
           null,
           0,
           null,
           0,
           null,
           0,
           null,
           0,
           null,
           null,
           null,
           0,
           null,
           0,
           null,
           0,
           null,
           0,
           null,
           0,
           null,
           0,
           null,
           0,
           null,
           0,
           null,
           0,
           null,
           0,
           null,
           0,
           null,
           0,
           null,
           0,
           null,
           0,
           null,
           0,
           null,
           null,
           null,
           0.19166666666666668,
           null,
           17.174999999999997,
           null,
           null,
           null,
           null,
           null,
           null,
           null,
           null,
           null,
           null
          ],
          [
           25.44166666666667,
           null,
           0,
           null,
           0,
           null,
           0,
           null,
           0,
           null,
           0,
           null,
           null,
           null,
           0,
           null,
           0.19166666666666668,
           null,
           0.06666666666666667,
           null,
           0.175,
           null,
           0.175,
           null,
           0.6666666666666666,
           null,
           0.24166666666666664,
           null,
           0.03333333333333333,
           null,
           0.025,
           null,
           0.05,
           null,
           0.016666666666666666,
           null,
           0,
           null,
           0,
           null,
           0.13333333333333333,
           null,
           0,
           null,
           null,
           null,
           0,
           null,
           null,
           null,
           null,
           null,
           null,
           null,
           null,
           null,
           null,
           null
          ],
          [
           null,
           0,
           null,
           0,
           null,
           0,
           null,
           0,
           null,
           0.10833333333333334,
           null,
           null,
           null,
           0.11666666666666667,
           null,
           0,
           null,
           0,
           null,
           0,
           null,
           1.05,
           null,
           0.2833333333333334,
           null,
           0.03333333333333333,
           null,
           0.6583333333333333,
           null,
           0.16666666666666666,
           null,
           0.16666666666666666,
           null,
           0.175,
           null,
           0.03333333333333333,
           null,
           0.7416666666666666,
           null,
           0.2583333333333333,
           null,
           0,
           null,
           null,
           null,
           0.8166666666666667,
           null,
           15.325,
           null,
           null,
           null,
           null,
           null,
           null,
           null,
           null,
           null,
           null
          ],
          [
           61.31666666666666,
           null,
           0.25833333333333336,
           null,
           0,
           null,
           0,
           null,
           0,
           null,
           0,
           null,
           null,
           null,
           0,
           null,
           0,
           null,
           0,
           null,
           0,
           null,
           0,
           null,
           0.475,
           null,
           0.4666666666666667,
           null,
           0.475,
           null,
           0,
           null,
           0.9333333333333333,
           null,
           0,
           null,
           0,
           null,
           0.175,
           null,
           1.6,
           null,
           0.15833333333333333,
           null,
           null,
           null,
           null,
           null,
           null,
           null,
           null,
           null,
           null,
           null,
           null,
           null,
           null,
           null
          ],
          [
           null,
           0,
           null,
           0,
           null,
           0,
           null,
           0,
           null,
           0,
           null,
           null,
           null,
           0,
           null,
           0,
           null,
           0,
           null,
           0,
           null,
           0,
           null,
           0.10833333333333334,
           null,
           0,
           null,
           0,
           null,
           0,
           null,
           0.475,
           null,
           0,
           null,
           0,
           null,
           0,
           null,
           0,
           null,
           0,
           null,
           null,
           null,
           20.741666666666667,
           null,
           null,
           null,
           null,
           null,
           null,
           null,
           null,
           null,
           null,
           null,
           null
          ],
          [
           43.6,
           null,
           0,
           null,
           0,
           null,
           0,
           null,
           0,
           null,
           0,
           null,
           null,
           null,
           0,
           null,
           0,
           null,
           0,
           null,
           0,
           null,
           0.011111111111111112,
           null,
           0.005555555555555556,
           null,
           0.3444444444444445,
           null,
           0,
           null,
           0,
           null,
           0.375,
           null,
           0,
           null,
           0,
           null,
           0.24166666666666667,
           null,
           0.7333333333333333,
           null,
           0.225,
           null,
           null,
           null,
           0.09166666666666666,
           null,
           null,
           null,
           null,
           null,
           null,
           null,
           null,
           null,
           null,
           null
          ],
          [
           null,
           0,
           null,
           0.06111111111111111,
           null,
           0.06111111111111111,
           null,
           0,
           null,
           0,
           null,
           null,
           null,
           0,
           null,
           0,
           null,
           0,
           null,
           0,
           null,
           0,
           null,
           0,
           null,
           0,
           null,
           0.005555555555555556,
           null,
           0.016666666666666666,
           null,
           0.03333333333333333,
           null,
           0.03888888888888889,
           null,
           0.12222222222222222,
           null,
           0.10555555555555556,
           null,
           1.3944444444444446,
           null,
           0,
           null,
           null,
           null,
           0.3111111111111111,
           null,
           17.766666666666666,
           null,
           null,
           null,
           null,
           null,
           null,
           null,
           null,
           null,
           null
          ],
          [
           33.61111111111111,
           null,
           0,
           null,
           0,
           null,
           0,
           null,
           0,
           null,
           0.15555555555555556,
           null,
           null,
           null,
           0.15,
           null,
           0,
           null,
           0,
           null,
           0,
           null,
           0,
           null,
           0,
           null,
           0.03333333333333333,
           null,
           0.011111111111111112,
           null,
           0,
           null,
           0.2555555555555556,
           null,
           0,
           null,
           0,
           null,
           0,
           null,
           0.07777777777777778,
           null,
           0,
           null,
           null,
           null,
           null,
           null,
           null,
           null,
           null,
           null,
           null,
           null,
           null,
           null,
           null,
           null
          ],
          [
           null,
           0,
           null,
           0,
           null,
           0,
           null,
           0,
           null,
           0,
           null,
           null,
           null,
           0,
           null,
           0,
           null,
           0,
           null,
           0,
           null,
           0.5944444444444444,
           null,
           0,
           null,
           0.011111111111111112,
           null,
           0.03333333333333333,
           null,
           0,
           null,
           0,
           null,
           0,
           null,
           0,
           null,
           0.2222222222222222,
           null,
           0,
           null,
           0,
           null,
           null,
           null,
           37.4,
           null,
           null,
           null,
           null,
           null,
           null,
           null,
           null,
           null,
           null,
           null,
           null
          ],
          [
           35.016666666666666,
           null,
           0.2611111111111111,
           null,
           0,
           null,
           0,
           null,
           0.11666666666666665,
           null,
           0.1111111111111111,
           null,
           null,
           null,
           0.027777777777777776,
           null,
           0.3611111111111111,
           null,
           0.016666666666666666,
           null,
           0.6833333333333332,
           null,
           1.0166666666666666,
           null,
           0.2555555555555556,
           null,
           0,
           null,
           0,
           null,
           0,
           null,
           0.17222222222222225,
           null,
           0,
           null,
           0,
           null,
           0,
           null,
           0.4055555555555555,
           null,
           0,
           null,
           null,
           null,
           0,
           null,
           null,
           null,
           null,
           null,
           null,
           null,
           null,
           null,
           null,
           null
          ],
          [
           null,
           0,
           null,
           0,
           null,
           0,
           null,
           0,
           null,
           0,
           null,
           null,
           null,
           0,
           null,
           0,
           null,
           0,
           null,
           0,
           null,
           0,
           null,
           0,
           null,
           0,
           null,
           0,
           null,
           0,
           null,
           0,
           null,
           0,
           null,
           0,
           null,
           0,
           null,
           0,
           null,
           0,
           null,
           null,
           null,
           0.18333333333333332,
           null,
           10.975,
           null,
           null,
           null,
           null,
           null,
           null,
           null,
           null,
           null,
           null
          ],
          [
           90.33888888888889,
           null,
           0.027777777777777776,
           null,
           0,
           null,
           0,
           null,
           0,
           null,
           0,
           null,
           null,
           null,
           0.08333333333333333,
           null,
           0,
           null,
           0,
           null,
           0,
           null,
           0,
           null,
           0,
           null,
           0,
           null,
           0,
           null,
           0,
           null,
           0,
           null,
           0,
           null,
           0,
           null,
           0.022222222222222223,
           null,
           0.2722222222222222,
           null,
           0,
           null,
           null,
           null,
           null,
           null,
           null,
           null,
           null,
           null,
           null,
           null,
           null,
           null,
           null,
           null
          ],
          [
           null,
           0,
           null,
           0.027777777777777776,
           null,
           0,
           null,
           0,
           null,
           0,
           null,
           null,
           null,
           0,
           null,
           0,
           null,
           0.049999999999999996,
           null,
           0,
           null,
           0.05555555555555555,
           null,
           0.06111111111111111,
           null,
           0.15555555555555556,
           null,
           0,
           null,
           0,
           null,
           0,
           null,
           0,
           null,
           0,
           null,
           0,
           null,
           0,
           null,
           0,
           null,
           null,
           null,
           37.666666666666664,
           null,
           null,
           null,
           null,
           null,
           null,
           null,
           null,
           null,
           null,
           null,
           null
          ],
          [
           74.55,
           null,
           0,
           null,
           0,
           null,
           0,
           null,
           0,
           null,
           0,
           null,
           null,
           null,
           0,
           null,
           0,
           null,
           0.16666666666666666,
           null,
           0.03333333333333333,
           null,
           0.03333333333333333,
           null,
           0,
           null,
           0,
           null,
           0.25833333333333336,
           null,
           0.25,
           null,
           0.125,
           null,
           0,
           null,
           0,
           null,
           0,
           null,
           0.175,
           null,
           0,
           null,
           null,
           null,
           0,
           null,
           null,
           null,
           null,
           null,
           null,
           null,
           null,
           null,
           null,
           null
          ],
          [
           null,
           0.5333333333333333,
           null,
           0.027777777777777776,
           null,
           0.12222222222222222,
           null,
           0,
           null,
           0,
           null,
           null,
           null,
           0,
           null,
           0,
           null,
           0,
           null,
           0,
           null,
           0.08333333333333333,
           null,
           0.08333333333333333,
           null,
           0,
           null,
           0.2611111111111111,
           null,
           0,
           null,
           0,
           null,
           0.19444444444444445,
           null,
           0,
           null,
           0,
           null,
           0.19999999999999998,
           null,
           0,
           null,
           null,
           null,
           0.022222222222222223,
           null,
           11.422222222222222,
           null,
           null,
           null,
           null,
           null,
           null,
           null,
           null,
           null,
           null
          ],
          [
           86.14999999999999,
           null,
           0,
           null,
           0,
           null,
           0,
           null,
           0,
           null,
           0,
           null,
           null,
           null,
           0,
           null,
           0,
           null,
           0,
           null,
           0,
           null,
           0,
           null,
           0,
           null,
           0,
           null,
           0,
           null,
           0,
           null,
           0,
           null,
           0,
           null,
           0,
           null,
           0,
           null,
           1.9055555555555557,
           null,
           0,
           null,
           null,
           null,
           0,
           null,
           null,
           null,
           null,
           null,
           null,
           null,
           null,
           null,
           null,
           null
          ],
          [
           null,
           0,
           null,
           0,
           null,
           0,
           null,
           0,
           null,
           0,
           null,
           null,
           null,
           0,
           null,
           0,
           null,
           0,
           null,
           0,
           null,
           0,
           null,
           0,
           null,
           0,
           null,
           0,
           null,
           0,
           null,
           0,
           null,
           0,
           null,
           0,
           null,
           0,
           null,
           0.45,
           null,
           0,
           null,
           null,
           null,
           29.13333333333333,
           null,
           null,
           null,
           null,
           null,
           null,
           null,
           null,
           null,
           null,
           null,
           null
          ],
          [
           68.70555555555556,
           null,
           40.449999999999996,
           null,
           0.4222222222222222,
           null,
           0.6722222222222222,
           null,
           0,
           null,
           0,
           null,
           null,
           null,
           0.5777777777777778,
           null,
           0.6722222222222222,
           null,
           51.96666666666667,
           null,
           34.916666666666664,
           null,
           0.10555555555555556,
           null,
           0.05555555555555555,
           null,
           0,
           null,
           0.7166666666666667,
           null,
           0,
           null,
           0,
           null,
           0,
           null,
           0,
           null,
           0,
           null,
           1.4777777777777779,
           null,
           0,
           null,
           null,
           null,
           0.4208333333333333,
           null,
           null,
           null,
           null,
           null,
           null,
           null,
           null,
           null,
           null,
           null
          ],
          [
           null,
           0,
           null,
           0,
           null,
           0,
           null,
           0,
           null,
           0,
           null,
           null,
           null,
           0,
           null,
           0,
           null,
           0,
           null,
           0,
           null,
           0,
           null,
           0,
           null,
           0,
           null,
           0,
           null,
           0,
           null,
           0,
           null,
           0,
           null,
           0,
           null,
           0,
           null,
           0.9583333333333334,
           null,
           0,
           null,
           null,
           null,
           0.225,
           null,
           13.066666666666666,
           null,
           null,
           null,
           null,
           null,
           null,
           null,
           null,
           null,
           null
          ],
          [
           25.68333333333333,
           null,
           0,
           null,
           0,
           null,
           0,
           null,
           0,
           null,
           0.06111111111111111,
           null,
           null,
           null,
           0.06111111111111111,
           null,
           0,
           null,
           0,
           null,
           0,
           null,
           0,
           null,
           0,
           null,
           0,
           null,
           0,
           null,
           0,
           null,
           0.09166666666666666,
           null,
           0.0875,
           null,
           0.025,
           null,
           0.020833333333333332,
           null,
           0.7083333333333334,
           null,
           0,
           null,
           null,
           null,
           0.1375,
           null,
           null,
           null,
           null,
           null,
           null,
           null,
           null,
           null,
           null,
           null
          ],
          [
           null,
           0.008333333333333333,
           null,
           0,
           null,
           0,
           null,
           0,
           null,
           0,
           null,
           null,
           null,
           0,
           null,
           0.020833333333333332,
           null,
           0.020833333333333332,
           null,
           0.025,
           null,
           0.0875,
           null,
           0.09166666666666666,
           null,
           0,
           null,
           0,
           null,
           0,
           null,
           0,
           null,
           0,
           null,
           0,
           null,
           0,
           null,
           1.2166666666666666,
           null,
           0.10833333333333334,
           null,
           null,
           null,
           1.1944444444444444,
           null,
           13.883333333333333,
           null,
           null,
           null,
           null,
           null,
           null,
           null,
           null,
           null,
           null
          ],
          [
           21.323333333333334,
           null,
           0,
           null,
           0,
           null,
           0,
           null,
           0,
           null,
           0,
           null,
           null,
           null,
           0.14666666666666667,
           null,
           0.01,
           null,
           0.08666666666666667,
           null,
           0.08666666666666667,
           null,
           0.08333333333333334,
           null,
           0.006666666666666666,
           null,
           0.43,
           null,
           0.003333333333333333,
           null,
           0.026666666666666665,
           null,
           0.32,
           null,
           0,
           null,
           0,
           null,
           0.11333333333333333,
           null,
           0,
           null,
           0.12333333333333334,
           null,
           null,
           null,
           0.11333333333333333,
           null,
           null,
           null,
           null,
           null,
           null,
           null,
           null,
           null,
           null,
           null
          ],
          [
           null,
           0,
           null,
           0.3,
           null,
           0,
           null,
           0.1375,
           null,
           0.4083333333333333,
           null,
           null,
           null,
           0,
           null,
           0.1875,
           null,
           0.1875,
           null,
           0.4375,
           null,
           0,
           null,
           0,
           null,
           0,
           null,
           0,
           null,
           0,
           null,
           0,
           null,
           0,
           null,
           0,
           null,
           0,
           null,
           0,
           null,
           0,
           null,
           null,
           null,
           0.020833333333333332,
           null,
           18.183333333333334,
           null,
           null,
           null,
           null,
           null,
           null,
           null,
           null,
           null,
           null
          ],
          [
           30.73333333333333,
           null,
           13.103333333333333,
           null,
           0,
           null,
           0.1875,
           null,
           0.125,
           null,
           0,
           null,
           null,
           null,
           0.6291666666666667,
           null,
           0.016666666666666666,
           null,
           0,
           null,
           0.2875,
           null,
           0.3,
           null,
           0.48333333333333334,
           null,
           0,
           null,
           0.48333333333333334,
           null,
           0.22916666666666666,
           null,
           0.22916666666666666,
           null,
           0.16666666666666666,
           null,
           0.825,
           null,
           1.075,
           null,
           0.0375,
           null,
           0.03333333333333333,
           null,
           null,
           null,
           0.20416666666666666,
           null,
           null,
           null,
           null,
           null,
           null,
           null,
           null,
           null,
           null,
           null
          ],
          [
           null,
           0,
           null,
           0,
           null,
           0.03333333333333333,
           null,
           0.0375,
           null,
           0.5333333333333333,
           null,
           null,
           null,
           0.1,
           null,
           0.1,
           null,
           0.16666666666666666,
           null,
           0,
           null,
           0,
           null,
           0.31666666666666665,
           null,
           0,
           null,
           0,
           null,
           0,
           null,
           0,
           null,
           0,
           null,
           0,
           null,
           0,
           null,
           0,
           null,
           0,
           null,
           null,
           null,
           0,
           null,
           15.854166666666668,
           null,
           null,
           null,
           null,
           null,
           null,
           null,
           null,
           null,
           null
          ],
          [
           47.1375,
           null,
           0,
           null,
           0,
           null,
           0,
           null,
           0,
           null,
           0,
           null,
           null,
           null,
           0.19166666666666668,
           null,
           0,
           null,
           0,
           null,
           0.44166666666666665,
           null,
           0,
           null,
           0.125,
           null,
           0.16111111111111112,
           null,
           0.8583333333333334,
           null,
           0.5666666666666667,
           null,
           0.8166666666666667,
           null,
           0.15416666666666667,
           null,
           0,
           null,
           0.8999999999999999,
           null,
           0,
           null,
           0.1111111111111111,
           null,
           null,
           null,
           0.4777777777777778,
           null,
           null,
           null,
           null,
           null,
           null,
           null,
           null,
           null,
           null,
           null
          ],
          [
           null,
           0,
           null,
           0,
           null,
           0.05416666666666667,
           null,
           0.1,
           null,
           0.6041666666666666,
           null,
           null,
           null,
           0,
           null,
           0,
           null,
           0,
           null,
           0,
           null,
           0.19166666666666668,
           null,
           0,
           null,
           0,
           null,
           0,
           null,
           0,
           null,
           0.5666666666666667,
           null,
           0.06666666666666667,
           null,
           0.13333333333333333,
           null,
           0,
           null,
           0,
           null,
           0,
           null,
           null,
           null,
           19.191666666666666,
           null,
           null,
           null,
           null,
           null,
           null,
           null,
           null,
           null,
           null,
           null,
           null
          ],
          [
           68.81666666666668,
           null,
           0,
           null,
           0,
           null,
           0,
           null,
           0,
           null,
           0,
           null,
           null,
           null,
           0,
           null,
           0,
           null,
           0,
           null,
           0,
           null,
           0,
           null,
           0,
           null,
           0.12,
           null,
           0.3833333333333333,
           null,
           0.09666666666666665,
           null,
           0.21000000000000002,
           null,
           0.3541666666666667,
           null,
           0.22777777777777777,
           null,
           0.5555555555555556,
           null,
           0.18333333333333335,
           null,
           0.024999999999999998,
           null,
           null,
           null,
           null,
           null,
           null,
           null,
           null,
           null,
           null,
           null,
           null,
           null,
           null,
           null
          ],
          [
           null,
           0,
           null,
           0,
           null,
           0.4388888888888889,
           null,
           0.4388888888888889,
           null,
           0.1111111111111111,
           null,
           null,
           null,
           0.1111111111111111,
           null,
           0.19999999999999998,
           null,
           0.19999999999999998,
           null,
           0,
           null,
           0,
           null,
           0,
           null,
           0.6888888888888888,
           null,
           0.06666666666666667,
           null,
           0,
           null,
           0,
           null,
           0,
           null,
           0,
           null,
           0,
           null,
           0,
           null,
           0,
           null,
           null,
           null,
           0.08888888888888889,
           null,
           53.88333333333333,
           null,
           null,
           null,
           null,
           null,
           null,
           null,
           null,
           null,
           null
          ],
          [
           74.46111111111111,
           null,
           0,
           null,
           0,
           null,
           0,
           null,
           0,
           null,
           0,
           null,
           null,
           null,
           0,
           null,
           0,
           null,
           0,
           null,
           0.075,
           null,
           0.075,
           null,
           0.058333333333333334,
           null,
           0.3333333333333333,
           null,
           0.275,
           null,
           0.8250000000000001,
           null,
           0.275,
           null,
           0.25833333333333336,
           null,
           0,
           null,
           0,
           null,
           0,
           null,
           0,
           null,
           null,
           null,
           1.775,
           null,
           null,
           null,
           null,
           null,
           null,
           null,
           null,
           null,
           null,
           null
          ],
          [
           null,
           0.016666666666666666,
           null,
           0,
           null,
           0,
           null,
           0.027777777777777776,
           null,
           0.6999999999999998,
           null,
           null,
           null,
           0,
           null,
           0.325,
           null,
           0.05,
           null,
           0,
           null,
           0.47222222222222227,
           null,
           0.15555555555555556,
           null,
           0.1611111111111111,
           null,
           0.1111111111111111,
           null,
           0.19999999999999998,
           null,
           14.508333333333333,
           null,
           0.14444444444444446,
           null,
           0,
           null,
           0,
           null,
           0,
           null,
           0,
           null,
           null,
           null,
           41.670833333333334,
           null,
           null,
           null,
           null,
           null,
           null,
           null,
           null,
           null,
           null,
           null,
           null
          ],
          [
           37.94583333333333,
           null,
           0.0375,
           null,
           0,
           null,
           0,
           null,
           0,
           null,
           0.18888888888888888,
           null,
           null,
           null,
           0,
           null,
           0,
           null,
           0.19999999999999998,
           null,
           0.19999999999999998,
           null,
           0,
           null,
           23.208333333333332,
           null,
           25.270833333333332,
           null,
           0.18888888888888888,
           null,
           0.022222222222222223,
           null,
           0.16111111111111112,
           null,
           0.15555555555555556,
           null,
           0.7611111111111111,
           null,
           0.16111111111111112,
           null,
           0.16111111111111112,
           null,
           0.2388888888888889,
           null,
           null,
           null,
           null,
           null,
           null,
           null,
           null,
           null,
           null,
           null,
           null,
           null,
           null,
           null
          ],
          [
           null,
           0.004166666666666667,
           null,
           0.004166666666666667,
           null,
           0,
           null,
           0,
           null,
           0.0125,
           null,
           null,
           null,
           0,
           null,
           0,
           null,
           0.08333333333333333,
           null,
           0.08333333333333333,
           null,
           0.14583333333333334,
           null,
           0.14583333333333334,
           null,
           0.2833333333333333,
           null,
           0.1416666666666667,
           null,
           0.18333333333333335,
           null,
           0,
           null,
           0,
           null,
           0.32916666666666666,
           null,
           0,
           null,
           0.06666666666666667,
           null,
           0.06666666666666667,
           null,
           null,
           null,
           0.63,
           null,
           25.43333333333333,
           null,
           null,
           null,
           null,
           null,
           null,
           null,
           null,
           null,
           null
          ],
          [
           79.61,
           null,
           9.193333333333333,
           null,
           0,
           null,
           0,
           null,
           0,
           null,
           0,
           null,
           null,
           null,
           0,
           null,
           0.016666666666666666,
           null,
           0.016666666666666666,
           null,
           0.016666666666666666,
           null,
           0.125,
           null,
           0.12083333333333333,
           null,
           0.30833333333333335,
           null,
           0.5499999999999999,
           null,
           0.004166666666666667,
           null,
           0.6833333333333333,
           null,
           0.2916666666666667,
           null,
           1.0458333333333334,
           null,
           1.0416666666666665,
           null,
           0.06666666666666667,
           null,
           0,
           null,
           null,
           null,
           1.5333333333333332,
           null,
           null,
           null,
           null,
           null,
           null,
           null,
           null,
           null,
           null,
           null
          ],
          [
           null,
           1.6,
           null,
           0,
           null,
           0,
           null,
           0.6333333333333333,
           null,
           0.8166666666666667,
           null,
           null,
           null,
           0.06666666666666667,
           null,
           0.17916666666666667,
           null,
           0.1125,
           null,
           0.1125,
           null,
           0.5,
           null,
           0.6375,
           null,
           0.004166666666666667,
           null,
           0.004166666666666667,
           null,
           0,
           null,
           0,
           null,
           0.016666666666666666,
           null,
           0.016666666666666666,
           null,
           0,
           null,
           0.08333333333333333,
           null,
           0.08333333333333333,
           null,
           null,
           null,
           15.2,
           null,
           null,
           null,
           null,
           null,
           null,
           null,
           null,
           null,
           null,
           null,
           null
          ],
          [
           17.05,
           null,
           0,
           null,
           0,
           null,
           0,
           null,
           0,
           null,
           0,
           null,
           null,
           null,
           0,
           null,
           0,
           null,
           0.15,
           null,
           0.15,
           null,
           0,
           null,
           0,
           null,
           0,
           null,
           0,
           null,
           0,
           null,
           0,
           null,
           0.21666666666666667,
           null,
           0.20555555555555557,
           null,
           5.416666666666667,
           null,
           null,
           null,
           null,
           null,
           null,
           null,
           null,
           null,
           null,
           null,
           null,
           null,
           null,
           null,
           null,
           null,
           null,
           null
          ],
          [
           null,
           null,
           null,
           null,
           null,
           null,
           null,
           null,
           null,
           null,
           null,
           null,
           null,
           null,
           null,
           null,
           null,
           null,
           null,
           null,
           null,
           null,
           null,
           0,
           null,
           0.21666666666666667,
           null,
           0,
           null,
           0.21666666666666667,
           null,
           0,
           null,
           0,
           null,
           0.15,
           null,
           0.15,
           null,
           0.48333333333333334,
           null,
           0.15555555555555556,
           null,
           null,
           null,
           0.15555555555555556,
           null,
           42.38333333333333,
           null,
           null,
           null,
           null,
           null,
           null,
           null,
           null,
           null,
           null
          ],
          [
           1.3458333333333332,
           null,
           1.9041666666666666,
           null,
           null,
           null,
           null,
           null,
           null,
           null,
           null,
           null,
           null,
           null,
           null,
           null,
           null,
           null,
           null,
           null,
           null,
           null,
           null,
           null,
           null,
           null,
           null,
           null,
           null,
           null,
           null,
           null,
           null,
           null,
           0,
           null,
           0,
           null,
           null,
           null,
           null,
           null,
           null,
           null,
           null,
           null,
           null,
           null,
           null,
           null,
           null,
           null,
           null,
           null,
           null,
           null,
           null,
           null
          ],
          [
           null,
           0,
           null,
           0.675,
           null,
           0.10833333333333334,
           null,
           0.6083333333333333,
           null,
           0.11666666666666667,
           null,
           0.11666666666666667,
           null,
           0.11666666666666667,
           null,
           0,
           null,
           0,
           null,
           0,
           null,
           0,
           null,
           0,
           null,
           0,
           null,
           0,
           null,
           0.15,
           null,
           0,
           null,
           0,
           null,
           0,
           null,
           0,
           null,
           0,
           null,
           0.2916666666666667,
           null,
           null,
           null,
           0,
           null,
           14.575,
           null,
           null,
           null,
           null,
           null,
           null,
           null,
           null,
           null,
           null
          ],
          [
           55.016666666666666,
           null,
           0,
           null,
           0,
           null,
           0,
           null,
           0,
           null,
           0,
           null,
           0,
           null,
           0,
           null,
           0,
           null,
           0,
           null,
           0,
           null,
           0,
           null,
           0,
           null,
           0,
           null,
           0.5666666666666667,
           null,
           0.06666666666666667,
           null,
           0.06666666666666667,
           null,
           0.058333333333333334,
           null,
           0.18333333333333335,
           null,
           0.675,
           null,
           1.1166666666666667,
           null,
           0,
           null,
           null,
           null,
           0.1,
           null,
           null,
           null,
           null,
           null,
           null,
           null,
           null,
           null,
           null,
           null
          ],
          [
           null,
           0,
           null,
           0,
           null,
           0,
           null,
           0,
           null,
           0,
           null,
           0,
           null,
           0,
           null,
           0,
           null,
           0,
           null,
           0,
           null,
           0,
           null,
           0,
           null,
           1.6166666666666667,
           null,
           0,
           null,
           0,
           null,
           0,
           null,
           0,
           null,
           0,
           null,
           0,
           null,
           0,
           null,
           0,
           null,
           null,
           null,
           0.5833333333333334,
           null,
           26.28333333333333,
           null,
           null,
           null,
           null,
           null,
           null,
           null,
           null,
           null,
           null
          ],
          [
           59.74166666666666,
           null,
           31.65,
           null,
           0,
           null,
           0,
           null,
           0,
           null,
           0.06666666666666667,
           null,
           0,
           null,
           0,
           null,
           0,
           null,
           0,
           null,
           0,
           null,
           0,
           null,
           0,
           null,
           0,
           null,
           0.4583333333333333,
           null,
           0,
           null,
           0.075,
           null,
           0,
           null,
           0,
           null,
           0.058333333333333334,
           null,
           0,
           null,
           0,
           null,
           null,
           null,
           0.43333333333333335,
           null,
           null,
           null,
           null,
           null,
           null,
           null,
           null,
           null,
           null,
           null
          ],
          [
           null,
           0,
           null,
           0.43333333333333335,
           null,
           0,
           null,
           0,
           null,
           0,
           null,
           0,
           null,
           0,
           null,
           0,
           null,
           0,
           null,
           0,
           null,
           0,
           null,
           0,
           null,
           0,
           null,
           0,
           null,
           0,
           null,
           0,
           null,
           0,
           null,
           0,
           null,
           0,
           null,
           23.125,
           null,
           0,
           null,
           null,
           null,
           0.08333333333333333,
           null,
           25.691666666666666,
           null,
           null,
           null,
           null,
           null,
           null,
           null,
           null,
           null,
           null
          ],
          [
           null,
           0,
           null,
           0.38333333333333336,
           null,
           0,
           null,
           0,
           null,
           0,
           null,
           0,
           null,
           0.4,
           null,
           0,
           null,
           0,
           null,
           0,
           null,
           0,
           null,
           0,
           null,
           0,
           null,
           0,
           null,
           0,
           null,
           0.43333333333333335,
           null,
           0,
           null,
           0,
           null,
           0,
           null,
           0,
           null,
           0,
           null,
           null,
           null,
           0.4666666666666667,
           null,
           26.491666666666667,
           null,
           null,
           null,
           null,
           null,
           null,
           null,
           null,
           null,
           null
          ],
          [
           60.425,
           null,
           0,
           null,
           0,
           null,
           0.4,
           null,
           0.4,
           null,
           0,
           null,
           0,
           null,
           0.39166666666666666,
           null,
           0,
           null,
           0,
           null,
           0.38333333333333336,
           null,
           0,
           null,
           0,
           null,
           0,
           null,
           0,
           null,
           0,
           null,
           0,
           null,
           0,
           null,
           0,
           null,
           0,
           null,
           0.3333333333333333,
           null,
           0.325,
           null,
           null,
           null,
           null,
           null,
           null,
           null,
           null,
           null,
           null,
           null,
           null,
           null,
           null,
           null
          ],
          [
           null,
           0,
           null,
           0,
           null,
           1.1666666666666667,
           null,
           0.3333333333333333,
           null,
           0.3333333333333333,
           null,
           0,
           null,
           0,
           null,
           0,
           null,
           0,
           null,
           0,
           null,
           0,
           null,
           0,
           null,
           0,
           null,
           0,
           null,
           0,
           null,
           0,
           null,
           0,
           null,
           0.38333333333333336,
           null,
           0,
           null,
           0,
           null,
           0,
           null,
           null,
           null,
           18.96666666666667,
           null,
           null,
           null,
           null,
           null,
           null,
           null,
           null,
           null,
           null,
           null,
           null
          ],
          [
           61.08333333333333,
           null,
           31.666666666666668,
           null,
           1.8666666666666667,
           null,
           2.8583333333333334,
           null,
           1.3583333333333334,
           null,
           1.35,
           null,
           1.05,
           null,
           2.05,
           null,
           1.6666666666666665,
           null,
           0,
           null,
           0,
           null,
           0,
           null,
           0,
           null,
           0,
           null,
           0,
           null,
           0,
           null,
           0.6,
           null,
           0,
           null,
           0.5833333333333334,
           null,
           0,
           null,
           0.5666666666666667,
           null,
           0.5666666666666667,
           null,
           null,
           null,
           0.55,
           null,
           null,
           null,
           null,
           null,
           null,
           null,
           null,
           null,
           null,
           null
          ],
          [
           null,
           0,
           null,
           0,
           null,
           0,
           null,
           0,
           null,
           0,
           null,
           0,
           null,
           0,
           null,
           0,
           null,
           0,
           null,
           0,
           null,
           0,
           null,
           0,
           null,
           0,
           null,
           0,
           null,
           0,
           null,
           0,
           null,
           0,
           null,
           0.6666666666666667,
           null,
           0,
           null,
           0,
           null,
           0,
           null,
           null,
           null,
           0.8666666666666667,
           null,
           15.383333333333333,
           null,
           null,
           null,
           null,
           null,
           null,
           null,
           null,
           null,
           null
          ],
          [
           60.74166666666667,
           null,
           31.375,
           null,
           0,
           null,
           0,
           null,
           0,
           null,
           0,
           null,
           0,
           null,
           0,
           null,
           0,
           null,
           0,
           null,
           0,
           null,
           0,
           null,
           0,
           null,
           0,
           null,
           0,
           null,
           0,
           null,
           0,
           null,
           0,
           null,
           0,
           null,
           0,
           null,
           0.25,
           null,
           0.23333333333333334,
           null,
           null,
           null,
           null,
           null,
           null,
           null,
           null,
           null,
           null,
           null,
           null,
           null,
           null,
           null
          ],
          [
           63.61666666666667,
           null,
           0,
           null,
           0,
           null,
           0,
           null,
           0,
           null,
           0,
           null,
           0.25,
           null,
           1.25,
           null,
           0.25,
           null,
           0.23333333333333334,
           null,
           0.21666666666666667,
           null,
           0,
           null,
           0.2,
           null,
           0.14166666666666666,
           null,
           0.09166666666666666,
           null,
           0,
           null,
           0,
           null,
           0.525,
           null,
           0.5166666666666667,
           null,
           0,
           null,
           0.7583333333333333,
           null,
           0.06666666666666667,
           null,
           null,
           null,
           0.058333333333333334,
           null,
           null,
           null,
           null,
           null,
           null,
           null,
           null,
           null,
           null,
           null
          ],
          [
           null,
           0.05,
           null,
           0.05,
           null,
           0.058333333333333334,
           null,
           0.325,
           null,
           0.26666666666666666,
           null,
           0.39166666666666666,
           null,
           0.016666666666666666,
           null,
           0.016666666666666666,
           null,
           0.525,
           null,
           0,
           null,
           0,
           null,
           0.09166666666666666,
           null,
           0.09166666666666666,
           null,
           0.14166666666666666,
           null,
           0.2,
           null,
           0.21666666666666667,
           null,
           0.23333333333333334,
           null,
           1.2333333333333334,
           null,
           0.25,
           null,
           0,
           null,
           0,
           null,
           null,
           null,
           1.2666666666666666,
           null,
           12.533333333333333,
           null,
           null,
           null,
           null,
           null,
           null,
           null,
           null,
           null,
           null
          ],
          [
           34.81666666666666,
           null,
           0,
           null,
           0,
           null,
           0.09166666666666666,
           null,
           0.5166666666666667,
           null,
           0.26666666666666666,
           null,
           0.26666666666666666,
           null,
           1.325,
           null,
           0.058333333333333334,
           null,
           0,
           null,
           0.13333333333333333,
           null,
           0,
           null,
           0.175,
           null,
           0.05,
           null,
           0.041666666666666664,
           null,
           0.041666666666666664,
           null,
           1.0333333333333332,
           null,
           0.03333333333333333,
           null,
           1.0083333333333333,
           null,
           0,
           null,
           0.025,
           null,
           0.025,
           null,
           null,
           null,
           null,
           null,
           null,
           null,
           null,
           null,
           null,
           null,
           null,
           null,
           null,
           null
          ],
          [
           null,
           0,
           null,
           0,
           null,
           0,
           null,
           0,
           null,
           0,
           null,
           0,
           null,
           0,
           null,
           0,
           null,
           0,
           null,
           0,
           null,
           0,
           null,
           0,
           null,
           0,
           null,
           0,
           null,
           0.1,
           null,
           0,
           null,
           0,
           null,
           0,
           null,
           0.13333333333333333,
           null,
           0,
           null,
           0,
           null,
           null,
           null,
           32.21666666666667,
           null,
           null,
           null,
           null,
           null,
           null,
           null,
           null,
           null,
           null,
           null,
           null
          ],
          [
           null,
           0,
           null,
           0,
           null,
           0.041666666666666664,
           null,
           0.041666666666666664,
           null,
           0.041666666666666664,
           null,
           0.05,
           null,
           0,
           null,
           0.05,
           null,
           0.175,
           null,
           0,
           null,
           0,
           null,
           0,
           null,
           0,
           null,
           0,
           null,
           0,
           null,
           0,
           null,
           0,
           null,
           0.025,
           null,
           0,
           null,
           0,
           null,
           0,
           null,
           null,
           null,
           0.5333333333333333,
           null,
           51.099999999999994,
           null,
           null,
           null,
           null,
           null,
           null,
           null,
           null,
           null,
           null
          ],
          [
           63.175,
           null,
           0,
           null,
           0,
           null,
           0.05,
           null,
           1.0333333333333334,
           null,
           0.041666666666666664,
           null,
           0,
           null,
           0.5166666666666666,
           null,
           0.041666666666666664,
           null,
           0,
           null,
           0,
           null,
           0,
           null,
           0,
           null,
           0,
           null,
           0.36666666666666664,
           null,
           0,
           null,
           0.5583333333333333,
           null,
           0,
           null,
           1.0416666666666665,
           null,
           0.225,
           null,
           0.5916666666666667,
           null,
           0.8833333333333333,
           null,
           null,
           null,
           null,
           null,
           null,
           null,
           null,
           null,
           null,
           null,
           null,
           null,
           null,
           null
          ],
          [
           null,
           0,
           null,
           0,
           null,
           0.08333333333333333,
           null,
           0,
           null,
           0,
           null,
           0,
           null,
           0,
           null,
           0,
           null,
           0,
           null,
           0,
           null,
           0,
           null,
           0,
           null,
           0,
           null,
           0,
           null,
           0,
           null,
           0,
           null,
           0,
           null,
           0,
           null,
           0,
           null,
           0,
           null,
           0,
           null,
           null,
           null,
           17.691666666666666,
           null,
           null,
           null,
           null,
           null,
           null,
           null,
           null,
           null,
           null,
           null,
           null
          ],
          [
           60.016666666666666,
           null,
           0,
           null,
           0,
           null,
           0,
           null,
           0,
           null,
           0,
           null,
           0,
           null,
           0.6166666666666667,
           null,
           0.6,
           null,
           0,
           null,
           0.6,
           null,
           0,
           null,
           0,
           null,
           0,
           null,
           0,
           null,
           0,
           null,
           0,
           null,
           0,
           null,
           0.5666666666666667,
           null,
           0.5333333333333333,
           null,
           0,
           null,
           0.5333333333333333,
           null,
           null,
           null,
           0.5333333333333333,
           null,
           null,
           null,
           null,
           null,
           null,
           null,
           null,
           null,
           null,
           null
          ],
          [
           null,
           0.15,
           null,
           0.6583333333333333,
           null,
           0.16666666666666666,
           null,
           0.16666666666666666,
           null,
           0.2916666666666667,
           null,
           1.3,
           null,
           0,
           null,
           0,
           null,
           0,
           null,
           0,
           null,
           0,
           null,
           0,
           null,
           0,
           null,
           0,
           null,
           0,
           null,
           0,
           null,
           0.3,
           null,
           0.8833333333333334,
           null,
           0,
           null,
           0,
           null,
           0.225,
           null,
           null,
           null,
           1.5499999999999998,
           null,
           13.2,
           null,
           null,
           null,
           null,
           null,
           null,
           null,
           null,
           null,
           null
          ],
          [
           41.916666666666664,
           null,
           0,
           null,
           0,
           null,
           0,
           null,
           0,
           null,
           0.3,
           null,
           0,
           null,
           0.6666666666666666,
           null,
           0.16666666666666666,
           null,
           0,
           null,
           0.15833333333333333,
           null,
           0,
           null,
           0,
           null,
           0,
           null,
           0,
           null,
           0,
           null,
           0,
           null,
           0,
           null,
           0,
           null,
           0.38333333333333336,
           null,
           0.25,
           null,
           0,
           null,
           null,
           null,
           null,
           null,
           null,
           null,
           null,
           null,
           null,
           null,
           null,
           null,
           null,
           null
          ],
          [
           87.39166666666667,
           null,
           45.583333333333336,
           null,
           2.0166666666666666,
           null,
           2.3833333333333333,
           null,
           1.3833333333333333,
           null,
           1.8833333333333333,
           null,
           1.375,
           null,
           1.475,
           null,
           1.475,
           null,
           0.7416666666666667,
           null,
           1.4583333333333335,
           null,
           0.21666666666666667,
           null,
           1.1083333333333334,
           null,
           0.325,
           null,
           2.3083333333333336,
           null,
           1.3083333333333333,
           null,
           3.3083333333333336,
           null,
           1.975,
           null,
           2.5500000000000003,
           null,
           2.541666666666667,
           null,
           2.533333333333333,
           null,
           4.908333333333333,
           null,
           null,
           null,
           85.5,
           null,
           null,
           null,
           null,
           null,
           null,
           null,
           null,
           null,
           null,
           null
          ],
          [
           null,
           0.058333333333333334,
           null,
           0.8999999999999999,
           null,
           0.06666666666666667,
           null,
           0,
           null,
           0,
           null,
           0,
           null,
           0,
           null,
           0,
           null,
           0,
           null,
           0.20833333333333334,
           null,
           0.20833333333333334,
           null,
           0.20833333333333334,
           null,
           0.20833333333333334,
           null,
           0.21666666666666667,
           null,
           0.21666666666666667,
           null,
           0.21666666666666667,
           null,
           0,
           null,
           0.225,
           null,
           0,
           null,
           0.375,
           null,
           0.38333333333333336,
           null,
           null,
           null,
           1.6166666666666667,
           null,
           48.575,
           null,
           null,
           null,
           null,
           null,
           null,
           null,
           null,
           null,
           null
          ],
          [
           63.275,
           null,
           0.20833333333333334,
           null,
           0,
           null,
           0,
           null,
           0,
           null,
           0,
           null,
           0,
           null,
           0,
           null,
           0.06666666666666667,
           null,
           0.06666666666666667,
           null,
           0.06666666666666667,
           null,
           0,
           null,
           0,
           null,
           0,
           null,
           0.058333333333333334,
           null,
           0.05,
           null,
           0.05,
           null,
           0,
           null,
           0.058333333333333334,
           null,
           0.058333333333333334,
           null,
           0.5583333333333333,
           null,
           0,
           null,
           null,
           null,
           null,
           null,
           null,
           null,
           null,
           null,
           null,
           null,
           null,
           null,
           null,
           null
          ],
          [
           null,
           0.05,
           null,
           0.06666666666666667,
           null,
           0.06666666666666667,
           null,
           1.0833333333333333,
           null,
           0,
           null,
           0,
           null,
           0.08333333333333333,
           null,
           0.08333333333333333,
           null,
           0.1,
           null,
           0.1,
           null,
           0.1,
           null,
           0.1,
           null,
           0.1,
           null,
           0,
           null,
           0,
           null,
           0,
           null,
           0,
           null,
           0,
           null,
           0,
           null,
           0,
           null,
           0,
           null,
           null,
           null,
           50.45,
           null,
           null,
           null,
           null,
           null,
           null,
           null,
           null,
           null,
           null,
           null,
           null
          ],
          [
           null,
           null,
           null,
           null,
           null,
           null,
           null,
           null,
           null,
           null,
           null,
           null,
           null,
           null,
           null,
           null,
           null,
           null,
           null,
           null,
           null,
           null,
           null,
           0.2722222222222222,
           null,
           0.025,
           null,
           0.03333333333333333,
           null,
           0.03333333333333333,
           null,
           0,
           null,
           0.03333333333333333,
           null,
           0.425,
           null,
           0,
           null,
           0.041666666666666664,
           null,
           0.05,
           null,
           null,
           null,
           0.10833333333333334,
           null,
           68.80833333333334,
           null,
           null,
           null,
           null,
           null,
           null,
           null,
           null,
           null,
           null
          ],
          [
           1.6055555555555554,
           null,
           0,
           null,
           null,
           null,
           null,
           null,
           null,
           null,
           null,
           null,
           null,
           null,
           null,
           null,
           null,
           null,
           null,
           null,
           null,
           null,
           null,
           null,
           null,
           null,
           null,
           null,
           null,
           null,
           null,
           null,
           null,
           null,
           null,
           null,
           null,
           null,
           null,
           null,
           null,
           null,
           null,
           null,
           null,
           null,
           0,
           null,
           null,
           null,
           null,
           null,
           null,
           null,
           null,
           null,
           null,
           null
          ],
          [
           null,
           null,
           null,
           null,
           null,
           0.24166666666666667,
           null,
           null,
           null,
           0,
           null,
           null,
           null,
           null,
           null,
           null,
           null,
           null,
           null,
           0.016666666666666666,
           null,
           0,
           null,
           null,
           null,
           0,
           null,
           0,
           null,
           0,
           null,
           0,
           null,
           0,
           null,
           0,
           null,
           0,
           null,
           0,
           null,
           null,
           null,
           null,
           null,
           0,
           null,
           22.95,
           null,
           null,
           null,
           null,
           null,
           null,
           null,
           null,
           null,
           null
          ],
          [
           20.17222222222222,
           null,
           0,
           null,
           null,
           null,
           0.03888888888888889,
           null,
           null,
           null,
           1.2333333333333334,
           null,
           null,
           null,
           null,
           null,
           null,
           null,
           null,
           null,
           0.18888888888888888,
           null,
           0.2388888888888889,
           null,
           null,
           null,
           0.10555555555555556,
           null,
           0.011111111111111112,
           null,
           0.2777777777777778,
           null,
           0.5166666666666667,
           null,
           0,
           null,
           0.6666666666666666,
           null,
           0.06666666666666667,
           null,
           0,
           null,
           null,
           null,
           null,
           null,
           null,
           null,
           null,
           null,
           null,
           null,
           null,
           null,
           null,
           null,
           null,
           null
          ],
          [
           null,
           null,
           null,
           null,
           null,
           0,
           null,
           null,
           null,
           0,
           null,
           null,
           null,
           null,
           null,
           null,
           null,
           null,
           null,
           0,
           null,
           0,
           null,
           null,
           null,
           0,
           null,
           0,
           null,
           0.38333333333333336,
           null,
           0,
           null,
           0,
           null,
           0,
           null,
           0.18333333333333332,
           null,
           1.2,
           null,
           null,
           null,
           null,
           null,
           2.7666666666666666,
           null,
           0.03333333333333333,
           null,
           0,
           null,
           0.5666666666666667,
           null,
           0.08333333333333333,
           null,
           0,
           null,
           null
          ],
          [
           24.227777777777778,
           null,
           0,
           null,
           null,
           null,
           0,
           null,
           null,
           null,
           0,
           null,
           null,
           null,
           null,
           null,
           null,
           null,
           null,
           null,
           0.022222222222222223,
           null,
           0.016666666666666666,
           null,
           null,
           null,
           0.18333333333333335,
           null,
           0.17777777777777778,
           null,
           0.3444444444444444,
           null,
           0.3333333333333333,
           null,
           0.16666666666666666,
           null,
           0.2388888888888889,
           null,
           0.15555555555555556,
           null,
           0,
           null,
           null,
           null,
           null,
           null,
           null,
           null,
           null,
           null,
           null,
           null,
           null,
           null,
           null,
           null,
           null,
           null
          ],
          [
           null,
           null,
           null,
           null,
           null,
           0.16666666666666666,
           null,
           null,
           null,
           0.45,
           null,
           null,
           null,
           null,
           null,
           null,
           null,
           null,
           null,
           0.1277777777777778,
           null,
           0.049999999999999996,
           null,
           null,
           null,
           0,
           null,
           0,
           null,
           0,
           null,
           0,
           null,
           0,
           null,
           0,
           null,
           0,
           null,
           0.16111111111111112,
           null,
           null,
           null,
           null,
           null,
           2.1055555555555556,
           null,
           1.0999999999999999,
           null,
           0.18333333333333335,
           null,
           0,
           null,
           0,
           null,
           0,
           null,
           86.05
          ],
          [
           21.727777777777778,
           null,
           0,
           null,
           null,
           null,
           0,
           null,
           null,
           null,
           0,
           null,
           null,
           null,
           null,
           null,
           null,
           null,
           null,
           null,
           0.7666666666666666,
           null,
           0,
           null,
           null,
           null,
           0.4166666666666667,
           null,
           0,
           null,
           0.07222222222222223,
           null,
           0.9500000000000001,
           null,
           0.13333333333333333,
           null,
           0.5,
           null,
           0.49444444444444446,
           null,
           0.022222222222222223,
           null,
           null,
           null,
           null,
           null,
           null,
           null,
           null,
           null,
           null,
           null,
           null,
           null,
           null,
           null,
           null,
           null
          ],
          [
           null,
           0,
           null,
           null,
           null,
           0,
           null,
           null,
           null,
           0,
           null,
           null,
           null,
           null,
           null,
           null,
           null,
           null,
           null,
           0,
           null,
           0,
           null,
           null,
           null,
           0,
           null,
           0,
           null,
           0,
           null,
           0,
           null,
           0,
           null,
           0,
           null,
           0,
           null,
           0,
           null,
           null,
           null,
           0,
           null,
           10.825,
           null,
           null,
           null,
           null,
           null,
           null,
           null,
           null,
           null,
           null,
           null,
           null
          ],
          [
           87.88333333333333,
           null,
           null,
           null,
           null,
           null,
           0,
           null,
           null,
           null,
           0,
           null,
           null,
           null,
           null,
           null,
           null,
           null,
           null,
           null,
           0,
           null,
           0,
           null,
           null,
           null,
           0,
           null,
           0,
           null,
           0,
           null,
           0,
           null,
           0,
           null,
           0,
           null,
           0,
           null,
           0,
           null,
           null,
           null,
           null,
           null,
           0,
           null,
           0,
           null,
           0,
           null,
           1.3666666666666667,
           null,
           5.741666666666666,
           null,
           null,
           null
          ],
          [
           null,
           0,
           null,
           null,
           null,
           0,
           null,
           null,
           null,
           0,
           null,
           null,
           null,
           null,
           null,
           null,
           null,
           null,
           null,
           0,
           null,
           0,
           null,
           null,
           null,
           0,
           null,
           0,
           null,
           0,
           null,
           0,
           null,
           0,
           null,
           0,
           null,
           0,
           null,
           0,
           null,
           null,
           null,
           null,
           null,
           13.566666666666666,
           null,
           null,
           null,
           null,
           null,
           null,
           null,
           null,
           null,
           null,
           null,
           null
          ],
          [
           27.175,
           null,
           null,
           null,
           null,
           null,
           0,
           null,
           null,
           null,
           0,
           null,
           null,
           null,
           null,
           null,
           null,
           null,
           null,
           null,
           0,
           null,
           0,
           null,
           null,
           null,
           0,
           null,
           0,
           null,
           0.7666666666666667,
           null,
           0.26666666666666666,
           null,
           0,
           null,
           0.11666666666666667,
           null,
           0,
           null,
           0,
           null,
           null,
           null,
           null,
           null,
           1.4416666666666667,
           null,
           0,
           null,
           0,
           null,
           0,
           null,
           0.175,
           null,
           1.35,
           null
          ],
          [
           null,
           0,
           null,
           null,
           null,
           0,
           null,
           null,
           null,
           0,
           null,
           null,
           null,
           null,
           null,
           null,
           null,
           null,
           null,
           0,
           null,
           0,
           null,
           null,
           null,
           0,
           null,
           0,
           null,
           0,
           null,
           0,
           null,
           0,
           null,
           0,
           null,
           0,
           null,
           0,
           null,
           null,
           null,
           null,
           null,
           87.225,
           null,
           null,
           null,
           null,
           null,
           null,
           null,
           null,
           null,
           null,
           null,
           null
          ],
          [
           25.858333333333334,
           null,
           null,
           null,
           null,
           null,
           0,
           null,
           null,
           null,
           0,
           null,
           null,
           null,
           null,
           null,
           null,
           null,
           null,
           null,
           0,
           null,
           0,
           null,
           null,
           null,
           0,
           null,
           0,
           null,
           0,
           null,
           0.22777777777777777,
           null,
           0.022222222222222223,
           null,
           0.11666666666666665,
           null,
           0.1111111111111111,
           null,
           0,
           null,
           null,
           null,
           null,
           null,
           1.4722222222222223,
           null,
           null,
           null,
           null,
           null,
           null,
           null,
           null,
           null,
           null,
           null
          ],
          [
           null,
           0.2033333333333333,
           null,
           null,
           null,
           0.056666666666666664,
           null,
           null,
           null,
           0.27999999999999997,
           null,
           null,
           null,
           null,
           null,
           null,
           null,
           null,
           null,
           0.4,
           null,
           0.16333333333333333,
           null,
           null,
           null,
           0,
           null,
           0.016666666666666666,
           null,
           0.06666666666666668,
           null,
           0.04666666666666667,
           null,
           0.06999999999999999,
           null,
           0.07333333333333333,
           null,
           0,
           null,
           0,
           null,
           null,
           null,
           null,
           null,
           6.729166666666666,
           null,
           null,
           null,
           null,
           null,
           null,
           null,
           null,
           null,
           null,
           null,
           null
          ],
          [
           9.429166666666665,
           null,
           null,
           null,
           null,
           null,
           0,
           null,
           null,
           null,
           0,
           null,
           null,
           null,
           null,
           null,
           null,
           null,
           null,
           null,
           0,
           null,
           0,
           null,
           null,
           null,
           0,
           null,
           0.2375,
           null,
           0,
           null,
           0,
           null,
           0,
           null,
           0.6041666666666666,
           null,
           0,
           null,
           0,
           null,
           null,
           null,
           null,
           null,
           null,
           null,
           null,
           null,
           null,
           null,
           null,
           null,
           null,
           null,
           null,
           null
          ],
          [
           null,
           0,
           null,
           null,
           null,
           null,
           null,
           0.37222222222222223,
           null,
           0.12222222222222222,
           null,
           null,
           null,
           0,
           null,
           0,
           null,
           null,
           null,
           null,
           null,
           null,
           null,
           0,
           null,
           0,
           null,
           null,
           null,
           0,
           null,
           null,
           null,
           null,
           null,
           0,
           null,
           0,
           null,
           null,
           null,
           0,
           null,
           null,
           null,
           0,
           null,
           28.677777777777777,
           null,
           null,
           null,
           null,
           null,
           null,
           null,
           null,
           null,
           null
          ],
          [
           87.62777777777778,
           null,
           0,
           null,
           null,
           null,
           null,
           null,
           0,
           null,
           0,
           null,
           null,
           null,
           0.12222222222222222,
           null,
           0.03888888888888889,
           null,
           null,
           null,
           null,
           null,
           null,
           null,
           0,
           null,
           0,
           null,
           null,
           null,
           0.18888888888888888,
           null,
           null,
           null,
           null,
           null,
           0.09999999999999999,
           null,
           0.06666666666666667,
           null,
           null,
           null,
           0.3833333333333333,
           null,
           null,
           null,
           null,
           null,
           null,
           null,
           null,
           null,
           null,
           null,
           null,
           null,
           null,
           null
          ],
          [
           null,
           0,
           null,
           null,
           null,
           null,
           null,
           0,
           null,
           0,
           null,
           null,
           null,
           0,
           null,
           0,
           null,
           null,
           null,
           null,
           null,
           null,
           null,
           0,
           null,
           0,
           null,
           null,
           null,
           0.325,
           null,
           null,
           null,
           null,
           null,
           0,
           null,
           0,
           null,
           null,
           null,
           0,
           null,
           null,
           null,
           0,
           null,
           0,
           null,
           0,
           null,
           0,
           null,
           0,
           null,
           0,
           null,
           null
          ],
          [
           16.41111111111111,
           null,
           0,
           null,
           null,
           null,
           null,
           null,
           0,
           null,
           0,
           null,
           null,
           null,
           0.19999999999999998,
           null,
           0,
           null,
           null,
           null,
           null,
           null,
           null,
           null,
           0.3277777777777778,
           null,
           0.1277777777777778,
           null,
           null,
           null,
           0,
           null,
           null,
           null,
           null,
           null,
           0,
           null,
           0,
           null,
           null,
           null,
           0,
           null,
           null,
           null,
           null,
           null,
           null,
           null,
           null,
           null,
           null,
           null,
           null,
           null,
           null,
           null
          ],
          [
           null,
           1.85,
           null,
           null,
           null,
           null,
           null,
           0,
           null,
           0,
           null,
           null,
           null,
           0,
           null,
           0.25,
           null,
           null,
           null,
           null,
           null,
           null,
           null,
           0.17222222222222225,
           null,
           0,
           null,
           null,
           null,
           0.5111111111111112,
           null,
           null,
           null,
           null,
           null,
           0,
           null,
           0,
           null,
           null,
           null,
           0,
           null,
           0,
           null,
           0,
           null,
           0.06666666666666667,
           null,
           0,
           null,
           0,
           null,
           0,
           null,
           0.5666666666666667,
           null,
           47.05
          ],
          [
           23.108333333333334,
           null,
           0,
           null,
           null,
           null,
           null,
           null,
           0.25,
           null,
           0.025,
           null,
           null,
           null,
           0,
           null,
           0,
           null,
           null,
           null,
           null,
           null,
           null,
           null,
           0.13333333333333333,
           null,
           0.125,
           null,
           null,
           null,
           0,
           null,
           null,
           null,
           null,
           null,
           0.8583333333333333,
           null,
           0,
           null,
           null,
           null,
           0.16666666666666666,
           null,
           null,
           null,
           null,
           null,
           null,
           null,
           null,
           null,
           null,
           null,
           null,
           null,
           null,
           null
          ],
          [
           null,
           0,
           null,
           null,
           null,
           null,
           null,
           0,
           null,
           0,
           null,
           null,
           null,
           0,
           null,
           0,
           null,
           null,
           null,
           null,
           null,
           null,
           null,
           0,
           null,
           0,
           null,
           null,
           null,
           0.1111111111111111,
           null,
           null,
           null,
           null,
           null,
           0,
           null,
           0.2111111111111111,
           null,
           null,
           null,
           0,
           null,
           null,
           null,
           41.90555555555556,
           null,
           null,
           null,
           null,
           null,
           null,
           null,
           null,
           null,
           null,
           null,
           null
          ],
          [
           31.908333333333335,
           null,
           0,
           null,
           null,
           null,
           null,
           null,
           0,
           null,
           0,
           null,
           null,
           null,
           0,
           null,
           0,
           null,
           null,
           null,
           null,
           null,
           null,
           null,
           0,
           null,
           0,
           null,
           null,
           null,
           0,
           null,
           null,
           null,
           null,
           null,
           0,
           null,
           0,
           null,
           null,
           null,
           0,
           null,
           0,
           null,
           0,
           null,
           0,
           null,
           0,
           null,
           0,
           null,
           0,
           null,
           null,
           null
          ],
          [
           null,
           0.225,
           null,
           null,
           null,
           null,
           null,
           0,
           null,
           0,
           null,
           null,
           null,
           0,
           null,
           0,
           null,
           null,
           null,
           null,
           null,
           null,
           null,
           0,
           null,
           0,
           null,
           null,
           null,
           0,
           null,
           null,
           null,
           null,
           null,
           0,
           null,
           0,
           null,
           null,
           null,
           0,
           null,
           null,
           null,
           47.875,
           null,
           null,
           null,
           null,
           null,
           null,
           null,
           null,
           null,
           null,
           null,
           null
          ],
          [
           32.75555555555555,
           null,
           0,
           null,
           null,
           null,
           null,
           null,
           0.37777777777777777,
           null,
           0.08888888888888889,
           null,
           null,
           null,
           0.08888888888888889,
           null,
           0,
           null,
           null,
           null,
           null,
           null,
           null,
           null,
           0.42777777777777776,
           null,
           0,
           null,
           null,
           null,
           0.05555555555555555,
           null,
           null,
           null,
           null,
           null,
           0,
           null,
           0.17777777777777778,
           null,
           null,
           null,
           0.10555555555555556,
           null,
           null,
           null,
           0,
           null,
           0,
           null,
           0,
           null,
           0,
           null,
           0.1111111111111111,
           null,
           0,
           null
          ],
          [
           null,
           0,
           null,
           null,
           null,
           null,
           null,
           0,
           null,
           0,
           null,
           null,
           null,
           0,
           null,
           0,
           null,
           null,
           null,
           null,
           null,
           null,
           null,
           0,
           null,
           0,
           null,
           null,
           null,
           0,
           null,
           null,
           null,
           null,
           null,
           0,
           null,
           0,
           null,
           null,
           null,
           0,
           null,
           null,
           null,
           5.9,
           null,
           null,
           null,
           null,
           null,
           null,
           null,
           null,
           null,
           null,
           null,
           null
          ],
          [
           23.924999999999997,
           null,
           0,
           null,
           null,
           null,
           null,
           null,
           0,
           null,
           0,
           null,
           null,
           null,
           0.24166666666666667,
           null,
           0.23333333333333334,
           null,
           null,
           null,
           null,
           null,
           null,
           null,
           0.225,
           null,
           0,
           null,
           null,
           null,
           0,
           null,
           null,
           null,
           null,
           null,
           0.18333333333333332,
           null,
           0.18333333333333332,
           null,
           null,
           null,
           0.11666666666666665,
           null,
           null,
           null,
           null,
           null,
           null,
           null,
           null,
           null,
           null,
           null,
           null,
           null,
           null,
           null
          ],
          [
           null,
           0.06666666666666668,
           null,
           null,
           null,
           null,
           null,
           0,
           null,
           0,
           null,
           null,
           null,
           0,
           null,
           0,
           null,
           null,
           null,
           null,
           null,
           null,
           null,
           0.016666666666666666,
           null,
           0,
           null,
           null,
           null,
           0.04583333333333333,
           null,
           null,
           null,
           null,
           null,
           0,
           null,
           0,
           null,
           null,
           null,
           0,
           null,
           null,
           null,
           25.522222222222222,
           null,
           null,
           null,
           null,
           null,
           null,
           null,
           null,
           null,
           null,
           null,
           null
          ],
          [
           22.670833333333334,
           null,
           0,
           null,
           null,
           null,
           null,
           null,
           0,
           null,
           0,
           null,
           null,
           null,
           0,
           null,
           0.07333333333333333,
           null,
           null,
           null,
           null,
           null,
           null,
           null,
           0.2666666666666667,
           null,
           0.04666666666666667,
           null,
           null,
           null,
           0,
           null,
           null,
           null,
           null,
           null,
           0.16333333333333333,
           null,
           0,
           null,
           null,
           null,
           0.10666666666666666,
           null,
           null,
           null,
           null,
           null,
           null,
           null,
           null,
           null,
           null,
           null,
           null,
           null,
           null,
           null
          ],
          [
           null,
           0.19444444444444445,
           null,
           null,
           null,
           null,
           null,
           0,
           null,
           0,
           null,
           null,
           null,
           0,
           null,
           0,
           null,
           null,
           null,
           null,
           null,
           null,
           null,
           0,
           null,
           0,
           null,
           null,
           null,
           0,
           null,
           null,
           null,
           null,
           null,
           0,
           null,
           0,
           null,
           null,
           null,
           0,
           null,
           null,
           null,
           7.933333333333334,
           null,
           null,
           null,
           null,
           null,
           null,
           null,
           null,
           null,
           null,
           null,
           null
          ],
          [
           null,
           0.005555555555555556,
           null,
           null,
           null,
           null,
           null,
           null,
           null,
           0.02777777777777778,
           null,
           null,
           null,
           null,
           null,
           0.4444444444444445,
           null,
           null,
           null,
           0,
           null,
           null,
           null,
           null,
           null,
           0,
           null,
           0.07777777777777778,
           null,
           0,
           null,
           null,
           null,
           null,
           null,
           0,
           null,
           0.027777777777777776,
           null,
           null,
           null,
           0.11666666666666665,
           null,
           null,
           null,
           0.24444444444444446,
           null,
           24.13888888888889,
           null,
           null,
           null,
           null,
           null,
           null,
           null,
           null,
           null,
           null
          ],
          [
           89.43888888888888,
           null,
           0,
           null,
           null,
           null,
           null,
           null,
           null,
           null,
           0,
           null,
           null,
           null,
           null,
           null,
           0.3333333333333333,
           null,
           null,
           null,
           0.2388888888888889,
           null,
           null,
           null,
           null,
           null,
           0.6777777777777777,
           null,
           0.3444444444444445,
           null,
           0.005555555555555556,
           null,
           null,
           null,
           null,
           null,
           0.638888888888889,
           null,
           0.6222222222222222,
           null,
           null,
           null,
           0.11666666666666665,
           null,
           null,
           null,
           null,
           null,
           null,
           null,
           null,
           null,
           null,
           null,
           null,
           null,
           null,
           null
          ],
          [
           null,
           0,
           null,
           null,
           null,
           null,
           null,
           null,
           null,
           0.15555555555555556,
           null,
           null,
           null,
           null,
           null,
           0.14444444444444446,
           null,
           null,
           null,
           0,
           null,
           null,
           null,
           null,
           null,
           0,
           null,
           0,
           null,
           0,
           null,
           null,
           null,
           null,
           null,
           0,
           null,
           0,
           null,
           null,
           null,
           0,
           null,
           null,
           null,
           71.24444444444445,
           null,
           null,
           null,
           null,
           null,
           null,
           null,
           null,
           null,
           null,
           null,
           null
          ],
          [
           32.53333333333333,
           null,
           0,
           null,
           null,
           null,
           null,
           null,
           null,
           null,
           0,
           null,
           null,
           null,
           null,
           null,
           0,
           null,
           null,
           null,
           0,
           null,
           null,
           null,
           null,
           null,
           0,
           null,
           0,
           null,
           0,
           null,
           null,
           null,
           null,
           null,
           0,
           null,
           0,
           null,
           null,
           null,
           0,
           null,
           null,
           null,
           null,
           null,
           null,
           null,
           null,
           null,
           null,
           null,
           null,
           null,
           null,
           null
          ],
          [
           null,
           0,
           null,
           null,
           null,
           null,
           null,
           null,
           null,
           0,
           null,
           null,
           null,
           null,
           null,
           0,
           null,
           null,
           null,
           0,
           null,
           null,
           null,
           null,
           null,
           0,
           null,
           0,
           null,
           0.10555555555555556,
           null,
           null,
           null,
           null,
           null,
           0,
           null,
           0,
           null,
           null,
           null,
           0,
           null,
           null,
           null,
           33.56666666666667,
           null,
           null,
           null,
           null,
           null,
           null,
           null,
           null,
           null,
           null,
           null,
           null
          ],
          [
           58.555555555555564,
           null,
           0.2388888888888889,
           null,
           null,
           null,
           null,
           null,
           null,
           null,
           0,
           null,
           null,
           null,
           null,
           null,
           0,
           null,
           null,
           null,
           0,
           null,
           null,
           null,
           null,
           null,
           0,
           null,
           0,
           null,
           0,
           null,
           null,
           null,
           null,
           null,
           0,
           null,
           0,
           null,
           null,
           null,
           0,
           null,
           null,
           null,
           null,
           null,
           null,
           null,
           null,
           null,
           null,
           null,
           null,
           null,
           null,
           null
          ],
          [
           null,
           0,
           null,
           null,
           null,
           null,
           null,
           null,
           null,
           0.03333333333333333,
           null,
           null,
           null,
           null,
           null,
           0.1,
           null,
           null,
           null,
           0,
           null,
           null,
           null,
           null,
           null,
           0,
           null,
           0,
           null,
           0,
           null,
           null,
           null,
           null,
           null,
           0,
           null,
           0,
           null,
           null,
           null,
           0,
           null,
           null,
           null,
           71.68333333333334,
           null,
           null,
           null,
           null,
           null,
           null,
           null,
           null,
           null,
           null,
           null,
           null
          ],
          [
           47.955555555555556,
           null,
           0.03888888888888889,
           null,
           null,
           null,
           null,
           null,
           null,
           null,
           0.005555555555555556,
           null,
           null,
           null,
           null,
           null,
           0,
           null,
           null,
           null,
           0,
           null,
           null,
           null,
           null,
           null,
           0,
           null,
           0,
           null,
           0,
           null,
           null,
           null,
           null,
           null,
           0,
           null,
           0,
           null,
           null,
           null,
           0,
           null,
           null,
           null,
           null,
           null,
           null,
           null,
           null,
           null,
           null,
           null,
           null,
           null,
           null,
           null
          ],
          [
           null,
           0,
           null,
           null,
           null,
           null,
           null,
           null,
           null,
           0,
           null,
           null,
           null,
           null,
           null,
           0,
           null,
           null,
           null,
           0,
           null,
           null,
           null,
           null,
           null,
           0,
           null,
           0,
           null,
           0,
           null,
           null,
           null,
           null,
           null,
           0,
           null,
           0.12222222222222222,
           null,
           null,
           null,
           0,
           null,
           null,
           null,
           34.33888888888889,
           null,
           null,
           null,
           null,
           null,
           null,
           null,
           null,
           null,
           null,
           null,
           null
          ],
          [
           33.21666666666667,
           null,
           0,
           null,
           null,
           null,
           null,
           null,
           null,
           null,
           0.041666666666666664,
           null,
           null,
           null,
           null,
           null,
           1.0166666666666666,
           null,
           null,
           null,
           0,
           null,
           null,
           null,
           null,
           null,
           0,
           null,
           0,
           null,
           0,
           null,
           null,
           null,
           null,
           null,
           0,
           null,
           0,
           null,
           null,
           null,
           0,
           null,
           null,
           null,
           null,
           null,
           null,
           null,
           null,
           null,
           null,
           null,
           null,
           null,
           null,
           null
          ],
          [
           null,
           0,
           null,
           null,
           null,
           null,
           null,
           null,
           null,
           0,
           null,
           null,
           null,
           null,
           null,
           0.25,
           null,
           null,
           null,
           0,
           null,
           null,
           null,
           null,
           null,
           0.005555555555555556,
           null,
           0,
           null,
           0,
           null,
           null,
           null,
           null,
           null,
           0,
           null,
           0,
           null,
           null,
           null,
           0,
           null,
           null,
           null,
           63.51666666666667,
           null,
           null,
           null,
           null,
           null,
           null,
           null,
           null,
           null,
           null,
           null,
           null
          ],
          [
           85.725,
           null,
           0,
           null,
           null,
           null,
           null,
           null,
           null,
           null,
           0,
           null,
           null,
           null,
           null,
           null,
           0,
           null,
           null,
           null,
           0,
           null,
           null,
           null,
           null,
           null,
           0,
           null,
           0,
           null,
           0,
           null,
           null,
           null,
           null,
           null,
           0,
           null,
           0,
           null,
           null,
           null,
           0,
           null,
           null,
           null,
           null,
           null,
           null,
           null,
           null,
           null,
           null,
           null,
           null,
           null,
           null,
           null
          ],
          [
           null,
           0,
           null,
           null,
           null,
           null,
           null,
           null,
           null,
           0,
           null,
           null,
           null,
           null,
           null,
           0,
           null,
           null,
           null,
           0,
           null,
           null,
           null,
           null,
           null,
           0,
           null,
           0,
           null,
           0,
           null,
           null,
           null,
           null,
           null,
           0,
           null,
           0,
           null,
           null,
           null,
           0,
           null,
           null,
           null,
           22.991666666666667,
           null,
           null,
           null,
           null,
           null,
           null,
           null,
           null,
           null,
           null,
           null,
           null
          ],
          [
           25.541666666666664,
           null,
           0.008333333333333333,
           null,
           null,
           null,
           null,
           null,
           null,
           null,
           0,
           null,
           null,
           null,
           null,
           null,
           0,
           null,
           null,
           null,
           0,
           null,
           null,
           null,
           null,
           null,
           0,
           null,
           0,
           null,
           0,
           null,
           null,
           null,
           null,
           null,
           0,
           null,
           0,
           null,
           null,
           null,
           0,
           null,
           null,
           null,
           null,
           null,
           null,
           null,
           null,
           null,
           null,
           null,
           null,
           null,
           null,
           null
          ],
          [
           null,
           0.6722222222222222,
           null,
           null,
           null,
           null,
           null,
           null,
           null,
           0,
           null,
           null,
           null,
           null,
           null,
           0,
           null,
           null,
           null,
           0.3111111111111111,
           null,
           null,
           null,
           null,
           null,
           0,
           null,
           0,
           null,
           0,
           null,
           null,
           null,
           null,
           null,
           0,
           null,
           0,
           null,
           null,
           null,
           0,
           null,
           null,
           null,
           22.777777777777782,
           null,
           null,
           null,
           null,
           null,
           null,
           null,
           null,
           null,
           null,
           null,
           null
          ],
          [
           21.141666666666666,
           null,
           0,
           null,
           null,
           null,
           null,
           null,
           null,
           null,
           0.8166666666666667,
           null,
           null,
           null,
           null,
           null,
           0.03333333333333333,
           null,
           null,
           null,
           0.03333333333333333,
           null,
           null,
           null,
           null,
           null,
           0.1875,
           null,
           0.33333333333333337,
           null,
           0.14166666666666666,
           null,
           null,
           null,
           null,
           null,
           0.7125,
           null,
           0.2791666666666667,
           null,
           null,
           null,
           0.14166666666666666,
           null,
           null,
           null,
           null,
           null,
           null,
           null,
           null,
           null,
           null,
           null,
           null,
           null,
           null,
           null
          ],
          [
           59.22666666666667,
           null,
           0,
           null,
           null,
           null,
           null,
           null,
           null,
           null,
           0.06,
           null,
           null,
           null,
           null,
           null,
           0.2533333333333333,
           null,
           null,
           null,
           0,
           null,
           null,
           null,
           null,
           null,
           0.72,
           null,
           0.76,
           null,
           1.0533333333333332,
           null,
           null,
           null,
           null,
           null,
           0.7066666666666667,
           null,
           0.18666666666666668,
           null,
           null,
           null,
           0.03666666666666667,
           null,
           null,
           null,
           null,
           null,
           null,
           null,
           null,
           null,
           null,
           null,
           null,
           null,
           null,
           null
          ],
          [
           null,
           null,
           null,
           null,
           null,
           null,
           null,
           null,
           null,
           0.7000000000000001,
           null,
           null,
           null,
           null,
           null,
           null,
           null,
           null,
           null,
           0.12222222222222222,
           null,
           null,
           null,
           null,
           null,
           0,
           null,
           null,
           null,
           0,
           null,
           null,
           null,
           null,
           null,
           0,
           null,
           null,
           null,
           null,
           null,
           null,
           null,
           null,
           null,
           29.561111111111114,
           null,
           null,
           null,
           null,
           null,
           null,
           null,
           null,
           null,
           null,
           null,
           null
          ],
          [
           87.05555555555556,
           null,
           0,
           null,
           null,
           null,
           null,
           null,
           null,
           null,
           0,
           null,
           null,
           null,
           null,
           null,
           null,
           null,
           null,
           null,
           0.12222222222222222,
           null,
           null,
           null,
           null,
           null,
           0,
           null,
           null,
           null,
           0.5111111111111111,
           null,
           null,
           null,
           null,
           null,
           0,
           null,
           null,
           null,
           null,
           null,
           null,
           null,
           null,
           null,
           null,
           null,
           null,
           null,
           null,
           null,
           null,
           null,
           null,
           null,
           null,
           null
          ],
          [
           null,
           null,
           null,
           null,
           null,
           null,
           null,
           null,
           null,
           0.861111111111111,
           null,
           null,
           null,
           null,
           null,
           null,
           null,
           null,
           null,
           0,
           null,
           null,
           null,
           null,
           null,
           0,
           null,
           null,
           null,
           0.2111111111111111,
           null,
           null,
           null,
           null,
           null,
           0.21666666666666667,
           null,
           null,
           null,
           null,
           null,
           null,
           null,
           null,
           null,
           11.166666666666666,
           null,
           null,
           null,
           null,
           null,
           null,
           null,
           null,
           null,
           null,
           null,
           null
          ],
          [
           28.7,
           null,
           0,
           null,
           null,
           null,
           null,
           null,
           null,
           null,
           0,
           null,
           null,
           null,
           null,
           null,
           null,
           null,
           null,
           null,
           0.39999999999999997,
           null,
           null,
           null,
           null,
           null,
           0,
           null,
           null,
           null,
           0.3277777777777778,
           null,
           null,
           null,
           null,
           null,
           0,
           null,
           null,
           null,
           null,
           null,
           null,
           null,
           null,
           null,
           null,
           null,
           null,
           null,
           null,
           null,
           null,
           null,
           null,
           null,
           null,
           null
          ],
          [
           null,
           null,
           null,
           null,
           null,
           null,
           null,
           null,
           null,
           0,
           null,
           null,
           null,
           null,
           null,
           null,
           null,
           null,
           null,
           0,
           null,
           null,
           null,
           null,
           null,
           0,
           null,
           null,
           null,
           0,
           null,
           null,
           null,
           null,
           null,
           0,
           null,
           null,
           null,
           null,
           null,
           null,
           null,
           null,
           null,
           43.86111111111111,
           null,
           null,
           null,
           null,
           null,
           null,
           null,
           null,
           null,
           null,
           null,
           null
          ],
          [
           28.258333333333333,
           null,
           0,
           null,
           null,
           null,
           null,
           null,
           null,
           null,
           0,
           null,
           null,
           null,
           null,
           null,
           null,
           null,
           null,
           null,
           1.125,
           null,
           null,
           null,
           null,
           null,
           0,
           null,
           null,
           null,
           0.7083333333333334,
           null,
           null,
           null,
           null,
           null,
           0.6166666666666667,
           null,
           null,
           null,
           null,
           null,
           null,
           null,
           null,
           null,
           null,
           null,
           null,
           null,
           null,
           null,
           null,
           null,
           null,
           null,
           null,
           null
          ],
          [
           null,
           0.08333333333333333,
           null,
           null,
           null,
           null,
           null,
           null,
           null,
           0.49166666666666664,
           null,
           null,
           null,
           null,
           null,
           null,
           null,
           null,
           null,
           0.13333333333333333,
           null,
           null,
           null,
           null,
           null,
           0.26666666666666666,
           null,
           null,
           null,
           0,
           null,
           null,
           null,
           null,
           null,
           0,
           null,
           null,
           null,
           null,
           null,
           null,
           null,
           null,
           null,
           23.866666666666667,
           null,
           null,
           null,
           null,
           null,
           null,
           null,
           null,
           null,
           null,
           null,
           null
          ],
          [
           42.96111111111111,
           null,
           null,
           null,
           null,
           null,
           null,
           null,
           null,
           null,
           1.2944444444444445,
           null,
           null,
           null,
           null,
           null,
           null,
           null,
           null,
           null,
           0.5055555555555555,
           null,
           null,
           null,
           null,
           null,
           0.3333333333333333,
           null,
           null,
           null,
           0.2388888888888889,
           null,
           null,
           null,
           null,
           null,
           0.14444444444444446,
           null,
           null,
           null,
           null,
           null,
           null,
           null,
           null,
           null,
           null,
           null,
           null,
           null,
           null,
           null,
           null,
           null,
           null,
           null,
           null,
           null
          ],
          [
           null,
           0,
           null,
           null,
           null,
           null,
           null,
           null,
           null,
           0,
           null,
           null,
           null,
           null,
           null,
           null,
           null,
           null,
           null,
           0,
           null,
           null,
           null,
           null,
           null,
           0,
           null,
           null,
           null,
           0,
           null,
           null,
           null,
           null,
           null,
           0,
           null,
           null,
           null,
           null,
           null,
           null,
           null,
           null,
           null,
           13.700000000000001,
           null,
           null,
           null,
           null,
           null,
           null,
           null,
           null,
           null,
           null,
           null,
           null
          ],
          [
           30.966666666666665,
           null,
           null,
           null,
           null,
           null,
           null,
           null,
           null,
           null,
           0.4777777777777778,
           null,
           null,
           null,
           null,
           null,
           null,
           null,
           null,
           null,
           0.2222222222222222,
           null,
           null,
           null,
           null,
           null,
           0,
           null,
           null,
           null,
           0.15,
           null,
           null,
           null,
           null,
           null,
           0.041666666666666664,
           null,
           null,
           null,
           null,
           null,
           null,
           null,
           null,
           null,
           null,
           null,
           null,
           null,
           null,
           null,
           null,
           null,
           null,
           null,
           null,
           null
          ],
          [
           null,
           0,
           null,
           null,
           null,
           null,
           null,
           null,
           null,
           0.0875,
           null,
           null,
           null,
           null,
           null,
           null,
           null,
           null,
           null,
           0,
           null,
           null,
           null,
           null,
           null,
           0,
           null,
           null,
           null,
           0,
           null,
           null,
           null,
           null,
           null,
           9.220833333333333,
           null,
           null,
           null,
           null,
           null,
           null,
           null,
           null,
           null,
           21.208333333333332,
           null,
           null,
           null,
           null,
           null,
           null,
           null,
           null,
           null,
           null,
           null,
           null
          ],
          [
           9.891666666666666,
           null,
           null,
           null,
           null,
           null,
           null,
           null,
           null,
           null,
           0.6111111111111112,
           null,
           null,
           null,
           null,
           null,
           null,
           null,
           null,
           null,
           0.45,
           null,
           null,
           null,
           null,
           null,
           0,
           null,
           null,
           null,
           0,
           null,
           null,
           null,
           null,
           null,
           0,
           null,
           null,
           null,
           null,
           null,
           null,
           null,
           null,
           null,
           null,
           null,
           null,
           null,
           null,
           null,
           null,
           null,
           null,
           null,
           null,
           null
          ]
         ]
        }
       ],
       "layout": {
        "height": 1000,
        "template": {
         "data": {
          "bar": [
           {
            "error_x": {
             "color": "#2a3f5f"
            },
            "error_y": {
             "color": "#2a3f5f"
            },
            "marker": {
             "line": {
              "color": "#E5ECF6",
              "width": 0.5
             },
             "pattern": {
              "fillmode": "overlay",
              "size": 10,
              "solidity": 0.2
             }
            },
            "type": "bar"
           }
          ],
          "barpolar": [
           {
            "marker": {
             "line": {
              "color": "#E5ECF6",
              "width": 0.5
             },
             "pattern": {
              "fillmode": "overlay",
              "size": 10,
              "solidity": 0.2
             }
            },
            "type": "barpolar"
           }
          ],
          "carpet": [
           {
            "aaxis": {
             "endlinecolor": "#2a3f5f",
             "gridcolor": "white",
             "linecolor": "white",
             "minorgridcolor": "white",
             "startlinecolor": "#2a3f5f"
            },
            "baxis": {
             "endlinecolor": "#2a3f5f",
             "gridcolor": "white",
             "linecolor": "white",
             "minorgridcolor": "white",
             "startlinecolor": "#2a3f5f"
            },
            "type": "carpet"
           }
          ],
          "choropleth": [
           {
            "colorbar": {
             "outlinewidth": 0,
             "ticks": ""
            },
            "type": "choropleth"
           }
          ],
          "contour": [
           {
            "colorbar": {
             "outlinewidth": 0,
             "ticks": ""
            },
            "colorscale": [
             [
              0,
              "#0d0887"
             ],
             [
              0.1111111111111111,
              "#46039f"
             ],
             [
              0.2222222222222222,
              "#7201a8"
             ],
             [
              0.3333333333333333,
              "#9c179e"
             ],
             [
              0.4444444444444444,
              "#bd3786"
             ],
             [
              0.5555555555555556,
              "#d8576b"
             ],
             [
              0.6666666666666666,
              "#ed7953"
             ],
             [
              0.7777777777777778,
              "#fb9f3a"
             ],
             [
              0.8888888888888888,
              "#fdca26"
             ],
             [
              1,
              "#f0f921"
             ]
            ],
            "type": "contour"
           }
          ],
          "contourcarpet": [
           {
            "colorbar": {
             "outlinewidth": 0,
             "ticks": ""
            },
            "type": "contourcarpet"
           }
          ],
          "heatmap": [
           {
            "colorbar": {
             "outlinewidth": 0,
             "ticks": ""
            },
            "colorscale": [
             [
              0,
              "#0d0887"
             ],
             [
              0.1111111111111111,
              "#46039f"
             ],
             [
              0.2222222222222222,
              "#7201a8"
             ],
             [
              0.3333333333333333,
              "#9c179e"
             ],
             [
              0.4444444444444444,
              "#bd3786"
             ],
             [
              0.5555555555555556,
              "#d8576b"
             ],
             [
              0.6666666666666666,
              "#ed7953"
             ],
             [
              0.7777777777777778,
              "#fb9f3a"
             ],
             [
              0.8888888888888888,
              "#fdca26"
             ],
             [
              1,
              "#f0f921"
             ]
            ],
            "type": "heatmap"
           }
          ],
          "heatmapgl": [
           {
            "colorbar": {
             "outlinewidth": 0,
             "ticks": ""
            },
            "colorscale": [
             [
              0,
              "#0d0887"
             ],
             [
              0.1111111111111111,
              "#46039f"
             ],
             [
              0.2222222222222222,
              "#7201a8"
             ],
             [
              0.3333333333333333,
              "#9c179e"
             ],
             [
              0.4444444444444444,
              "#bd3786"
             ],
             [
              0.5555555555555556,
              "#d8576b"
             ],
             [
              0.6666666666666666,
              "#ed7953"
             ],
             [
              0.7777777777777778,
              "#fb9f3a"
             ],
             [
              0.8888888888888888,
              "#fdca26"
             ],
             [
              1,
              "#f0f921"
             ]
            ],
            "type": "heatmapgl"
           }
          ],
          "histogram": [
           {
            "marker": {
             "pattern": {
              "fillmode": "overlay",
              "size": 10,
              "solidity": 0.2
             }
            },
            "type": "histogram"
           }
          ],
          "histogram2d": [
           {
            "colorbar": {
             "outlinewidth": 0,
             "ticks": ""
            },
            "colorscale": [
             [
              0,
              "#0d0887"
             ],
             [
              0.1111111111111111,
              "#46039f"
             ],
             [
              0.2222222222222222,
              "#7201a8"
             ],
             [
              0.3333333333333333,
              "#9c179e"
             ],
             [
              0.4444444444444444,
              "#bd3786"
             ],
             [
              0.5555555555555556,
              "#d8576b"
             ],
             [
              0.6666666666666666,
              "#ed7953"
             ],
             [
              0.7777777777777778,
              "#fb9f3a"
             ],
             [
              0.8888888888888888,
              "#fdca26"
             ],
             [
              1,
              "#f0f921"
             ]
            ],
            "type": "histogram2d"
           }
          ],
          "histogram2dcontour": [
           {
            "colorbar": {
             "outlinewidth": 0,
             "ticks": ""
            },
            "colorscale": [
             [
              0,
              "#0d0887"
             ],
             [
              0.1111111111111111,
              "#46039f"
             ],
             [
              0.2222222222222222,
              "#7201a8"
             ],
             [
              0.3333333333333333,
              "#9c179e"
             ],
             [
              0.4444444444444444,
              "#bd3786"
             ],
             [
              0.5555555555555556,
              "#d8576b"
             ],
             [
              0.6666666666666666,
              "#ed7953"
             ],
             [
              0.7777777777777778,
              "#fb9f3a"
             ],
             [
              0.8888888888888888,
              "#fdca26"
             ],
             [
              1,
              "#f0f921"
             ]
            ],
            "type": "histogram2dcontour"
           }
          ],
          "mesh3d": [
           {
            "colorbar": {
             "outlinewidth": 0,
             "ticks": ""
            },
            "type": "mesh3d"
           }
          ],
          "parcoords": [
           {
            "line": {
             "colorbar": {
              "outlinewidth": 0,
              "ticks": ""
             }
            },
            "type": "parcoords"
           }
          ],
          "pie": [
           {
            "automargin": true,
            "type": "pie"
           }
          ],
          "scatter": [
           {
            "fillpattern": {
             "fillmode": "overlay",
             "size": 10,
             "solidity": 0.2
            },
            "type": "scatter"
           }
          ],
          "scatter3d": [
           {
            "line": {
             "colorbar": {
              "outlinewidth": 0,
              "ticks": ""
             }
            },
            "marker": {
             "colorbar": {
              "outlinewidth": 0,
              "ticks": ""
             }
            },
            "type": "scatter3d"
           }
          ],
          "scattercarpet": [
           {
            "marker": {
             "colorbar": {
              "outlinewidth": 0,
              "ticks": ""
             }
            },
            "type": "scattercarpet"
           }
          ],
          "scattergeo": [
           {
            "marker": {
             "colorbar": {
              "outlinewidth": 0,
              "ticks": ""
             }
            },
            "type": "scattergeo"
           }
          ],
          "scattergl": [
           {
            "marker": {
             "colorbar": {
              "outlinewidth": 0,
              "ticks": ""
             }
            },
            "type": "scattergl"
           }
          ],
          "scattermapbox": [
           {
            "marker": {
             "colorbar": {
              "outlinewidth": 0,
              "ticks": ""
             }
            },
            "type": "scattermapbox"
           }
          ],
          "scatterpolar": [
           {
            "marker": {
             "colorbar": {
              "outlinewidth": 0,
              "ticks": ""
             }
            },
            "type": "scatterpolar"
           }
          ],
          "scatterpolargl": [
           {
            "marker": {
             "colorbar": {
              "outlinewidth": 0,
              "ticks": ""
             }
            },
            "type": "scatterpolargl"
           }
          ],
          "scatterternary": [
           {
            "marker": {
             "colorbar": {
              "outlinewidth": 0,
              "ticks": ""
             }
            },
            "type": "scatterternary"
           }
          ],
          "surface": [
           {
            "colorbar": {
             "outlinewidth": 0,
             "ticks": ""
            },
            "colorscale": [
             [
              0,
              "#0d0887"
             ],
             [
              0.1111111111111111,
              "#46039f"
             ],
             [
              0.2222222222222222,
              "#7201a8"
             ],
             [
              0.3333333333333333,
              "#9c179e"
             ],
             [
              0.4444444444444444,
              "#bd3786"
             ],
             [
              0.5555555555555556,
              "#d8576b"
             ],
             [
              0.6666666666666666,
              "#ed7953"
             ],
             [
              0.7777777777777778,
              "#fb9f3a"
             ],
             [
              0.8888888888888888,
              "#fdca26"
             ],
             [
              1,
              "#f0f921"
             ]
            ],
            "type": "surface"
           }
          ],
          "table": [
           {
            "cells": {
             "fill": {
              "color": "#EBF0F8"
             },
             "line": {
              "color": "white"
             }
            },
            "header": {
             "fill": {
              "color": "#C8D4E3"
             },
             "line": {
              "color": "white"
             }
            },
            "type": "table"
           }
          ]
         },
         "layout": {
          "annotationdefaults": {
           "arrowcolor": "#2a3f5f",
           "arrowhead": 0,
           "arrowwidth": 1
          },
          "autotypenumbers": "strict",
          "coloraxis": {
           "colorbar": {
            "outlinewidth": 0,
            "ticks": ""
           }
          },
          "colorscale": {
           "diverging": [
            [
             0,
             "#8e0152"
            ],
            [
             0.1,
             "#c51b7d"
            ],
            [
             0.2,
             "#de77ae"
            ],
            [
             0.3,
             "#f1b6da"
            ],
            [
             0.4,
             "#fde0ef"
            ],
            [
             0.5,
             "#f7f7f7"
            ],
            [
             0.6,
             "#e6f5d0"
            ],
            [
             0.7,
             "#b8e186"
            ],
            [
             0.8,
             "#7fbc41"
            ],
            [
             0.9,
             "#4d9221"
            ],
            [
             1,
             "#276419"
            ]
           ],
           "sequential": [
            [
             0,
             "#0d0887"
            ],
            [
             0.1111111111111111,
             "#46039f"
            ],
            [
             0.2222222222222222,
             "#7201a8"
            ],
            [
             0.3333333333333333,
             "#9c179e"
            ],
            [
             0.4444444444444444,
             "#bd3786"
            ],
            [
             0.5555555555555556,
             "#d8576b"
            ],
            [
             0.6666666666666666,
             "#ed7953"
            ],
            [
             0.7777777777777778,
             "#fb9f3a"
            ],
            [
             0.8888888888888888,
             "#fdca26"
            ],
            [
             1,
             "#f0f921"
            ]
           ],
           "sequentialminus": [
            [
             0,
             "#0d0887"
            ],
            [
             0.1111111111111111,
             "#46039f"
            ],
            [
             0.2222222222222222,
             "#7201a8"
            ],
            [
             0.3333333333333333,
             "#9c179e"
            ],
            [
             0.4444444444444444,
             "#bd3786"
            ],
            [
             0.5555555555555556,
             "#d8576b"
            ],
            [
             0.6666666666666666,
             "#ed7953"
            ],
            [
             0.7777777777777778,
             "#fb9f3a"
            ],
            [
             0.8888888888888888,
             "#fdca26"
            ],
            [
             1,
             "#f0f921"
            ]
           ]
          },
          "colorway": [
           "#636efa",
           "#EF553B",
           "#00cc96",
           "#ab63fa",
           "#FFA15A",
           "#19d3f3",
           "#FF6692",
           "#B6E880",
           "#FF97FF",
           "#FECB52"
          ],
          "font": {
           "color": "#2a3f5f"
          },
          "geo": {
           "bgcolor": "white",
           "lakecolor": "white",
           "landcolor": "#E5ECF6",
           "showlakes": true,
           "showland": true,
           "subunitcolor": "white"
          },
          "hoverlabel": {
           "align": "left"
          },
          "hovermode": "closest",
          "mapbox": {
           "style": "light"
          },
          "paper_bgcolor": "white",
          "plot_bgcolor": "#E5ECF6",
          "polar": {
           "angularaxis": {
            "gridcolor": "white",
            "linecolor": "white",
            "ticks": ""
           },
           "bgcolor": "#E5ECF6",
           "radialaxis": {
            "gridcolor": "white",
            "linecolor": "white",
            "ticks": ""
           }
          },
          "scene": {
           "xaxis": {
            "backgroundcolor": "#E5ECF6",
            "gridcolor": "white",
            "gridwidth": 2,
            "linecolor": "white",
            "showbackground": true,
            "ticks": "",
            "zerolinecolor": "white"
           },
           "yaxis": {
            "backgroundcolor": "#E5ECF6",
            "gridcolor": "white",
            "gridwidth": 2,
            "linecolor": "white",
            "showbackground": true,
            "ticks": "",
            "zerolinecolor": "white"
           },
           "zaxis": {
            "backgroundcolor": "#E5ECF6",
            "gridcolor": "white",
            "gridwidth": 2,
            "linecolor": "white",
            "showbackground": true,
            "ticks": "",
            "zerolinecolor": "white"
           }
          },
          "shapedefaults": {
           "line": {
            "color": "#2a3f5f"
           }
          },
          "ternary": {
           "aaxis": {
            "gridcolor": "white",
            "linecolor": "white",
            "ticks": ""
           },
           "baxis": {
            "gridcolor": "white",
            "linecolor": "white",
            "ticks": ""
           },
           "bgcolor": "#E5ECF6",
           "caxis": {
            "gridcolor": "white",
            "linecolor": "white",
            "ticks": ""
           }
          },
          "title": {
           "x": 0.05
          },
          "xaxis": {
           "automargin": true,
           "gridcolor": "white",
           "linecolor": "white",
           "ticks": "",
           "title": {
            "standoff": 15
           },
           "zerolinecolor": "white",
           "zerolinewidth": 2
          },
          "yaxis": {
           "automargin": true,
           "gridcolor": "white",
           "linecolor": "white",
           "ticks": "",
           "title": {
            "standoff": 15
           },
           "zerolinecolor": "white",
           "zerolinewidth": 2
          }
         }
        },
        "title": {
         "text": "Heatmap of Delays by Stop and Train Number"
        },
        "xaxis": {
         "title": {
          "text": "Stop"
         }
        },
        "yaxis": {
         "title": {
          "text": "Train Number"
         }
        }
       }
      }
     },
     "metadata": {},
     "output_type": "display_data"
    }
   ],
   "source": [
    "import plotly.graph_objects as go\n",
    "# Create a pivot table for the heatmap\n",
    "# Create a pivot table for the heatmap\n",
    "unique_trips.loc[unique_trips.delay_minutes < 0,'delay_minutes']=0\n",
    "heatmap_data = unique_trips.pivot_table(index='trip_id', columns='stop_id', values='delay_minutes', aggfunc='mean', sort=False)\n",
    "stop_id_to_parent_station = unique_trips[['stop_id', 'parent_station']].drop_duplicates().set_index('stop_id')['parent_station'].to_dict()\n",
    "\n",
    "# Sort the columns of the pivot table explicitly\n",
    "heatmap_data = heatmap_data[sorted(heatmap_data.columns)]\n",
    "heatmap_data.columns = [stop_id_to_parent_station[stop_id] for stop_id in heatmap_data.columns]\n",
    "heatmap_data.index=heatmap_data.index.astype(str)\n",
    "# heatmap_data = heatmap_data.sort_index(axis=1)\n",
    "# Create the heatmap using Plotly\n",
    "fig_heatmap = go.Figure(data=go.Heatmap(\n",
    "    z=heatmap_data.values,\n",
    "    x=heatmap_data.columns,\n",
    "    y=heatmap_data.index,\n",
    "    colorscale='Viridis',\n",
    "\n",
    "))\n",
    "\n",
    "fig_heatmap.update_layout(\n",
    "    title=\"Heatmap of Delays by Stop and Train Number\",\n",
    "    xaxis_title=\"Stop\",\n",
    "    yaxis_title=\"Train Number\",\n",
    "    height = 1000,\n",
    ")"
   ]
  },
  {
   "cell_type": "code",
   "execution_count": 129,
   "metadata": {},
   "outputs": [
    {
     "data": {
      "text/plain": [
       "Index(['101', '102', '103', '104', '105', '106', '107', '108', '109', '110',\n",
       "       ...\n",
       "       '703', '704', '705', '706', '707', '708', '709', '710', '711', '712'],\n",
       "      dtype='object', name='trip_id', length=131)"
      ]
     },
     "execution_count": 129,
     "metadata": {},
     "output_type": "execute_result"
    }
   ],
   "source": [
    "heatmap_data.index"
   ]
  },
  {
   "cell_type": "code",
   "execution_count": 118,
   "metadata": {},
   "outputs": [],
   "source": [
    "# scatter = go.Scatter(x=np.array(lon).flatten(),\n",
    "#                      y=np.array(lat).flatten(),\n",
    "#                      marker={'color': np.array(v).flatten(),\n",
    "#                              'showscale': True},\n",
    "#                      mode='markers')\n",
    "# fig = go.FigureWidget(data=[scatter],\n",
    "#                       layout={'xaxis': {'title': 'lon'},\n",
    "#                               'yaxis': {'title': 'lat'}})\n",
    "# fig"
   ]
  },
  {
   "cell_type": "code",
   "execution_count": 119,
   "metadata": {},
   "outputs": [
    {
     "data": {
      "text/html": [
       "<div>\n",
       "<style scoped>\n",
       "    .dataframe tbody tr th:only-of-type {\n",
       "        vertical-align: middle;\n",
       "    }\n",
       "\n",
       "    .dataframe tbody tr th {\n",
       "        vertical-align: top;\n",
       "    }\n",
       "\n",
       "    .dataframe thead th {\n",
       "        text-align: right;\n",
       "    }\n",
       "</style>\n",
       "<table border=\"1\" class=\"dataframe\">\n",
       "  <thead>\n",
       "    <tr style=\"text-align: right;\">\n",
       "      <th></th>\n",
       "      <th>trip_id</th>\n",
       "      <th>stop_id</th>\n",
       "      <th>date</th>\n",
       "      <th>actual_arrival_time</th>\n",
       "      <th>stop_name</th>\n",
       "      <th>parent_station</th>\n",
       "      <th>arrival_time</th>\n",
       "      <th>delay_minutes</th>\n",
       "      <th>is_delayed</th>\n",
       "      <th>delay_severity</th>\n",
       "      <th>commute_period</th>\n",
       "    </tr>\n",
       "  </thead>\n",
       "  <tbody>\n",
       "    <tr>\n",
       "      <th>0</th>\n",
       "      <td>101</td>\n",
       "      <td>70021</td>\n",
       "      <td>2024-07-08</td>\n",
       "      <td>2024-07-08 05:55:19</td>\n",
       "      <td>22nd Street Caltrain Station Northbound</td>\n",
       "      <td>22Nd Street</td>\n",
       "      <td>05:55:00</td>\n",
       "      <td>-0.316667</td>\n",
       "      <td>False</td>\n",
       "      <td>On Time</td>\n",
       "      <td>Other</td>\n",
       "    </tr>\n",
       "    <tr>\n",
       "      <th>6</th>\n",
       "      <td>101</td>\n",
       "      <td>70021</td>\n",
       "      <td>2024-07-10</td>\n",
       "      <td>2024-07-10 05:59:41</td>\n",
       "      <td>22nd Street Caltrain Station Northbound</td>\n",
       "      <td>22Nd Street</td>\n",
       "      <td>05:55:00</td>\n",
       "      <td>-4.683333</td>\n",
       "      <td>False</td>\n",
       "      <td>On Time</td>\n",
       "      <td>Other</td>\n",
       "    </tr>\n",
       "    <tr>\n",
       "      <th>11</th>\n",
       "      <td>101</td>\n",
       "      <td>70021</td>\n",
       "      <td>2024-07-12</td>\n",
       "      <td>2024-07-12 05:57:58</td>\n",
       "      <td>22nd Street Caltrain Station Northbound</td>\n",
       "      <td>22Nd Street</td>\n",
       "      <td>05:55:00</td>\n",
       "      <td>-2.966667</td>\n",
       "      <td>False</td>\n",
       "      <td>On Time</td>\n",
       "      <td>Other</td>\n",
       "    </tr>\n",
       "    <tr>\n",
       "      <th>17</th>\n",
       "      <td>101</td>\n",
       "      <td>70031</td>\n",
       "      <td>2024-07-08</td>\n",
       "      <td>2024-07-08 05:49:03</td>\n",
       "      <td>Bayshore Caltrain Station Northbound</td>\n",
       "      <td>Bayshore</td>\n",
       "      <td>05:50:00</td>\n",
       "      <td>0.950000</td>\n",
       "      <td>False</td>\n",
       "      <td>On Time</td>\n",
       "      <td>Other</td>\n",
       "    </tr>\n",
       "    <tr>\n",
       "      <th>23</th>\n",
       "      <td>101</td>\n",
       "      <td>70031</td>\n",
       "      <td>2024-07-10</td>\n",
       "      <td>2024-07-10 05:54:41</td>\n",
       "      <td>Bayshore Caltrain Station Northbound</td>\n",
       "      <td>Bayshore</td>\n",
       "      <td>05:50:00</td>\n",
       "      <td>-4.683333</td>\n",
       "      <td>False</td>\n",
       "      <td>On Time</td>\n",
       "      <td>Other</td>\n",
       "    </tr>\n",
       "    <tr>\n",
       "      <th>...</th>\n",
       "      <td>...</td>\n",
       "      <td>...</td>\n",
       "      <td>...</td>\n",
       "      <td>...</td>\n",
       "      <td>...</td>\n",
       "      <td>...</td>\n",
       "      <td>...</td>\n",
       "      <td>...</td>\n",
       "      <td>...</td>\n",
       "      <td>...</td>\n",
       "      <td>...</td>\n",
       "    </tr>\n",
       "    <tr>\n",
       "      <th>43911</th>\n",
       "      <td>712</td>\n",
       "      <td>70172</td>\n",
       "      <td>2024-07-11</td>\n",
       "      <td>2024-07-11 18:50:05</td>\n",
       "      <td>Palo Alto Caltrain Station Southbound</td>\n",
       "      <td>Palo Alto</td>\n",
       "      <td>18:47:00</td>\n",
       "      <td>-3.083333</td>\n",
       "      <td>False</td>\n",
       "      <td>On Time</td>\n",
       "      <td>Evening</td>\n",
       "    </tr>\n",
       "    <tr>\n",
       "      <th>43915</th>\n",
       "      <td>712</td>\n",
       "      <td>70172</td>\n",
       "      <td>2024-07-12</td>\n",
       "      <td>2024-07-12 18:47:41</td>\n",
       "      <td>Palo Alto Caltrain Station Southbound</td>\n",
       "      <td>Palo Alto</td>\n",
       "      <td>18:47:00</td>\n",
       "      <td>-0.683333</td>\n",
       "      <td>False</td>\n",
       "      <td>On Time</td>\n",
       "      <td>Evening</td>\n",
       "    </tr>\n",
       "    <tr>\n",
       "      <th>43923</th>\n",
       "      <td>712</td>\n",
       "      <td>70212</td>\n",
       "      <td>2024-07-10</td>\n",
       "      <td>2024-07-10 19:00:02</td>\n",
       "      <td>Mountain View Caltrain Station Southbound</td>\n",
       "      <td>Mountain View</td>\n",
       "      <td>18:55:00</td>\n",
       "      <td>-5.033333</td>\n",
       "      <td>False</td>\n",
       "      <td>On Time</td>\n",
       "      <td>Evening</td>\n",
       "    </tr>\n",
       "    <tr>\n",
       "      <th>43934</th>\n",
       "      <td>712</td>\n",
       "      <td>70212</td>\n",
       "      <td>2024-07-11</td>\n",
       "      <td>2024-07-11 19:01:06</td>\n",
       "      <td>Mountain View Caltrain Station Southbound</td>\n",
       "      <td>Mountain View</td>\n",
       "      <td>18:55:00</td>\n",
       "      <td>-6.100000</td>\n",
       "      <td>False</td>\n",
       "      <td>On Time</td>\n",
       "      <td>Evening</td>\n",
       "    </tr>\n",
       "    <tr>\n",
       "      <th>43942</th>\n",
       "      <td>712</td>\n",
       "      <td>70212</td>\n",
       "      <td>2024-07-12</td>\n",
       "      <td>2024-07-12 18:56:56</td>\n",
       "      <td>Mountain View Caltrain Station Southbound</td>\n",
       "      <td>Mountain View</td>\n",
       "      <td>18:55:00</td>\n",
       "      <td>-1.933333</td>\n",
       "      <td>False</td>\n",
       "      <td>On Time</td>\n",
       "      <td>Evening</td>\n",
       "    </tr>\n",
       "  </tbody>\n",
       "</table>\n",
       "<p>5688 rows × 11 columns</p>\n",
       "</div>"
      ],
      "text/plain": [
       "       trip_id  stop_id        date actual_arrival_time  \\\n",
       "0          101    70021  2024-07-08 2024-07-08 05:55:19   \n",
       "6          101    70021  2024-07-10 2024-07-10 05:59:41   \n",
       "11         101    70021  2024-07-12 2024-07-12 05:57:58   \n",
       "17         101    70031  2024-07-08 2024-07-08 05:49:03   \n",
       "23         101    70031  2024-07-10 2024-07-10 05:54:41   \n",
       "...        ...      ...         ...                 ...   \n",
       "43911      712    70172  2024-07-11 2024-07-11 18:50:05   \n",
       "43915      712    70172  2024-07-12 2024-07-12 18:47:41   \n",
       "43923      712    70212  2024-07-10 2024-07-10 19:00:02   \n",
       "43934      712    70212  2024-07-11 2024-07-11 19:01:06   \n",
       "43942      712    70212  2024-07-12 2024-07-12 18:56:56   \n",
       "\n",
       "                                       stop_name parent_station arrival_time  \\\n",
       "0        22nd Street Caltrain Station Northbound    22Nd Street     05:55:00   \n",
       "6        22nd Street Caltrain Station Northbound    22Nd Street     05:55:00   \n",
       "11       22nd Street Caltrain Station Northbound    22Nd Street     05:55:00   \n",
       "17          Bayshore Caltrain Station Northbound       Bayshore     05:50:00   \n",
       "23          Bayshore Caltrain Station Northbound       Bayshore     05:50:00   \n",
       "...                                          ...            ...          ...   \n",
       "43911      Palo Alto Caltrain Station Southbound      Palo Alto     18:47:00   \n",
       "43915      Palo Alto Caltrain Station Southbound      Palo Alto     18:47:00   \n",
       "43923  Mountain View Caltrain Station Southbound  Mountain View     18:55:00   \n",
       "43934  Mountain View Caltrain Station Southbound  Mountain View     18:55:00   \n",
       "43942  Mountain View Caltrain Station Southbound  Mountain View     18:55:00   \n",
       "\n",
       "       delay_minutes  is_delayed delay_severity commute_period  \n",
       "0          -0.316667       False        On Time          Other  \n",
       "6          -4.683333       False        On Time          Other  \n",
       "11         -2.966667       False        On Time          Other  \n",
       "17          0.950000       False        On Time          Other  \n",
       "23         -4.683333       False        On Time          Other  \n",
       "...              ...         ...            ...            ...  \n",
       "43911      -3.083333       False        On Time        Evening  \n",
       "43915      -0.683333       False        On Time        Evening  \n",
       "43923      -5.033333       False        On Time        Evening  \n",
       "43934      -6.100000       False        On Time        Evening  \n",
       "43942      -1.933333       False        On Time        Evening  \n",
       "\n",
       "[5688 rows x 11 columns]"
      ]
     },
     "execution_count": 119,
     "metadata": {},
     "output_type": "execute_result"
    }
   ],
   "source": [
    "unique_trips"
   ]
  },
  {
   "cell_type": "code",
   "execution_count": 120,
   "metadata": {},
   "outputs": [
    {
     "data": {
      "application/vnd.plotly.v1+json": {
       "config": {
        "plotlyServerURL": "https://plot.ly"
       },
       "data": [
        {
         "alignmentgroup": "True",
         "hovertemplate": "Status=Major<br>date=%{x}<br>Percentage=%{y}<extra></extra>",
         "legendgroup": "Major",
         "marker": {
          "color": "#636efa",
          "pattern": {
           "shape": ""
          }
         },
         "name": "Major",
         "offsetgroup": "Major",
         "orientation": "v",
         "showlegend": true,
         "textposition": "auto",
         "type": "bar",
         "x": [
          "2024-07-07",
          "2024-07-08",
          "2024-07-09",
          "2024-07-10",
          "2024-07-11",
          "2024-07-12",
          "2024-07-13",
          "2024-07-14"
         ],
         "xaxis": "x",
         "y": [
          3.765690376569038,
          5.177514792899409,
          3.4722222222222223,
          6.76246830092984,
          3.4031413612565444,
          4.878048780487805,
          3.9383561643835616,
          7.361963190184049
         ],
         "yaxis": "y"
        },
        {
         "alignmentgroup": "True",
         "hovertemplate": "Status=Minor<br>date=%{x}<br>Percentage=%{y}<extra></extra>",
         "legendgroup": "Minor",
         "marker": {
          "color": "#EF553B",
          "pattern": {
           "shape": ""
          }
         },
         "name": "Minor",
         "offsetgroup": "Minor",
         "orientation": "v",
         "showlegend": true,
         "textposition": "auto",
         "type": "bar",
         "x": [
          "2024-07-07",
          "2024-07-08",
          "2024-07-09",
          "2024-07-10",
          "2024-07-11",
          "2024-07-12",
          "2024-07-13",
          "2024-07-14"
         ],
         "xaxis": "x",
         "y": [
          4.184100418410042,
          0.8136094674556213,
          1.1574074074074074,
          1.267962806424345,
          1.0471204188481675,
          1.1086474501108647,
          0.8561643835616438,
          2.4539877300613497
         ],
         "yaxis": "y"
        },
        {
         "alignmentgroup": "True",
         "hovertemplate": "Status=On Time<br>date=%{x}<br>Percentage=%{y}<extra></extra>",
         "legendgroup": "On Time",
         "marker": {
          "color": "#00cc96",
          "pattern": {
           "shape": ""
          }
         },
         "name": "On Time",
         "offsetgroup": "On Time",
         "orientation": "v",
         "showlegend": true,
         "textposition": "auto",
         "type": "bar",
         "x": [
          "2024-07-07",
          "2024-07-08",
          "2024-07-09",
          "2024-07-10",
          "2024-07-11",
          "2024-07-12",
          "2024-07-13",
          "2024-07-14"
         ],
         "xaxis": "x",
         "y": [
          92.05020920502092,
          94.00887573964496,
          95.37037037037037,
          91.96956889264581,
          95.54973821989529,
          94.01330376940133,
          95.2054794520548,
          90.1840490797546
         ],
         "yaxis": "y"
        }
       ],
       "layout": {
        "barmode": "relative",
        "legend": {
         "title": {
          "text": "Status"
         },
         "tracegroupgap": 0
        },
        "template": {
         "data": {
          "bar": [
           {
            "error_x": {
             "color": "#2a3f5f"
            },
            "error_y": {
             "color": "#2a3f5f"
            },
            "marker": {
             "line": {
              "color": "#E5ECF6",
              "width": 0.5
             },
             "pattern": {
              "fillmode": "overlay",
              "size": 10,
              "solidity": 0.2
             }
            },
            "type": "bar"
           }
          ],
          "barpolar": [
           {
            "marker": {
             "line": {
              "color": "#E5ECF6",
              "width": 0.5
             },
             "pattern": {
              "fillmode": "overlay",
              "size": 10,
              "solidity": 0.2
             }
            },
            "type": "barpolar"
           }
          ],
          "carpet": [
           {
            "aaxis": {
             "endlinecolor": "#2a3f5f",
             "gridcolor": "white",
             "linecolor": "white",
             "minorgridcolor": "white",
             "startlinecolor": "#2a3f5f"
            },
            "baxis": {
             "endlinecolor": "#2a3f5f",
             "gridcolor": "white",
             "linecolor": "white",
             "minorgridcolor": "white",
             "startlinecolor": "#2a3f5f"
            },
            "type": "carpet"
           }
          ],
          "choropleth": [
           {
            "colorbar": {
             "outlinewidth": 0,
             "ticks": ""
            },
            "type": "choropleth"
           }
          ],
          "contour": [
           {
            "colorbar": {
             "outlinewidth": 0,
             "ticks": ""
            },
            "colorscale": [
             [
              0,
              "#0d0887"
             ],
             [
              0.1111111111111111,
              "#46039f"
             ],
             [
              0.2222222222222222,
              "#7201a8"
             ],
             [
              0.3333333333333333,
              "#9c179e"
             ],
             [
              0.4444444444444444,
              "#bd3786"
             ],
             [
              0.5555555555555556,
              "#d8576b"
             ],
             [
              0.6666666666666666,
              "#ed7953"
             ],
             [
              0.7777777777777778,
              "#fb9f3a"
             ],
             [
              0.8888888888888888,
              "#fdca26"
             ],
             [
              1,
              "#f0f921"
             ]
            ],
            "type": "contour"
           }
          ],
          "contourcarpet": [
           {
            "colorbar": {
             "outlinewidth": 0,
             "ticks": ""
            },
            "type": "contourcarpet"
           }
          ],
          "heatmap": [
           {
            "colorbar": {
             "outlinewidth": 0,
             "ticks": ""
            },
            "colorscale": [
             [
              0,
              "#0d0887"
             ],
             [
              0.1111111111111111,
              "#46039f"
             ],
             [
              0.2222222222222222,
              "#7201a8"
             ],
             [
              0.3333333333333333,
              "#9c179e"
             ],
             [
              0.4444444444444444,
              "#bd3786"
             ],
             [
              0.5555555555555556,
              "#d8576b"
             ],
             [
              0.6666666666666666,
              "#ed7953"
             ],
             [
              0.7777777777777778,
              "#fb9f3a"
             ],
             [
              0.8888888888888888,
              "#fdca26"
             ],
             [
              1,
              "#f0f921"
             ]
            ],
            "type": "heatmap"
           }
          ],
          "heatmapgl": [
           {
            "colorbar": {
             "outlinewidth": 0,
             "ticks": ""
            },
            "colorscale": [
             [
              0,
              "#0d0887"
             ],
             [
              0.1111111111111111,
              "#46039f"
             ],
             [
              0.2222222222222222,
              "#7201a8"
             ],
             [
              0.3333333333333333,
              "#9c179e"
             ],
             [
              0.4444444444444444,
              "#bd3786"
             ],
             [
              0.5555555555555556,
              "#d8576b"
             ],
             [
              0.6666666666666666,
              "#ed7953"
             ],
             [
              0.7777777777777778,
              "#fb9f3a"
             ],
             [
              0.8888888888888888,
              "#fdca26"
             ],
             [
              1,
              "#f0f921"
             ]
            ],
            "type": "heatmapgl"
           }
          ],
          "histogram": [
           {
            "marker": {
             "pattern": {
              "fillmode": "overlay",
              "size": 10,
              "solidity": 0.2
             }
            },
            "type": "histogram"
           }
          ],
          "histogram2d": [
           {
            "colorbar": {
             "outlinewidth": 0,
             "ticks": ""
            },
            "colorscale": [
             [
              0,
              "#0d0887"
             ],
             [
              0.1111111111111111,
              "#46039f"
             ],
             [
              0.2222222222222222,
              "#7201a8"
             ],
             [
              0.3333333333333333,
              "#9c179e"
             ],
             [
              0.4444444444444444,
              "#bd3786"
             ],
             [
              0.5555555555555556,
              "#d8576b"
             ],
             [
              0.6666666666666666,
              "#ed7953"
             ],
             [
              0.7777777777777778,
              "#fb9f3a"
             ],
             [
              0.8888888888888888,
              "#fdca26"
             ],
             [
              1,
              "#f0f921"
             ]
            ],
            "type": "histogram2d"
           }
          ],
          "histogram2dcontour": [
           {
            "colorbar": {
             "outlinewidth": 0,
             "ticks": ""
            },
            "colorscale": [
             [
              0,
              "#0d0887"
             ],
             [
              0.1111111111111111,
              "#46039f"
             ],
             [
              0.2222222222222222,
              "#7201a8"
             ],
             [
              0.3333333333333333,
              "#9c179e"
             ],
             [
              0.4444444444444444,
              "#bd3786"
             ],
             [
              0.5555555555555556,
              "#d8576b"
             ],
             [
              0.6666666666666666,
              "#ed7953"
             ],
             [
              0.7777777777777778,
              "#fb9f3a"
             ],
             [
              0.8888888888888888,
              "#fdca26"
             ],
             [
              1,
              "#f0f921"
             ]
            ],
            "type": "histogram2dcontour"
           }
          ],
          "mesh3d": [
           {
            "colorbar": {
             "outlinewidth": 0,
             "ticks": ""
            },
            "type": "mesh3d"
           }
          ],
          "parcoords": [
           {
            "line": {
             "colorbar": {
              "outlinewidth": 0,
              "ticks": ""
             }
            },
            "type": "parcoords"
           }
          ],
          "pie": [
           {
            "automargin": true,
            "type": "pie"
           }
          ],
          "scatter": [
           {
            "fillpattern": {
             "fillmode": "overlay",
             "size": 10,
             "solidity": 0.2
            },
            "type": "scatter"
           }
          ],
          "scatter3d": [
           {
            "line": {
             "colorbar": {
              "outlinewidth": 0,
              "ticks": ""
             }
            },
            "marker": {
             "colorbar": {
              "outlinewidth": 0,
              "ticks": ""
             }
            },
            "type": "scatter3d"
           }
          ],
          "scattercarpet": [
           {
            "marker": {
             "colorbar": {
              "outlinewidth": 0,
              "ticks": ""
             }
            },
            "type": "scattercarpet"
           }
          ],
          "scattergeo": [
           {
            "marker": {
             "colorbar": {
              "outlinewidth": 0,
              "ticks": ""
             }
            },
            "type": "scattergeo"
           }
          ],
          "scattergl": [
           {
            "marker": {
             "colorbar": {
              "outlinewidth": 0,
              "ticks": ""
             }
            },
            "type": "scattergl"
           }
          ],
          "scattermapbox": [
           {
            "marker": {
             "colorbar": {
              "outlinewidth": 0,
              "ticks": ""
             }
            },
            "type": "scattermapbox"
           }
          ],
          "scatterpolar": [
           {
            "marker": {
             "colorbar": {
              "outlinewidth": 0,
              "ticks": ""
             }
            },
            "type": "scatterpolar"
           }
          ],
          "scatterpolargl": [
           {
            "marker": {
             "colorbar": {
              "outlinewidth": 0,
              "ticks": ""
             }
            },
            "type": "scatterpolargl"
           }
          ],
          "scatterternary": [
           {
            "marker": {
             "colorbar": {
              "outlinewidth": 0,
              "ticks": ""
             }
            },
            "type": "scatterternary"
           }
          ],
          "surface": [
           {
            "colorbar": {
             "outlinewidth": 0,
             "ticks": ""
            },
            "colorscale": [
             [
              0,
              "#0d0887"
             ],
             [
              0.1111111111111111,
              "#46039f"
             ],
             [
              0.2222222222222222,
              "#7201a8"
             ],
             [
              0.3333333333333333,
              "#9c179e"
             ],
             [
              0.4444444444444444,
              "#bd3786"
             ],
             [
              0.5555555555555556,
              "#d8576b"
             ],
             [
              0.6666666666666666,
              "#ed7953"
             ],
             [
              0.7777777777777778,
              "#fb9f3a"
             ],
             [
              0.8888888888888888,
              "#fdca26"
             ],
             [
              1,
              "#f0f921"
             ]
            ],
            "type": "surface"
           }
          ],
          "table": [
           {
            "cells": {
             "fill": {
              "color": "#EBF0F8"
             },
             "line": {
              "color": "white"
             }
            },
            "header": {
             "fill": {
              "color": "#C8D4E3"
             },
             "line": {
              "color": "white"
             }
            },
            "type": "table"
           }
          ]
         },
         "layout": {
          "annotationdefaults": {
           "arrowcolor": "#2a3f5f",
           "arrowhead": 0,
           "arrowwidth": 1
          },
          "autotypenumbers": "strict",
          "coloraxis": {
           "colorbar": {
            "outlinewidth": 0,
            "ticks": ""
           }
          },
          "colorscale": {
           "diverging": [
            [
             0,
             "#8e0152"
            ],
            [
             0.1,
             "#c51b7d"
            ],
            [
             0.2,
             "#de77ae"
            ],
            [
             0.3,
             "#f1b6da"
            ],
            [
             0.4,
             "#fde0ef"
            ],
            [
             0.5,
             "#f7f7f7"
            ],
            [
             0.6,
             "#e6f5d0"
            ],
            [
             0.7,
             "#b8e186"
            ],
            [
             0.8,
             "#7fbc41"
            ],
            [
             0.9,
             "#4d9221"
            ],
            [
             1,
             "#276419"
            ]
           ],
           "sequential": [
            [
             0,
             "#0d0887"
            ],
            [
             0.1111111111111111,
             "#46039f"
            ],
            [
             0.2222222222222222,
             "#7201a8"
            ],
            [
             0.3333333333333333,
             "#9c179e"
            ],
            [
             0.4444444444444444,
             "#bd3786"
            ],
            [
             0.5555555555555556,
             "#d8576b"
            ],
            [
             0.6666666666666666,
             "#ed7953"
            ],
            [
             0.7777777777777778,
             "#fb9f3a"
            ],
            [
             0.8888888888888888,
             "#fdca26"
            ],
            [
             1,
             "#f0f921"
            ]
           ],
           "sequentialminus": [
            [
             0,
             "#0d0887"
            ],
            [
             0.1111111111111111,
             "#46039f"
            ],
            [
             0.2222222222222222,
             "#7201a8"
            ],
            [
             0.3333333333333333,
             "#9c179e"
            ],
            [
             0.4444444444444444,
             "#bd3786"
            ],
            [
             0.5555555555555556,
             "#d8576b"
            ],
            [
             0.6666666666666666,
             "#ed7953"
            ],
            [
             0.7777777777777778,
             "#fb9f3a"
            ],
            [
             0.8888888888888888,
             "#fdca26"
            ],
            [
             1,
             "#f0f921"
            ]
           ]
          },
          "colorway": [
           "#636efa",
           "#EF553B",
           "#00cc96",
           "#ab63fa",
           "#FFA15A",
           "#19d3f3",
           "#FF6692",
           "#B6E880",
           "#FF97FF",
           "#FECB52"
          ],
          "font": {
           "color": "#2a3f5f"
          },
          "geo": {
           "bgcolor": "white",
           "lakecolor": "white",
           "landcolor": "#E5ECF6",
           "showlakes": true,
           "showland": true,
           "subunitcolor": "white"
          },
          "hoverlabel": {
           "align": "left"
          },
          "hovermode": "closest",
          "mapbox": {
           "style": "light"
          },
          "paper_bgcolor": "white",
          "plot_bgcolor": "#E5ECF6",
          "polar": {
           "angularaxis": {
            "gridcolor": "white",
            "linecolor": "white",
            "ticks": ""
           },
           "bgcolor": "#E5ECF6",
           "radialaxis": {
            "gridcolor": "white",
            "linecolor": "white",
            "ticks": ""
           }
          },
          "scene": {
           "xaxis": {
            "backgroundcolor": "#E5ECF6",
            "gridcolor": "white",
            "gridwidth": 2,
            "linecolor": "white",
            "showbackground": true,
            "ticks": "",
            "zerolinecolor": "white"
           },
           "yaxis": {
            "backgroundcolor": "#E5ECF6",
            "gridcolor": "white",
            "gridwidth": 2,
            "linecolor": "white",
            "showbackground": true,
            "ticks": "",
            "zerolinecolor": "white"
           },
           "zaxis": {
            "backgroundcolor": "#E5ECF6",
            "gridcolor": "white",
            "gridwidth": 2,
            "linecolor": "white",
            "showbackground": true,
            "ticks": "",
            "zerolinecolor": "white"
           }
          },
          "shapedefaults": {
           "line": {
            "color": "#2a3f5f"
           }
          },
          "ternary": {
           "aaxis": {
            "gridcolor": "white",
            "linecolor": "white",
            "ticks": ""
           },
           "baxis": {
            "gridcolor": "white",
            "linecolor": "white",
            "ticks": ""
           },
           "bgcolor": "#E5ECF6",
           "caxis": {
            "gridcolor": "white",
            "linecolor": "white",
            "ticks": ""
           }
          },
          "title": {
           "x": 0.05
          },
          "xaxis": {
           "automargin": true,
           "gridcolor": "white",
           "linecolor": "white",
           "ticks": "",
           "title": {
            "standoff": 15
           },
           "zerolinecolor": "white",
           "zerolinewidth": 2
          },
          "yaxis": {
           "automargin": true,
           "gridcolor": "white",
           "linecolor": "white",
           "ticks": "",
           "title": {
            "standoff": 15
           },
           "zerolinecolor": "white",
           "zerolinewidth": 2
          }
         }
        },
        "title": {
         "text": "Percentage of On Time and Delayed Trips per Day"
        },
        "xaxis": {
         "anchor": "y",
         "domain": [
          0,
          1
         ],
         "title": {
          "text": "date"
         }
        },
        "yaxis": {
         "anchor": "x",
         "domain": [
          0,
          1
         ],
         "title": {
          "text": "Percentage"
         }
        }
       }
      }
     },
     "metadata": {},
     "output_type": "display_data"
    }
   ],
   "source": [
    "# Calculate percentage of delays by severity\n",
    "daily_summary = unique_trips.groupby('date')['delay_severity'].value_counts(normalize=True).unstack() * 100\n",
    "\n",
    "# # Reset index to have date as a column\n",
    "daily_summary = daily_summary.reset_index()\n",
    "# # Melt the DataFrame for Plotly\n",
    "daily_summary_melted = daily_summary.melt(id_vars='date', value_vars=['Major',\t'Minor','On Time'], var_name='Status', value_name='Percentage')\n",
    "import plotly.express as px\n",
    "\n",
    "# Create the stacked bar plot\n",
    "fig = px.bar(daily_summary_melted, x='date', y='Percentage', color='Status', title='Percentage of On Time and Delayed Trips per Day')\n",
    "\n",
    "# Show the plot\n",
    "fig.show()\n"
   ]
  },
  {
   "cell_type": "code",
   "execution_count": 121,
   "metadata": {},
   "outputs": [
    {
     "data": {
      "text/html": [
       "<div>\n",
       "<style scoped>\n",
       "    .dataframe tbody tr th:only-of-type {\n",
       "        vertical-align: middle;\n",
       "    }\n",
       "\n",
       "    .dataframe tbody tr th {\n",
       "        vertical-align: top;\n",
       "    }\n",
       "\n",
       "    .dataframe thead th {\n",
       "        text-align: right;\n",
       "    }\n",
       "</style>\n",
       "<table border=\"1\" class=\"dataframe\">\n",
       "  <thead>\n",
       "    <tr style=\"text-align: right;\">\n",
       "      <th></th>\n",
       "      <th>date</th>\n",
       "      <th>Status</th>\n",
       "      <th>Percentage</th>\n",
       "    </tr>\n",
       "  </thead>\n",
       "  <tbody>\n",
       "    <tr>\n",
       "      <th>0</th>\n",
       "      <td>2024-07-07</td>\n",
       "      <td>Major</td>\n",
       "      <td>3.765690</td>\n",
       "    </tr>\n",
       "    <tr>\n",
       "      <th>1</th>\n",
       "      <td>2024-07-08</td>\n",
       "      <td>Major</td>\n",
       "      <td>5.177515</td>\n",
       "    </tr>\n",
       "    <tr>\n",
       "      <th>2</th>\n",
       "      <td>2024-07-09</td>\n",
       "      <td>Major</td>\n",
       "      <td>3.472222</td>\n",
       "    </tr>\n",
       "    <tr>\n",
       "      <th>3</th>\n",
       "      <td>2024-07-10</td>\n",
       "      <td>Major</td>\n",
       "      <td>6.762468</td>\n",
       "    </tr>\n",
       "    <tr>\n",
       "      <th>4</th>\n",
       "      <td>2024-07-11</td>\n",
       "      <td>Major</td>\n",
       "      <td>3.403141</td>\n",
       "    </tr>\n",
       "    <tr>\n",
       "      <th>5</th>\n",
       "      <td>2024-07-12</td>\n",
       "      <td>Major</td>\n",
       "      <td>4.878049</td>\n",
       "    </tr>\n",
       "    <tr>\n",
       "      <th>6</th>\n",
       "      <td>2024-07-13</td>\n",
       "      <td>Major</td>\n",
       "      <td>3.938356</td>\n",
       "    </tr>\n",
       "    <tr>\n",
       "      <th>7</th>\n",
       "      <td>2024-07-14</td>\n",
       "      <td>Major</td>\n",
       "      <td>7.361963</td>\n",
       "    </tr>\n",
       "    <tr>\n",
       "      <th>8</th>\n",
       "      <td>2024-07-07</td>\n",
       "      <td>Minor</td>\n",
       "      <td>4.184100</td>\n",
       "    </tr>\n",
       "    <tr>\n",
       "      <th>9</th>\n",
       "      <td>2024-07-08</td>\n",
       "      <td>Minor</td>\n",
       "      <td>0.813609</td>\n",
       "    </tr>\n",
       "    <tr>\n",
       "      <th>10</th>\n",
       "      <td>2024-07-09</td>\n",
       "      <td>Minor</td>\n",
       "      <td>1.157407</td>\n",
       "    </tr>\n",
       "    <tr>\n",
       "      <th>11</th>\n",
       "      <td>2024-07-10</td>\n",
       "      <td>Minor</td>\n",
       "      <td>1.267963</td>\n",
       "    </tr>\n",
       "    <tr>\n",
       "      <th>12</th>\n",
       "      <td>2024-07-11</td>\n",
       "      <td>Minor</td>\n",
       "      <td>1.047120</td>\n",
       "    </tr>\n",
       "    <tr>\n",
       "      <th>13</th>\n",
       "      <td>2024-07-12</td>\n",
       "      <td>Minor</td>\n",
       "      <td>1.108647</td>\n",
       "    </tr>\n",
       "    <tr>\n",
       "      <th>14</th>\n",
       "      <td>2024-07-13</td>\n",
       "      <td>Minor</td>\n",
       "      <td>0.856164</td>\n",
       "    </tr>\n",
       "    <tr>\n",
       "      <th>15</th>\n",
       "      <td>2024-07-14</td>\n",
       "      <td>Minor</td>\n",
       "      <td>2.453988</td>\n",
       "    </tr>\n",
       "    <tr>\n",
       "      <th>16</th>\n",
       "      <td>2024-07-07</td>\n",
       "      <td>On Time</td>\n",
       "      <td>92.050209</td>\n",
       "    </tr>\n",
       "    <tr>\n",
       "      <th>17</th>\n",
       "      <td>2024-07-08</td>\n",
       "      <td>On Time</td>\n",
       "      <td>94.008876</td>\n",
       "    </tr>\n",
       "    <tr>\n",
       "      <th>18</th>\n",
       "      <td>2024-07-09</td>\n",
       "      <td>On Time</td>\n",
       "      <td>95.370370</td>\n",
       "    </tr>\n",
       "    <tr>\n",
       "      <th>19</th>\n",
       "      <td>2024-07-10</td>\n",
       "      <td>On Time</td>\n",
       "      <td>91.969569</td>\n",
       "    </tr>\n",
       "    <tr>\n",
       "      <th>20</th>\n",
       "      <td>2024-07-11</td>\n",
       "      <td>On Time</td>\n",
       "      <td>95.549738</td>\n",
       "    </tr>\n",
       "    <tr>\n",
       "      <th>21</th>\n",
       "      <td>2024-07-12</td>\n",
       "      <td>On Time</td>\n",
       "      <td>94.013304</td>\n",
       "    </tr>\n",
       "    <tr>\n",
       "      <th>22</th>\n",
       "      <td>2024-07-13</td>\n",
       "      <td>On Time</td>\n",
       "      <td>95.205479</td>\n",
       "    </tr>\n",
       "    <tr>\n",
       "      <th>23</th>\n",
       "      <td>2024-07-14</td>\n",
       "      <td>On Time</td>\n",
       "      <td>90.184049</td>\n",
       "    </tr>\n",
       "  </tbody>\n",
       "</table>\n",
       "</div>"
      ],
      "text/plain": [
       "          date   Status  Percentage\n",
       "0   2024-07-07    Major    3.765690\n",
       "1   2024-07-08    Major    5.177515\n",
       "2   2024-07-09    Major    3.472222\n",
       "3   2024-07-10    Major    6.762468\n",
       "4   2024-07-11    Major    3.403141\n",
       "5   2024-07-12    Major    4.878049\n",
       "6   2024-07-13    Major    3.938356\n",
       "7   2024-07-14    Major    7.361963\n",
       "8   2024-07-07    Minor    4.184100\n",
       "9   2024-07-08    Minor    0.813609\n",
       "10  2024-07-09    Minor    1.157407\n",
       "11  2024-07-10    Minor    1.267963\n",
       "12  2024-07-11    Minor    1.047120\n",
       "13  2024-07-12    Minor    1.108647\n",
       "14  2024-07-13    Minor    0.856164\n",
       "15  2024-07-14    Minor    2.453988\n",
       "16  2024-07-07  On Time   92.050209\n",
       "17  2024-07-08  On Time   94.008876\n",
       "18  2024-07-09  On Time   95.370370\n",
       "19  2024-07-10  On Time   91.969569\n",
       "20  2024-07-11  On Time   95.549738\n",
       "21  2024-07-12  On Time   94.013304\n",
       "22  2024-07-13  On Time   95.205479\n",
       "23  2024-07-14  On Time   90.184049"
      ]
     },
     "execution_count": 121,
     "metadata": {},
     "output_type": "execute_result"
    }
   ],
   "source": [
    "daily_summary_melted"
   ]
  },
  {
   "cell_type": "code",
   "execution_count": 122,
   "metadata": {},
   "outputs": [
    {
     "data": {
      "application/vnd.plotly.v1+json": {
       "config": {
        "plotlyServerURL": "https://plot.ly"
       },
       "data": [
        {
         "alignmentgroup": "True",
         "hovertemplate": "Status=On Time<br>Date=%{x}<br>Percentage=%{y}<extra></extra>",
         "legendgroup": "On Time",
         "marker": {
          "color": "#00CC96",
          "pattern": {
           "shape": ""
          }
         },
         "name": "On Time",
         "offsetgroup": "On Time",
         "orientation": "v",
         "showlegend": true,
         "textposition": "auto",
         "type": "bar",
         "x": [
          "2024-07-07",
          "2024-07-08",
          "2024-07-09",
          "2024-07-10",
          "2024-07-11",
          "2024-07-12",
          "2024-07-13",
          "2024-07-14"
         ],
         "xaxis": "x",
         "y": [
          92.05020920502092,
          94.00887573964496,
          95.37037037037037,
          91.96956889264581,
          95.54973821989529,
          94.01330376940133,
          95.2054794520548,
          90.1840490797546
         ],
         "yaxis": "y"
        },
        {
         "alignmentgroup": "True",
         "hovertemplate": "Status=Minor Delay<br>Date=%{x}<br>Percentage=%{y}<extra></extra>",
         "legendgroup": "Minor Delay",
         "marker": {
          "color": "#FECB52",
          "pattern": {
           "shape": ""
          }
         },
         "name": "Minor Delay",
         "offsetgroup": "Minor Delay",
         "orientation": "v",
         "showlegend": true,
         "textposition": "auto",
         "type": "bar",
         "x": [
          "2024-07-07",
          "2024-07-08",
          "2024-07-09",
          "2024-07-10",
          "2024-07-11",
          "2024-07-12",
          "2024-07-13",
          "2024-07-14"
         ],
         "xaxis": "x",
         "y": [
          4.184100418410042,
          0.8136094674556213,
          1.1574074074074074,
          1.267962806424345,
          1.0471204188481675,
          1.1086474501108647,
          0.8561643835616438,
          2.4539877300613497
         ],
         "yaxis": "y"
        },
        {
         "alignmentgroup": "True",
         "hovertemplate": "Status=Major Delay<br>Date=%{x}<br>Percentage=%{y}<extra></extra>",
         "legendgroup": "Major Delay",
         "marker": {
          "color": "#EF553B",
          "pattern": {
           "shape": ""
          }
         },
         "name": "Major Delay",
         "offsetgroup": "Major Delay",
         "orientation": "v",
         "showlegend": true,
         "textposition": "auto",
         "type": "bar",
         "x": [
          "2024-07-07",
          "2024-07-08",
          "2024-07-09",
          "2024-07-10",
          "2024-07-11",
          "2024-07-12",
          "2024-07-13",
          "2024-07-14"
         ],
         "xaxis": "x",
         "y": [
          3.765690376569038,
          5.177514792899409,
          3.4722222222222223,
          6.76246830092984,
          3.4031413612565444,
          4.878048780487805,
          3.9383561643835616,
          7.361963190184049
         ],
         "yaxis": "y"
        }
       ],
       "layout": {
        "barmode": "relative",
        "legend": {
         "title": {
          "text": "Status"
         },
         "tracegroupgap": 0
        },
        "template": {
         "data": {
          "bar": [
           {
            "error_x": {
             "color": "#2a3f5f"
            },
            "error_y": {
             "color": "#2a3f5f"
            },
            "marker": {
             "line": {
              "color": "#E5ECF6",
              "width": 0.5
             },
             "pattern": {
              "fillmode": "overlay",
              "size": 10,
              "solidity": 0.2
             }
            },
            "type": "bar"
           }
          ],
          "barpolar": [
           {
            "marker": {
             "line": {
              "color": "#E5ECF6",
              "width": 0.5
             },
             "pattern": {
              "fillmode": "overlay",
              "size": 10,
              "solidity": 0.2
             }
            },
            "type": "barpolar"
           }
          ],
          "carpet": [
           {
            "aaxis": {
             "endlinecolor": "#2a3f5f",
             "gridcolor": "white",
             "linecolor": "white",
             "minorgridcolor": "white",
             "startlinecolor": "#2a3f5f"
            },
            "baxis": {
             "endlinecolor": "#2a3f5f",
             "gridcolor": "white",
             "linecolor": "white",
             "minorgridcolor": "white",
             "startlinecolor": "#2a3f5f"
            },
            "type": "carpet"
           }
          ],
          "choropleth": [
           {
            "colorbar": {
             "outlinewidth": 0,
             "ticks": ""
            },
            "type": "choropleth"
           }
          ],
          "contour": [
           {
            "colorbar": {
             "outlinewidth": 0,
             "ticks": ""
            },
            "colorscale": [
             [
              0,
              "#0d0887"
             ],
             [
              0.1111111111111111,
              "#46039f"
             ],
             [
              0.2222222222222222,
              "#7201a8"
             ],
             [
              0.3333333333333333,
              "#9c179e"
             ],
             [
              0.4444444444444444,
              "#bd3786"
             ],
             [
              0.5555555555555556,
              "#d8576b"
             ],
             [
              0.6666666666666666,
              "#ed7953"
             ],
             [
              0.7777777777777778,
              "#fb9f3a"
             ],
             [
              0.8888888888888888,
              "#fdca26"
             ],
             [
              1,
              "#f0f921"
             ]
            ],
            "type": "contour"
           }
          ],
          "contourcarpet": [
           {
            "colorbar": {
             "outlinewidth": 0,
             "ticks": ""
            },
            "type": "contourcarpet"
           }
          ],
          "heatmap": [
           {
            "colorbar": {
             "outlinewidth": 0,
             "ticks": ""
            },
            "colorscale": [
             [
              0,
              "#0d0887"
             ],
             [
              0.1111111111111111,
              "#46039f"
             ],
             [
              0.2222222222222222,
              "#7201a8"
             ],
             [
              0.3333333333333333,
              "#9c179e"
             ],
             [
              0.4444444444444444,
              "#bd3786"
             ],
             [
              0.5555555555555556,
              "#d8576b"
             ],
             [
              0.6666666666666666,
              "#ed7953"
             ],
             [
              0.7777777777777778,
              "#fb9f3a"
             ],
             [
              0.8888888888888888,
              "#fdca26"
             ],
             [
              1,
              "#f0f921"
             ]
            ],
            "type": "heatmap"
           }
          ],
          "heatmapgl": [
           {
            "colorbar": {
             "outlinewidth": 0,
             "ticks": ""
            },
            "colorscale": [
             [
              0,
              "#0d0887"
             ],
             [
              0.1111111111111111,
              "#46039f"
             ],
             [
              0.2222222222222222,
              "#7201a8"
             ],
             [
              0.3333333333333333,
              "#9c179e"
             ],
             [
              0.4444444444444444,
              "#bd3786"
             ],
             [
              0.5555555555555556,
              "#d8576b"
             ],
             [
              0.6666666666666666,
              "#ed7953"
             ],
             [
              0.7777777777777778,
              "#fb9f3a"
             ],
             [
              0.8888888888888888,
              "#fdca26"
             ],
             [
              1,
              "#f0f921"
             ]
            ],
            "type": "heatmapgl"
           }
          ],
          "histogram": [
           {
            "marker": {
             "pattern": {
              "fillmode": "overlay",
              "size": 10,
              "solidity": 0.2
             }
            },
            "type": "histogram"
           }
          ],
          "histogram2d": [
           {
            "colorbar": {
             "outlinewidth": 0,
             "ticks": ""
            },
            "colorscale": [
             [
              0,
              "#0d0887"
             ],
             [
              0.1111111111111111,
              "#46039f"
             ],
             [
              0.2222222222222222,
              "#7201a8"
             ],
             [
              0.3333333333333333,
              "#9c179e"
             ],
             [
              0.4444444444444444,
              "#bd3786"
             ],
             [
              0.5555555555555556,
              "#d8576b"
             ],
             [
              0.6666666666666666,
              "#ed7953"
             ],
             [
              0.7777777777777778,
              "#fb9f3a"
             ],
             [
              0.8888888888888888,
              "#fdca26"
             ],
             [
              1,
              "#f0f921"
             ]
            ],
            "type": "histogram2d"
           }
          ],
          "histogram2dcontour": [
           {
            "colorbar": {
             "outlinewidth": 0,
             "ticks": ""
            },
            "colorscale": [
             [
              0,
              "#0d0887"
             ],
             [
              0.1111111111111111,
              "#46039f"
             ],
             [
              0.2222222222222222,
              "#7201a8"
             ],
             [
              0.3333333333333333,
              "#9c179e"
             ],
             [
              0.4444444444444444,
              "#bd3786"
             ],
             [
              0.5555555555555556,
              "#d8576b"
             ],
             [
              0.6666666666666666,
              "#ed7953"
             ],
             [
              0.7777777777777778,
              "#fb9f3a"
             ],
             [
              0.8888888888888888,
              "#fdca26"
             ],
             [
              1,
              "#f0f921"
             ]
            ],
            "type": "histogram2dcontour"
           }
          ],
          "mesh3d": [
           {
            "colorbar": {
             "outlinewidth": 0,
             "ticks": ""
            },
            "type": "mesh3d"
           }
          ],
          "parcoords": [
           {
            "line": {
             "colorbar": {
              "outlinewidth": 0,
              "ticks": ""
             }
            },
            "type": "parcoords"
           }
          ],
          "pie": [
           {
            "automargin": true,
            "type": "pie"
           }
          ],
          "scatter": [
           {
            "fillpattern": {
             "fillmode": "overlay",
             "size": 10,
             "solidity": 0.2
            },
            "type": "scatter"
           }
          ],
          "scatter3d": [
           {
            "line": {
             "colorbar": {
              "outlinewidth": 0,
              "ticks": ""
             }
            },
            "marker": {
             "colorbar": {
              "outlinewidth": 0,
              "ticks": ""
             }
            },
            "type": "scatter3d"
           }
          ],
          "scattercarpet": [
           {
            "marker": {
             "colorbar": {
              "outlinewidth": 0,
              "ticks": ""
             }
            },
            "type": "scattercarpet"
           }
          ],
          "scattergeo": [
           {
            "marker": {
             "colorbar": {
              "outlinewidth": 0,
              "ticks": ""
             }
            },
            "type": "scattergeo"
           }
          ],
          "scattergl": [
           {
            "marker": {
             "colorbar": {
              "outlinewidth": 0,
              "ticks": ""
             }
            },
            "type": "scattergl"
           }
          ],
          "scattermapbox": [
           {
            "marker": {
             "colorbar": {
              "outlinewidth": 0,
              "ticks": ""
             }
            },
            "type": "scattermapbox"
           }
          ],
          "scatterpolar": [
           {
            "marker": {
             "colorbar": {
              "outlinewidth": 0,
              "ticks": ""
             }
            },
            "type": "scatterpolar"
           }
          ],
          "scatterpolargl": [
           {
            "marker": {
             "colorbar": {
              "outlinewidth": 0,
              "ticks": ""
             }
            },
            "type": "scatterpolargl"
           }
          ],
          "scatterternary": [
           {
            "marker": {
             "colorbar": {
              "outlinewidth": 0,
              "ticks": ""
             }
            },
            "type": "scatterternary"
           }
          ],
          "surface": [
           {
            "colorbar": {
             "outlinewidth": 0,
             "ticks": ""
            },
            "colorscale": [
             [
              0,
              "#0d0887"
             ],
             [
              0.1111111111111111,
              "#46039f"
             ],
             [
              0.2222222222222222,
              "#7201a8"
             ],
             [
              0.3333333333333333,
              "#9c179e"
             ],
             [
              0.4444444444444444,
              "#bd3786"
             ],
             [
              0.5555555555555556,
              "#d8576b"
             ],
             [
              0.6666666666666666,
              "#ed7953"
             ],
             [
              0.7777777777777778,
              "#fb9f3a"
             ],
             [
              0.8888888888888888,
              "#fdca26"
             ],
             [
              1,
              "#f0f921"
             ]
            ],
            "type": "surface"
           }
          ],
          "table": [
           {
            "cells": {
             "fill": {
              "color": "#EBF0F8"
             },
             "line": {
              "color": "white"
             }
            },
            "header": {
             "fill": {
              "color": "#C8D4E3"
             },
             "line": {
              "color": "white"
             }
            },
            "type": "table"
           }
          ]
         },
         "layout": {
          "annotationdefaults": {
           "arrowcolor": "#2a3f5f",
           "arrowhead": 0,
           "arrowwidth": 1
          },
          "autotypenumbers": "strict",
          "coloraxis": {
           "colorbar": {
            "outlinewidth": 0,
            "ticks": ""
           }
          },
          "colorscale": {
           "diverging": [
            [
             0,
             "#8e0152"
            ],
            [
             0.1,
             "#c51b7d"
            ],
            [
             0.2,
             "#de77ae"
            ],
            [
             0.3,
             "#f1b6da"
            ],
            [
             0.4,
             "#fde0ef"
            ],
            [
             0.5,
             "#f7f7f7"
            ],
            [
             0.6,
             "#e6f5d0"
            ],
            [
             0.7,
             "#b8e186"
            ],
            [
             0.8,
             "#7fbc41"
            ],
            [
             0.9,
             "#4d9221"
            ],
            [
             1,
             "#276419"
            ]
           ],
           "sequential": [
            [
             0,
             "#0d0887"
            ],
            [
             0.1111111111111111,
             "#46039f"
            ],
            [
             0.2222222222222222,
             "#7201a8"
            ],
            [
             0.3333333333333333,
             "#9c179e"
            ],
            [
             0.4444444444444444,
             "#bd3786"
            ],
            [
             0.5555555555555556,
             "#d8576b"
            ],
            [
             0.6666666666666666,
             "#ed7953"
            ],
            [
             0.7777777777777778,
             "#fb9f3a"
            ],
            [
             0.8888888888888888,
             "#fdca26"
            ],
            [
             1,
             "#f0f921"
            ]
           ],
           "sequentialminus": [
            [
             0,
             "#0d0887"
            ],
            [
             0.1111111111111111,
             "#46039f"
            ],
            [
             0.2222222222222222,
             "#7201a8"
            ],
            [
             0.3333333333333333,
             "#9c179e"
            ],
            [
             0.4444444444444444,
             "#bd3786"
            ],
            [
             0.5555555555555556,
             "#d8576b"
            ],
            [
             0.6666666666666666,
             "#ed7953"
            ],
            [
             0.7777777777777778,
             "#fb9f3a"
            ],
            [
             0.8888888888888888,
             "#fdca26"
            ],
            [
             1,
             "#f0f921"
            ]
           ]
          },
          "colorway": [
           "#636efa",
           "#EF553B",
           "#00cc96",
           "#ab63fa",
           "#FFA15A",
           "#19d3f3",
           "#FF6692",
           "#B6E880",
           "#FF97FF",
           "#FECB52"
          ],
          "font": {
           "color": "#2a3f5f"
          },
          "geo": {
           "bgcolor": "white",
           "lakecolor": "white",
           "landcolor": "#E5ECF6",
           "showlakes": true,
           "showland": true,
           "subunitcolor": "white"
          },
          "hoverlabel": {
           "align": "left"
          },
          "hovermode": "closest",
          "mapbox": {
           "style": "light"
          },
          "paper_bgcolor": "white",
          "plot_bgcolor": "#E5ECF6",
          "polar": {
           "angularaxis": {
            "gridcolor": "white",
            "linecolor": "white",
            "ticks": ""
           },
           "bgcolor": "#E5ECF6",
           "radialaxis": {
            "gridcolor": "white",
            "linecolor": "white",
            "ticks": ""
           }
          },
          "scene": {
           "xaxis": {
            "backgroundcolor": "#E5ECF6",
            "gridcolor": "white",
            "gridwidth": 2,
            "linecolor": "white",
            "showbackground": true,
            "ticks": "",
            "zerolinecolor": "white"
           },
           "yaxis": {
            "backgroundcolor": "#E5ECF6",
            "gridcolor": "white",
            "gridwidth": 2,
            "linecolor": "white",
            "showbackground": true,
            "ticks": "",
            "zerolinecolor": "white"
           },
           "zaxis": {
            "backgroundcolor": "#E5ECF6",
            "gridcolor": "white",
            "gridwidth": 2,
            "linecolor": "white",
            "showbackground": true,
            "ticks": "",
            "zerolinecolor": "white"
           }
          },
          "shapedefaults": {
           "line": {
            "color": "#2a3f5f"
           }
          },
          "ternary": {
           "aaxis": {
            "gridcolor": "white",
            "linecolor": "white",
            "ticks": ""
           },
           "baxis": {
            "gridcolor": "white",
            "linecolor": "white",
            "ticks": ""
           },
           "bgcolor": "#E5ECF6",
           "caxis": {
            "gridcolor": "white",
            "linecolor": "white",
            "ticks": ""
           }
          },
          "title": {
           "x": 0.05
          },
          "xaxis": {
           "automargin": true,
           "gridcolor": "white",
           "linecolor": "white",
           "ticks": "",
           "title": {
            "standoff": 15
           },
           "zerolinecolor": "white",
           "zerolinewidth": 2
          },
          "yaxis": {
           "automargin": true,
           "gridcolor": "white",
           "linecolor": "white",
           "ticks": "",
           "title": {
            "standoff": 15
           },
           "zerolinecolor": "white",
           "zerolinewidth": 2
          }
         }
        },
        "title": {
         "text": "On-time performance by date"
        },
        "xaxis": {
         "anchor": "y",
         "domain": [
          0,
          1
         ],
         "title": {
          "text": "Date"
         }
        },
        "yaxis": {
         "anchor": "x",
         "domain": [
          0,
          1
         ],
         "title": {
          "text": "Percentage"
         }
        }
       }
      }
     },
     "metadata": {},
     "output_type": "display_data"
    }
   ],
   "source": [
    "import pandas as pd\n",
    "import plotly.express as px\n",
    "\n",
    "# Calculate percentage of delays by severity\n",
    "daily_summary = unique_trips.groupby('date')['delay_severity'].value_counts(normalize=True).unstack() * 100\n",
    "\n",
    "# Reset index to have date as a column\n",
    "daily_summary = daily_summary.reset_index()\n",
    "\n",
    "# Melt the DataFrame for Plotly\n",
    "daily_summary_melted = daily_summary.melt(id_vars='date', value_vars=['Major', 'Minor', 'On Time'], var_name='Status', value_name='Percentage')\n",
    "\n",
    "# Define the order of the Status items\n",
    "status_order = ['On Time', 'Minor Delay', 'Major Delay']\n",
    "daily_summary_melted.loc[daily_summary_melted.Status == 'Major','Status']='Major Delay'\n",
    "daily_summary_melted.loc[daily_summary_melted.Status == 'Minor','Status']='Minor Delay'\n",
    "# Define custom colors for each Status\n",
    "status_colors = {\n",
    "    'On Time': '#00CC96',\n",
    "    'Minor Delay': '#FECB52',\n",
    "    'Major Delay': '#EF553B'\n",
    "}\n",
    "\n",
    "# Create the stacked bar plot\n",
    "fig = px.bar(daily_summary_melted, x='date', y='Percentage', color='Status', \n",
    "             title='On-time performance by date',\n",
    "             category_orders={'Status': status_order},\n",
    "             color_discrete_map=status_colors,labels={'date': 'Date', 'percentage': 'Percentage','Minor':'Minor Delay'})\n",
    "\n",
    "# Show the plot\n",
    "fig.show()\n",
    "\n"
   ]
  },
  {
   "cell_type": "code",
   "execution_count": null,
   "metadata": {},
   "outputs": [],
   "source": []
  }
 ],
 "metadata": {
  "kernelspec": {
   "display_name": "caltrain",
   "language": "python",
   "name": "python3"
  },
  "language_info": {
   "codemirror_mode": {
    "name": "ipython",
    "version": 3
   },
   "file_extension": ".py",
   "mimetype": "text/x-python",
   "name": "python",
   "nbconvert_exporter": "python",
   "pygments_lexer": "ipython3",
   "version": "3.12.4"
  }
 },
 "nbformat": 4,
 "nbformat_minor": 2
}
